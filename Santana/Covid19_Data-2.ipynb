{
  "nbformat": 4,
  "nbformat_minor": 0,
  "metadata": {
    "colab": {
      "name": "Covid19-Data.ipynb",
      "provenance": [],
      "collapsed_sections": [
        "MckRJJ-8ZfmA",
        "wwfpfwteuVRl",
        "OU7j7FHRjCte",
        "qI2I-tdFscPL",
        "qY_8UHuidyo-",
        "x5Ews9iuChAb",
        "BoT8HqBXVyCz",
        "rGiNTOMk1vB2",
        "cTH5Qzdq5Tk-",
        "F3NPxBdAT0io",
        "S2dKKRGnXUe1",
        "LlzRQxezd2FT",
        "FpABuTsalnvA"
      ]
    },
    "kernelspec": {
      "name": "python3",
      "display_name": "Python 3"
    }
  },
  "cells": [
    {
      "cell_type": "markdown",
      "metadata": {
        "id": "BfcxAZVY3QVN",
        "colab_type": "text"
      },
      "source": [
        "Importing packages"
      ]
    },
    {
      "cell_type": "code",
      "metadata": {
        "id": "1NMwFYUzOsTJ",
        "colab_type": "code",
        "outputId": "f617a1c6-9fbc-4f06-f02c-c32a074368bc",
        "colab": {
          "base_uri": "https://localhost:8080/",
          "height": 69
        }
      },
      "source": [
        "import pandas as pd\n",
        "import numpy as np\n",
        "import seaborn as sns\n",
        "import matplotlib.pyplot as plt"
      ],
      "execution_count": 1,
      "outputs": [
        {
          "output_type": "stream",
          "text": [
            "/usr/local/lib/python3.6/dist-packages/statsmodels/tools/_testing.py:19: FutureWarning: pandas.util.testing is deprecated. Use the functions in the public API at pandas.testing instead.\n",
            "  import pandas.util.testing as tm\n"
          ],
          "name": "stderr"
        }
      ]
    },
    {
      "cell_type": "markdown",
      "metadata": {
        "id": "MckRJJ-8ZfmA",
        "colab_type": "text"
      },
      "source": [
        "## Target-US counties cases, could use to grab how our state compares to other local states and states we are trying to emulate. link- https://www.kaggle.com/fireballbyedimyrnmom/us-counties-covid-19-dataset , http://coronavirusapi.com"
      ]
    },
    {
      "cell_type": "markdown",
      "metadata": {
        "id": "pOscXIYardCQ",
        "colab_type": "text"
      },
      "source": [
        "problem definition - using county cases to show how we comp to other citys similar to ours and how as a state we comp to other state we are similar to "
      ]
    },
    {
      "cell_type": "code",
      "metadata": {
        "id": "N8v7n6eeZqxC",
        "colab_type": "code",
        "outputId": "b51debb2-b2cc-4261-e693-b491ae560a5d",
        "colab": {
          "base_uri": "https://localhost:8080/",
          "height": 336
        }
      },
      "source": [
        "c_df = pd.read_csv('/content/drive/My Drive/COVID19 Capstone/us-counties.csv')\n",
        "print(c_df.shape)\n",
        "print(c_df.columns)\n",
        "c_df.head()"
      ],
      "execution_count": 2,
      "outputs": [
        {
          "output_type": "stream",
          "text": [
            "(48509, 6)\n",
            "Index(['date', 'county', 'state', 'fips', 'cases', 'deaths'], dtype='object')\n"
          ],
          "name": "stdout"
        },
        {
          "output_type": "execute_result",
          "data": {
            "text/html": [
              "<div>\n",
              "<style scoped>\n",
              "    .dataframe tbody tr th:only-of-type {\n",
              "        vertical-align: middle;\n",
              "    }\n",
              "\n",
              "    .dataframe tbody tr th {\n",
              "        vertical-align: top;\n",
              "    }\n",
              "\n",
              "    .dataframe thead th {\n",
              "        text-align: right;\n",
              "    }\n",
              "</style>\n",
              "<table border=\"1\" class=\"dataframe\">\n",
              "  <thead>\n",
              "    <tr style=\"text-align: right;\">\n",
              "      <th></th>\n",
              "      <th>date</th>\n",
              "      <th>county</th>\n",
              "      <th>state</th>\n",
              "      <th>fips</th>\n",
              "      <th>cases</th>\n",
              "      <th>deaths</th>\n",
              "    </tr>\n",
              "  </thead>\n",
              "  <tbody>\n",
              "    <tr>\n",
              "      <th>0</th>\n",
              "      <td>2020-01-21</td>\n",
              "      <td>Snohomish</td>\n",
              "      <td>Washington</td>\n",
              "      <td>53061.0</td>\n",
              "      <td>1</td>\n",
              "      <td>0</td>\n",
              "    </tr>\n",
              "    <tr>\n",
              "      <th>1</th>\n",
              "      <td>2020-01-22</td>\n",
              "      <td>Snohomish</td>\n",
              "      <td>Washington</td>\n",
              "      <td>53061.0</td>\n",
              "      <td>1</td>\n",
              "      <td>0</td>\n",
              "    </tr>\n",
              "    <tr>\n",
              "      <th>2</th>\n",
              "      <td>2020-01-23</td>\n",
              "      <td>Snohomish</td>\n",
              "      <td>Washington</td>\n",
              "      <td>53061.0</td>\n",
              "      <td>1</td>\n",
              "      <td>0</td>\n",
              "    </tr>\n",
              "    <tr>\n",
              "      <th>3</th>\n",
              "      <td>2020-01-24</td>\n",
              "      <td>Cook</td>\n",
              "      <td>Illinois</td>\n",
              "      <td>17031.0</td>\n",
              "      <td>1</td>\n",
              "      <td>0</td>\n",
              "    </tr>\n",
              "    <tr>\n",
              "      <th>4</th>\n",
              "      <td>2020-01-24</td>\n",
              "      <td>Snohomish</td>\n",
              "      <td>Washington</td>\n",
              "      <td>53061.0</td>\n",
              "      <td>1</td>\n",
              "      <td>0</td>\n",
              "    </tr>\n",
              "  </tbody>\n",
              "</table>\n",
              "</div>"
            ],
            "text/plain": [
              "         date     county       state     fips  cases  deaths\n",
              "0  2020-01-21  Snohomish  Washington  53061.0      1       0\n",
              "1  2020-01-22  Snohomish  Washington  53061.0      1       0\n",
              "2  2020-01-23  Snohomish  Washington  53061.0      1       0\n",
              "3  2020-01-24       Cook    Illinois  17031.0      1       0\n",
              "4  2020-01-24  Snohomish  Washington  53061.0      1       0"
            ]
          },
          "metadata": {
            "tags": []
          },
          "execution_count": 2
        }
      ]
    },
    {
      "cell_type": "code",
      "metadata": {
        "id": "YrrJYeq98Ov1",
        "colab_type": "code",
        "colab": {}
      },
      "source": [
        "c_df['date'] = pd.to_datetime(c_df['date'])"
      ],
      "execution_count": 0,
      "outputs": []
    },
    {
      "cell_type": "markdown",
      "metadata": {
        "id": "wwfpfwteuVRl",
        "colab_type": "text"
      },
      "source": [
        "### albuquerque metro area dfs"
      ]
    },
    {
      "cell_type": "code",
      "metadata": {
        "id": "ko5v5kDTA7F6",
        "colab_type": "code",
        "outputId": "8c110f58-baf6-4daf-a2bd-c95e165c05df",
        "colab": {
          "base_uri": "https://localhost:8080/",
          "height": 320
        }
      },
      "source": [
        "nm_df = c_df[c_df['state']=='New Mexico']\n",
        "print(nm_df.shape)\n",
        "nm_df.head()"
      ],
      "execution_count": 4,
      "outputs": [
        {
          "output_type": "stream",
          "text": [
            "(435, 6)\n"
          ],
          "name": "stdout"
        },
        {
          "output_type": "execute_result",
          "data": {
            "text/html": [
              "<div>\n",
              "<style scoped>\n",
              "    .dataframe tbody tr th:only-of-type {\n",
              "        vertical-align: middle;\n",
              "    }\n",
              "\n",
              "    .dataframe tbody tr th {\n",
              "        vertical-align: top;\n",
              "    }\n",
              "\n",
              "    .dataframe thead th {\n",
              "        text-align: right;\n",
              "    }\n",
              "</style>\n",
              "<table border=\"1\" class=\"dataframe\">\n",
              "  <thead>\n",
              "    <tr style=\"text-align: right;\">\n",
              "      <th></th>\n",
              "      <th>date</th>\n",
              "      <th>county</th>\n",
              "      <th>state</th>\n",
              "      <th>fips</th>\n",
              "      <th>cases</th>\n",
              "      <th>deaths</th>\n",
              "    </tr>\n",
              "  </thead>\n",
              "  <tbody>\n",
              "    <tr>\n",
              "      <th>1280</th>\n",
              "      <td>2020-03-11</td>\n",
              "      <td>Bernalillo</td>\n",
              "      <td>New Mexico</td>\n",
              "      <td>35001.0</td>\n",
              "      <td>1</td>\n",
              "      <td>0</td>\n",
              "    </tr>\n",
              "    <tr>\n",
              "      <th>1281</th>\n",
              "      <td>2020-03-11</td>\n",
              "      <td>Santa Fe</td>\n",
              "      <td>New Mexico</td>\n",
              "      <td>35049.0</td>\n",
              "      <td>1</td>\n",
              "      <td>0</td>\n",
              "    </tr>\n",
              "    <tr>\n",
              "      <th>1282</th>\n",
              "      <td>2020-03-11</td>\n",
              "      <td>Socorro</td>\n",
              "      <td>New Mexico</td>\n",
              "      <td>35053.0</td>\n",
              "      <td>2</td>\n",
              "      <td>0</td>\n",
              "    </tr>\n",
              "    <tr>\n",
              "      <th>1512</th>\n",
              "      <td>2020-03-12</td>\n",
              "      <td>Bernalillo</td>\n",
              "      <td>New Mexico</td>\n",
              "      <td>35001.0</td>\n",
              "      <td>2</td>\n",
              "      <td>0</td>\n",
              "    </tr>\n",
              "    <tr>\n",
              "      <th>1513</th>\n",
              "      <td>2020-03-12</td>\n",
              "      <td>Santa Fe</td>\n",
              "      <td>New Mexico</td>\n",
              "      <td>35049.0</td>\n",
              "      <td>2</td>\n",
              "      <td>0</td>\n",
              "    </tr>\n",
              "  </tbody>\n",
              "</table>\n",
              "</div>"
            ],
            "text/plain": [
              "           date      county       state     fips  cases  deaths\n",
              "1280 2020-03-11  Bernalillo  New Mexico  35001.0      1       0\n",
              "1281 2020-03-11    Santa Fe  New Mexico  35049.0      1       0\n",
              "1282 2020-03-11     Socorro  New Mexico  35053.0      2       0\n",
              "1512 2020-03-12  Bernalillo  New Mexico  35001.0      2       0\n",
              "1513 2020-03-12    Santa Fe  New Mexico  35049.0      2       0"
            ]
          },
          "metadata": {
            "tags": []
          },
          "execution_count": 4
        }
      ]
    },
    {
      "cell_type": "code",
      "metadata": {
        "id": "O1vCmlkKBDhd",
        "colab_type": "code",
        "outputId": "63911787-1d40-4b8c-f98b-0bbb1f537b91",
        "colab": {
          "base_uri": "https://localhost:8080/",
          "height": 102
        }
      },
      "source": [
        "print(nm_df.county.unique())"
      ],
      "execution_count": 5,
      "outputs": [
        {
          "output_type": "stream",
          "text": [
            "['Bernalillo' 'Santa Fe' 'Socorro' 'Sandoval' 'Taos' 'San Miguel'\n",
            " 'Doña Ana' 'McKinley' 'Lea' 'San Juan' 'Chaves' 'Cibola' 'Curry' 'Eddy'\n",
            " 'Rio Arriba' 'Roosevelt' 'Valencia' 'Torrance' 'Catron' 'Grant' 'Otero'\n",
            " 'Unknown' 'Lincoln' 'Los Alamos' 'Colfax' 'Hidalgo' 'Luna']\n"
          ],
          "name": "stdout"
        }
      ]
    },
    {
      "cell_type": "code",
      "metadata": {
        "id": "vHX3sfqUeeXN",
        "colab_type": "code",
        "outputId": "5b107900-1cb6-49aa-9def-82e71b6f988d",
        "colab": {
          "base_uri": "https://localhost:8080/",
          "height": 102
        }
      },
      "source": [
        "abq_df = nm_df[nm_df['county'].str.contains('Bernalillo')].copy(deep=True)\n",
        "san_df = nm_df[nm_df['county'].str.contains('Sandoval')].copy(deep=True)\n",
        "tor_df = nm_df[nm_df['county'].str.contains('Torrance')].copy(deep=True)\n",
        "val_df = nm_df[nm_df['county'].str.contains('Valencia')].copy(deep=True)\n",
        "print(abq_df.shape)\n",
        "print(san_df.shape)\n",
        "print(tor_df.shape)\n",
        "print(val_df.shape)"
      ],
      "execution_count": 6,
      "outputs": [
        {
          "output_type": "stream",
          "text": [
            "(31, 6)\n",
            "(28, 6)\n",
            "(12, 6)\n",
            "(15, 6)\n"
          ],
          "name": "stdout"
        }
      ]
    },
    {
      "cell_type": "markdown",
      "metadata": {
        "id": "xJ4jI4McueYs",
        "colab_type": "text"
      },
      "source": [
        "Converting date column to datetime format"
      ]
    },
    {
      "cell_type": "code",
      "metadata": {
        "id": "ChLCjVegj2jr",
        "colab_type": "code",
        "outputId": "ab537ecf-e990-4ddb-b7e2-08d23a207671",
        "colab": {
          "base_uri": "https://localhost:8080/",
          "height": 418
        }
      },
      "source": [
        "print(abq_df.dtypes)\n",
        "abq_df.head()"
      ],
      "execution_count": 7,
      "outputs": [
        {
          "output_type": "stream",
          "text": [
            "date      datetime64[ns]\n",
            "county            object\n",
            "state             object\n",
            "fips             float64\n",
            "cases              int64\n",
            "deaths             int64\n",
            "dtype: object\n"
          ],
          "name": "stdout"
        },
        {
          "output_type": "execute_result",
          "data": {
            "text/html": [
              "<div>\n",
              "<style scoped>\n",
              "    .dataframe tbody tr th:only-of-type {\n",
              "        vertical-align: middle;\n",
              "    }\n",
              "\n",
              "    .dataframe tbody tr th {\n",
              "        vertical-align: top;\n",
              "    }\n",
              "\n",
              "    .dataframe thead th {\n",
              "        text-align: right;\n",
              "    }\n",
              "</style>\n",
              "<table border=\"1\" class=\"dataframe\">\n",
              "  <thead>\n",
              "    <tr style=\"text-align: right;\">\n",
              "      <th></th>\n",
              "      <th>date</th>\n",
              "      <th>county</th>\n",
              "      <th>state</th>\n",
              "      <th>fips</th>\n",
              "      <th>cases</th>\n",
              "      <th>deaths</th>\n",
              "    </tr>\n",
              "  </thead>\n",
              "  <tbody>\n",
              "    <tr>\n",
              "      <th>1280</th>\n",
              "      <td>2020-03-11</td>\n",
              "      <td>Bernalillo</td>\n",
              "      <td>New Mexico</td>\n",
              "      <td>35001.0</td>\n",
              "      <td>1</td>\n",
              "      <td>0</td>\n",
              "    </tr>\n",
              "    <tr>\n",
              "      <th>1512</th>\n",
              "      <td>2020-03-12</td>\n",
              "      <td>Bernalillo</td>\n",
              "      <td>New Mexico</td>\n",
              "      <td>35001.0</td>\n",
              "      <td>2</td>\n",
              "      <td>0</td>\n",
              "    </tr>\n",
              "    <tr>\n",
              "      <th>1805</th>\n",
              "      <td>2020-03-13</td>\n",
              "      <td>Bernalillo</td>\n",
              "      <td>New Mexico</td>\n",
              "      <td>35001.0</td>\n",
              "      <td>5</td>\n",
              "      <td>0</td>\n",
              "    </tr>\n",
              "    <tr>\n",
              "      <th>2152</th>\n",
              "      <td>2020-03-14</td>\n",
              "      <td>Bernalillo</td>\n",
              "      <td>New Mexico</td>\n",
              "      <td>35001.0</td>\n",
              "      <td>6</td>\n",
              "      <td>0</td>\n",
              "    </tr>\n",
              "    <tr>\n",
              "      <th>2560</th>\n",
              "      <td>2020-03-15</td>\n",
              "      <td>Bernalillo</td>\n",
              "      <td>New Mexico</td>\n",
              "      <td>35001.0</td>\n",
              "      <td>10</td>\n",
              "      <td>0</td>\n",
              "    </tr>\n",
              "  </tbody>\n",
              "</table>\n",
              "</div>"
            ],
            "text/plain": [
              "           date      county       state     fips  cases  deaths\n",
              "1280 2020-03-11  Bernalillo  New Mexico  35001.0      1       0\n",
              "1512 2020-03-12  Bernalillo  New Mexico  35001.0      2       0\n",
              "1805 2020-03-13  Bernalillo  New Mexico  35001.0      5       0\n",
              "2152 2020-03-14  Bernalillo  New Mexico  35001.0      6       0\n",
              "2560 2020-03-15  Bernalillo  New Mexico  35001.0     10       0"
            ]
          },
          "metadata": {
            "tags": []
          },
          "execution_count": 7
        }
      ]
    },
    {
      "cell_type": "code",
      "metadata": {
        "id": "q2CHlz9JrDvl",
        "colab_type": "code",
        "outputId": "c39f06b2-590a-4269-a522-5c8d25cd6b68",
        "colab": {
          "base_uri": "https://localhost:8080/",
          "height": 52
        }
      },
      "source": [
        "plt.figure(figsize=[15,10])\n",
        "\n",
        "bern = plt.plot(abq_df['date'],abq_df['cases'], label= 'Bernalillo', )\n",
        "san = plt.plot(san_df['date'],san_df['cases'], label= 'Sandoval')\n",
        "val = plt.plot(val_df['date'],val_df['cases'], label= 'Valencia')\n",
        "tor = plt.plot(tor_df['date'],tor_df['cases'], label= 'Torrance')\n",
        "\n",
        "plt.yscale('log')\n",
        "plt.xlabel('Weekly Dates', fontsize=15)\n",
        "plt.ylabel('Number of cases', fontsize=15)\n",
        "plt.title('Cases in Albuquerque Metropolitan Area', fontsize=25)\n",
        "plt.axvline(pd.to_datetime('2020-3-24'), color='purple', linestyle= '--', label='Stay At Home Orders Effective Date')\n",
        "plt.legend(borderpad=2, labelspacing=2,fontsize=10);"
      ],
      "execution_count": 8,
      "outputs": [
        {
          "output_type": "display_data",
          "data": {
            "image/png": "[encoded data removed]",
            "text/plain": [
              "<Figure size 1080x720 with 1 Axes>"
            ]
          },
          "metadata": {
            "tags": [],
            "needs_background": "light"
          }
        }
      ]
    },
    {
      "cell_type": "markdown",
      "metadata": {
        "id": "OU7j7FHRjCte",
        "colab_type": "text"
      },
      "source": [
        "### Arizona metro data"
      ]
    },
    {
      "cell_type": "code",
      "metadata": {
        "id": "sigEb1V0jFRt",
        "colab_type": "code",
        "outputId": "95128b95-616a-4408-e70a-201d9a2c9480",
        "colab": {
          "base_uri": "https://localhost:8080/",
          "height": 320
        }
      },
      "source": [
        "ariz_df = c_df[c_df['state']=='Arizona']\n",
        "print(ariz_df.shape)\n",
        "ariz_df.head()"
      ],
      "execution_count": 9,
      "outputs": [
        {
          "output_type": "stream",
          "text": [
            "(396, 6)\n"
          ],
          "name": "stdout"
        },
        {
          "output_type": "execute_result",
          "data": {
            "text/html": [
              "<div>\n",
              "<style scoped>\n",
              "    .dataframe tbody tr th:only-of-type {\n",
              "        vertical-align: middle;\n",
              "    }\n",
              "\n",
              "    .dataframe tbody tr th {\n",
              "        vertical-align: top;\n",
              "    }\n",
              "\n",
              "    .dataframe thead th {\n",
              "        text-align: right;\n",
              "    }\n",
              "</style>\n",
              "<table border=\"1\" class=\"dataframe\">\n",
              "  <thead>\n",
              "    <tr style=\"text-align: right;\">\n",
              "      <th></th>\n",
              "      <th>date</th>\n",
              "      <th>county</th>\n",
              "      <th>state</th>\n",
              "      <th>fips</th>\n",
              "      <th>cases</th>\n",
              "      <th>deaths</th>\n",
              "    </tr>\n",
              "  </thead>\n",
              "  <tbody>\n",
              "    <tr>\n",
              "      <th>8</th>\n",
              "      <td>2020-01-26</td>\n",
              "      <td>Maricopa</td>\n",
              "      <td>Arizona</td>\n",
              "      <td>4013.0</td>\n",
              "      <td>1</td>\n",
              "      <td>0</td>\n",
              "    </tr>\n",
              "    <tr>\n",
              "      <th>13</th>\n",
              "      <td>2020-01-27</td>\n",
              "      <td>Maricopa</td>\n",
              "      <td>Arizona</td>\n",
              "      <td>4013.0</td>\n",
              "      <td>1</td>\n",
              "      <td>0</td>\n",
              "    </tr>\n",
              "    <tr>\n",
              "      <th>18</th>\n",
              "      <td>2020-01-28</td>\n",
              "      <td>Maricopa</td>\n",
              "      <td>Arizona</td>\n",
              "      <td>4013.0</td>\n",
              "      <td>1</td>\n",
              "      <td>0</td>\n",
              "    </tr>\n",
              "    <tr>\n",
              "      <th>23</th>\n",
              "      <td>2020-01-29</td>\n",
              "      <td>Maricopa</td>\n",
              "      <td>Arizona</td>\n",
              "      <td>4013.0</td>\n",
              "      <td>1</td>\n",
              "      <td>0</td>\n",
              "    </tr>\n",
              "    <tr>\n",
              "      <th>28</th>\n",
              "      <td>2020-01-30</td>\n",
              "      <td>Maricopa</td>\n",
              "      <td>Arizona</td>\n",
              "      <td>4013.0</td>\n",
              "      <td>1</td>\n",
              "      <td>0</td>\n",
              "    </tr>\n",
              "  </tbody>\n",
              "</table>\n",
              "</div>"
            ],
            "text/plain": [
              "         date    county    state    fips  cases  deaths\n",
              "8  2020-01-26  Maricopa  Arizona  4013.0      1       0\n",
              "13 2020-01-27  Maricopa  Arizona  4013.0      1       0\n",
              "18 2020-01-28  Maricopa  Arizona  4013.0      1       0\n",
              "23 2020-01-29  Maricopa  Arizona  4013.0      1       0\n",
              "28 2020-01-30  Maricopa  Arizona  4013.0      1       0"
            ]
          },
          "metadata": {
            "tags": []
          },
          "execution_count": 9
        }
      ]
    },
    {
      "cell_type": "code",
      "metadata": {
        "id": "TG0LMmyZjOSV",
        "colab_type": "code",
        "outputId": "2ccba4da-bb15-4940-cc4a-b5b4e2389121",
        "colab": {
          "base_uri": "https://localhost:8080/",
          "height": 85
        }
      },
      "source": [
        "print(ariz_df.county.unique())\n",
        "# print(ariz_df.date.unique())"
      ],
      "execution_count": 10,
      "outputs": [
        {
          "output_type": "stream",
          "text": [
            "['Maricopa' 'Pinal' 'Pima' 'Graham' 'Navajo' 'Coconino' 'Santa Cruz'\n",
            " 'Yavapai' 'Yuma' 'Apache' 'Cochise' 'La Paz' 'Mohave' 'Gila' 'Greenlee'\n",
            " 'Unknown']\n"
          ],
          "name": "stdout"
        }
      ]
    },
    {
      "cell_type": "markdown",
      "metadata": {
        "id": "o3GbE2upjnfT",
        "colab_type": "text"
      },
      "source": [
        "phoneix metropolitan area"
      ]
    },
    {
      "cell_type": "code",
      "metadata": {
        "id": "9vj9baL9jnAy",
        "colab_type": "code",
        "outputId": "94793477-b2e9-457a-ce0b-0884f9990b49",
        "colab": {
          "base_uri": "https://localhost:8080/",
          "height": 69
        }
      },
      "source": [
        "mari_df = ariz_df[ariz_df['county'].str.contains('Maricopa')].copy(deep=True)\n",
        "pinal_df = ariz_df[ariz_df['county'].str.contains('Pinal')].copy(deep=True)\n",
        "print(mari_df.shape)\n",
        "print(pinal_df.shape)"
      ],
      "execution_count": 11,
      "outputs": [
        {
          "output_type": "stream",
          "text": [
            "(76, 6)\n",
            "(36, 6)\n"
          ],
          "name": "stdout"
        }
      ]
    },
    {
      "cell_type": "code",
      "metadata": {
        "id": "xPZLBQtso0_q",
        "colab_type": "code",
        "colab": {}
      },
      "source": [
        "# mari_df['date'] = pd.to_datetime(mari_df['date'])\n",
        "# pinal_df['date'] = pd.to_datetime(pinal_df['date'])"
      ],
      "execution_count": 0,
      "outputs": []
    },
    {
      "cell_type": "code",
      "metadata": {
        "id": "BqAKHe4JpOAa",
        "colab_type": "code",
        "outputId": "25d1cc4b-a09d-410b-910d-934e7c4da20e",
        "colab": {
          "base_uri": "https://localhost:8080/",
          "height": 52
        }
      },
      "source": [
        "plt.figure(figsize=[15,10])\n",
        "\n",
        "bern = plt.plot(abq_df['date'],abq_df['cases'], label= 'Bernalillo')\n",
        "mari = plt.plot(mari_df['date'],mari_df['cases'], label= 'Maricopa')\n",
        "pinal = plt.plot(pinal_df['date'],pinal_df['cases'], label= 'Pinal')\n",
        "\n",
        "#plt.yscale('log')\n",
        "plt.xlabel('Weekly Dates', fontsize=15)\n",
        "plt.ylabel('Number of cases', fontsize=15)\n",
        "plt.title('Cases in Phoneix Metropolitan Area', fontsize=25)\n",
        "plt.axvline(pd.to_datetime('2020-3-30'), color='purple', linestyle= '--', label='Stay At Home Orders Arizona Effective Date')\n",
        "plt.axvline(pd.to_datetime('2020-3-24'), color='black', linestyle= '--', label='Stay At Home Orders New Mexico Effective Date')\n",
        "plt.legend(borderpad=2, labelspacing=2,fontsize=10);"
      ],
      "execution_count": 13,
      "outputs": [
        {
          "output_type": "display_data",
          "data": {
            "image/png": "[encoded data removed]",
            "text/plain": [
              "<Figure size 1080x720 with 1 Axes>"
            ]
          },
          "metadata": {
            "tags": [],
            "needs_background": "light"
          }
        }
      ]
    },
    {
      "cell_type": "markdown",
      "metadata": {
        "colab_type": "text",
        "id": "qI2I-tdFscPL"
      },
      "source": [
        "## County population Df grab our county populations so we can compare us to other states . link-https://www.census.gov/data/datasets/time-series/demo/popest/2010s-counties-detail.html#"
      ]
    },
    {
      "cell_type": "markdown",
      "metadata": {
        "id": "gesVZqGQsei-",
        "colab_type": "text"
      },
      "source": [
        "problem deifinition - the county pop from 2010 to 2016 from the census can use to show a progression of the population and maybe pair it with the amount of hospitals to show how we must progress our infrastructure to keep up with albuquerques pop growth. "
      ]
    },
    {
      "cell_type": "code",
      "metadata": {
        "id": "N7Sh2c8iGeca",
        "colab_type": "code",
        "colab": {}
      },
      "source": [
        "county_df = pd.read_csv('/content/drive/My Drive/COVID19 Capstone/PEP_2018_PEPAGESEX.csv', encoding = 'ISO-8859-1', skiprows=[0])"
      ],
      "execution_count": 0,
      "outputs": []
    },
    {
      "cell_type": "code",
      "metadata": {
        "id": "Gsen0rhUORU5",
        "colab_type": "code",
        "outputId": "6a298117-419f-453b-c13e-7e53e1e8b69b",
        "colab": {
          "base_uri": "https://localhost:8080/",
          "height": 645
        }
      },
      "source": [
        "county_df.head()"
      ],
      "execution_count": 15,
      "outputs": [
        {
          "output_type": "execute_result",
          "data": {
            "text/html": [
              "<div>\n",
              "<style scoped>\n",
              "    .dataframe tbody tr th:only-of-type {\n",
              "        vertical-align: middle;\n",
              "    }\n",
              "\n",
              "    .dataframe tbody tr th {\n",
              "        vertical-align: top;\n",
              "    }\n",
              "\n",
              "    .dataframe thead th {\n",
              "        text-align: right;\n",
              "    }\n",
              "</style>\n",
              "<table border=\"1\" class=\"dataframe\">\n",
              "  <thead>\n",
              "    <tr style=\"text-align: right;\">\n",
              "      <th></th>\n",
              "      <th>Id</th>\n",
              "      <th>Id2</th>\n",
              "      <th>Geography</th>\n",
              "      <th>April 1, 2010 - Census - Both Sexes; Total</th>\n",
              "      <th>April 1, 2010 - Census - Male; Total</th>\n",
              "      <th>April 1, 2010 - Census - Female; Total</th>\n",
              "      <th>April 1, 2010 - Estimates Base - Both Sexes; Total</th>\n",
              "      <th>April 1, 2010 - Estimates Base - Male; Total</th>\n",
              "      <th>April 1, 2010 - Estimates Base - Female; Total</th>\n",
              "      <th>Population Estimate (as of July 1) - 2010 - Both Sexes; Total</th>\n",
              "      <th>Population Estimate (as of July 1) - 2010 - Male; Total</th>\n",
              "      <th>Population Estimate (as of July 1) - 2010 - Female; Total</th>\n",
              "      <th>Population Estimate (as of July 1) - 2011 - Both Sexes; Total</th>\n",
              "      <th>Population Estimate (as of July 1) - 2011 - Male; Total</th>\n",
              "      <th>Population Estimate (as of July 1) - 2011 - Female; Total</th>\n",
              "      <th>Population Estimate (as of July 1) - 2012 - Both Sexes; Total</th>\n",
              "      <th>Population Estimate (as of July 1) - 2012 - Male; Total</th>\n",
              "      <th>Population Estimate (as of July 1) - 2012 - Female; Total</th>\n",
              "      <th>Population Estimate (as of July 1) - 2013 - Both Sexes; Total</th>\n",
              "      <th>Population Estimate (as of July 1) - 2013 - Male; Total</th>\n",
              "      <th>Population Estimate (as of July 1) - 2013 - Female; Total</th>\n",
              "      <th>Population Estimate (as of July 1) - 2014 - Both Sexes; Total</th>\n",
              "      <th>Population Estimate (as of July 1) - 2014 - Male; Total</th>\n",
              "      <th>Population Estimate (as of July 1) - 2014 - Females; Total</th>\n",
              "      <th>Population Estimate (as of July 1) - 2015 - Both Sexes; Total</th>\n",
              "      <th>Population Estimate (as of July 1) - 2015 - Male; Total</th>\n",
              "      <th>Population Estimate (as of July 1) - 2015 - Female; Total</th>\n",
              "      <th>Population Estimate (as of July 1) - 2016 - Both Sexes; Total</th>\n",
              "      <th>Population Estimate (as of July 1) - 2016 - Male; Total</th>\n",
              "      <th>Population Estimate (as of July 1) - 2016 - Female; Total</th>\n",
              "      <th>Population Estimate (as of July 1) - 2017 - Both Sexes; Total</th>\n",
              "      <th>Population Estimate (as of July 1) - 2017 - Male; Total</th>\n",
              "      <th>Population Estimate (as of July 1) - 2017 - Female; Total</th>\n",
              "      <th>Population Estimate (as of July 1) - 2018 - Both Sexes; Total</th>\n",
              "      <th>Population Estimate (as of July 1) - 2018 - Male; Total</th>\n",
              "      <th>Population Estimate (as of July 1) - 2018 - Female; Total</th>\n",
              "      <th>April 1, 2010 - Census - Both Sexes; Total - Under 5 years</th>\n",
              "      <th>April 1, 2010 - Census - Male; Total - Under 5 years</th>\n",
              "      <th>April 1, 2010 - Census - Female; Total - Under 5 years</th>\n",
              "      <th>April 1, 2010 - Estimates Base - Both Sexes; Total - Under 5 years</th>\n",
              "      <th>...</th>\n",
              "      <th>Population Estimate (as of July 1) - 2016 - Female; 15 to 44 years</th>\n",
              "      <th>Population Estimate (as of July 1) - 2017 - Both Sexes; 15 to 44 years</th>\n",
              "      <th>Population Estimate (as of July 1) - 2017 - Male; 15 to 44 years</th>\n",
              "      <th>Population Estimate (as of July 1) - 2017 - Female; 15 to 44 years</th>\n",
              "      <th>Population Estimate (as of July 1) - 2018 - Both Sexes; 15 to 44 years</th>\n",
              "      <th>Population Estimate (as of July 1) - 2018 - Male; 15 to 44 years</th>\n",
              "      <th>Population Estimate (as of July 1) - 2018 - Female; 15 to 44 years</th>\n",
              "      <th>April 1, 2010 - Census - Both Sexes; Median age (years)</th>\n",
              "      <th>April 1, 2010 - Census - Male; Median age (years)</th>\n",
              "      <th>April 1, 2010 - Census - Female; Median age (years)</th>\n",
              "      <th>April 1, 2010 - Estimates Base - Both Sexes; Median age (years)</th>\n",
              "      <th>April 1, 2010 - Estimates Base - Male; Median age (years)</th>\n",
              "      <th>April 1, 2010 - Estimates Base - Female; Median age (years)</th>\n",
              "      <th>Population Estimate (as of July 1) - 2010 - Both Sexes; Median age (years)</th>\n",
              "      <th>Population Estimate (as of July 1) - 2010 - Male; Median age (years)</th>\n",
              "      <th>Population Estimate (as of July 1) - 2010 - Female; Median age (years)</th>\n",
              "      <th>Population Estimate (as of July 1) - 2011 - Both Sexes; Median age (years)</th>\n",
              "      <th>Population Estimate (as of July 1) - 2011 - Male; Median age (years)</th>\n",
              "      <th>Population Estimate (as of July 1) - 2011 - Female; Median age (years)</th>\n",
              "      <th>Population Estimate (as of July 1) - 2012 - Both Sexes; Median age (years)</th>\n",
              "      <th>Population Estimate (as of July 1) - 2012 - Male; Median age (years)</th>\n",
              "      <th>Population Estimate (as of July 1) - 2012 - Female; Median age (years)</th>\n",
              "      <th>Population Estimate (as of July 1) - 2013 - Both Sexes; Median age (years)</th>\n",
              "      <th>Population Estimate (as of July 1) - 2013 - Male; Median age (years)</th>\n",
              "      <th>Population Estimate (as of July 1) - 2013 - Female; Median age (years)</th>\n",
              "      <th>Population Estimate (as of July 1) - 2014 - Both Sexes; Median age (years)</th>\n",
              "      <th>Population Estimate (as of July 1) - 2014 - Male; Median age (years)</th>\n",
              "      <th>Population Estimate (as of July 1) - 2014 - Females; Median age (years)</th>\n",
              "      <th>Population Estimate (as of July 1) - 2015 - Both Sexes; Median age (years)</th>\n",
              "      <th>Population Estimate (as of July 1) - 2015 - Male; Median age (years)</th>\n",
              "      <th>Population Estimate (as of July 1) - 2015 - Female; Median age (years)</th>\n",
              "      <th>Population Estimate (as of July 1) - 2016 - Both Sexes; Median age (years)</th>\n",
              "      <th>Population Estimate (as of July 1) - 2016 - Male; Median age (years)</th>\n",
              "      <th>Population Estimate (as of July 1) - 2016 - Female; Median age (years)</th>\n",
              "      <th>Population Estimate (as of July 1) - 2017 - Both Sexes; Median age (years)</th>\n",
              "      <th>Population Estimate (as of July 1) - 2017 - Male; Median age (years)</th>\n",
              "      <th>Population Estimate (as of July 1) - 2017 - Female; Median age (years)</th>\n",
              "      <th>Population Estimate (as of July 1) - 2018 - Both Sexes; Median age (years)</th>\n",
              "      <th>Population Estimate (as of July 1) - 2018 - Male; Median age (years)</th>\n",
              "      <th>Population Estimate (as of July 1) - 2018 - Female; Median age (years)</th>\n",
              "    </tr>\n",
              "  </thead>\n",
              "  <tbody>\n",
              "    <tr>\n",
              "      <th>0</th>\n",
              "      <td>0500000US01001</td>\n",
              "      <td>1001</td>\n",
              "      <td>Autauga County, Alabama</td>\n",
              "      <td>54571</td>\n",
              "      <td>26569</td>\n",
              "      <td>28002</td>\n",
              "      <td>54574</td>\n",
              "      <td>26571</td>\n",
              "      <td>28003</td>\n",
              "      <td>54754</td>\n",
              "      <td>26670</td>\n",
              "      <td>28084</td>\n",
              "      <td>55208</td>\n",
              "      <td>26978</td>\n",
              "      <td>28230</td>\n",
              "      <td>54936</td>\n",
              "      <td>26818</td>\n",
              "      <td>28118</td>\n",
              "      <td>54713</td>\n",
              "      <td>26576</td>\n",
              "      <td>28137</td>\n",
              "      <td>54876</td>\n",
              "      <td>26784</td>\n",
              "      <td>28092</td>\n",
              "      <td>54838</td>\n",
              "      <td>26716</td>\n",
              "      <td>28122</td>\n",
              "      <td>55242</td>\n",
              "      <td>26971</td>\n",
              "      <td>28271</td>\n",
              "      <td>55443</td>\n",
              "      <td>27017</td>\n",
              "      <td>28426</td>\n",
              "      <td>55601</td>\n",
              "      <td>26995</td>\n",
              "      <td>28606</td>\n",
              "      <td>3579</td>\n",
              "      <td>1866</td>\n",
              "      <td>1713</td>\n",
              "      <td>3579</td>\n",
              "      <td>...</td>\n",
              "      <td>10844</td>\n",
              "      <td>21483</td>\n",
              "      <td>10603</td>\n",
              "      <td>10880</td>\n",
              "      <td>21338</td>\n",
              "      <td>10515</td>\n",
              "      <td>10823</td>\n",
              "      <td>37.0</td>\n",
              "      <td>35.9</td>\n",
              "      <td>37.9</td>\n",
              "      <td>37.0</td>\n",
              "      <td>35.9</td>\n",
              "      <td>37.9</td>\n",
              "      <td>37.1</td>\n",
              "      <td>36.1</td>\n",
              "      <td>38.0</td>\n",
              "      <td>37.3</td>\n",
              "      <td>36.2</td>\n",
              "      <td>38.4</td>\n",
              "      <td>37.7</td>\n",
              "      <td>36.4</td>\n",
              "      <td>38.8</td>\n",
              "      <td>38.1</td>\n",
              "      <td>36.8</td>\n",
              "      <td>39.1</td>\n",
              "      <td>38.2</td>\n",
              "      <td>36.8</td>\n",
              "      <td>39.5</td>\n",
              "      <td>38.6</td>\n",
              "      <td>37.2</td>\n",
              "      <td>39.8</td>\n",
              "      <td>38.7</td>\n",
              "      <td>37.2</td>\n",
              "      <td>40.0</td>\n",
              "      <td>38.8</td>\n",
              "      <td>37.5</td>\n",
              "      <td>40.1</td>\n",
              "      <td>39.1</td>\n",
              "      <td>37.7</td>\n",
              "      <td>40.5</td>\n",
              "    </tr>\n",
              "    <tr>\n",
              "      <th>1</th>\n",
              "      <td>0500000US01003</td>\n",
              "      <td>1003</td>\n",
              "      <td>Baldwin County, Alabama</td>\n",
              "      <td>182265</td>\n",
              "      <td>89196</td>\n",
              "      <td>93069</td>\n",
              "      <td>182264</td>\n",
              "      <td>89196</td>\n",
              "      <td>93068</td>\n",
              "      <td>183111</td>\n",
              "      <td>89618</td>\n",
              "      <td>93493</td>\n",
              "      <td>186540</td>\n",
              "      <td>91180</td>\n",
              "      <td>95360</td>\n",
              "      <td>190143</td>\n",
              "      <td>92698</td>\n",
              "      <td>97445</td>\n",
              "      <td>194886</td>\n",
              "      <td>95092</td>\n",
              "      <td>99794</td>\n",
              "      <td>199189</td>\n",
              "      <td>97155</td>\n",
              "      <td>102034</td>\n",
              "      <td>202995</td>\n",
              "      <td>98896</td>\n",
              "      <td>104099</td>\n",
              "      <td>207712</td>\n",
              "      <td>100976</td>\n",
              "      <td>106736</td>\n",
              "      <td>212619</td>\n",
              "      <td>103182</td>\n",
              "      <td>109437</td>\n",
              "      <td>218022</td>\n",
              "      <td>105657</td>\n",
              "      <td>112365</td>\n",
              "      <td>11158</td>\n",
              "      <td>5614</td>\n",
              "      <td>5544</td>\n",
              "      <td>11158</td>\n",
              "      <td>...</td>\n",
              "      <td>36498</td>\n",
              "      <td>73387</td>\n",
              "      <td>36174</td>\n",
              "      <td>37213</td>\n",
              "      <td>74601</td>\n",
              "      <td>36695</td>\n",
              "      <td>37906</td>\n",
              "      <td>41.1</td>\n",
              "      <td>40.1</td>\n",
              "      <td>42.2</td>\n",
              "      <td>41.1</td>\n",
              "      <td>40.1</td>\n",
              "      <td>42.2</td>\n",
              "      <td>41.2</td>\n",
              "      <td>40.1</td>\n",
              "      <td>42.2</td>\n",
              "      <td>41.4</td>\n",
              "      <td>40.4</td>\n",
              "      <td>42.4</td>\n",
              "      <td>41.7</td>\n",
              "      <td>40.7</td>\n",
              "      <td>42.6</td>\n",
              "      <td>41.9</td>\n",
              "      <td>40.9</td>\n",
              "      <td>42.8</td>\n",
              "      <td>42.2</td>\n",
              "      <td>41.1</td>\n",
              "      <td>43.2</td>\n",
              "      <td>42.4</td>\n",
              "      <td>41.3</td>\n",
              "      <td>43.4</td>\n",
              "      <td>42.8</td>\n",
              "      <td>41.7</td>\n",
              "      <td>43.7</td>\n",
              "      <td>43.0</td>\n",
              "      <td>41.9</td>\n",
              "      <td>44.1</td>\n",
              "      <td>43.3</td>\n",
              "      <td>42.1</td>\n",
              "      <td>44.4</td>\n",
              "    </tr>\n",
              "    <tr>\n",
              "      <th>2</th>\n",
              "      <td>0500000US01005</td>\n",
              "      <td>1005</td>\n",
              "      <td>Barbour County, Alabama</td>\n",
              "      <td>27457</td>\n",
              "      <td>14576</td>\n",
              "      <td>12881</td>\n",
              "      <td>27457</td>\n",
              "      <td>14576</td>\n",
              "      <td>12881</td>\n",
              "      <td>27330</td>\n",
              "      <td>14504</td>\n",
              "      <td>12826</td>\n",
              "      <td>27350</td>\n",
              "      <td>14659</td>\n",
              "      <td>12691</td>\n",
              "      <td>27174</td>\n",
              "      <td>14541</td>\n",
              "      <td>12633</td>\n",
              "      <td>26944</td>\n",
              "      <td>14380</td>\n",
              "      <td>12564</td>\n",
              "      <td>26758</td>\n",
              "      <td>14244</td>\n",
              "      <td>12514</td>\n",
              "      <td>26294</td>\n",
              "      <td>13974</td>\n",
              "      <td>12320</td>\n",
              "      <td>25819</td>\n",
              "      <td>13629</td>\n",
              "      <td>12190</td>\n",
              "      <td>25158</td>\n",
              "      <td>13221</td>\n",
              "      <td>11937</td>\n",
              "      <td>24881</td>\n",
              "      <td>13133</td>\n",
              "      <td>11748</td>\n",
              "      <td>1702</td>\n",
              "      <td>847</td>\n",
              "      <td>855</td>\n",
              "      <td>1702</td>\n",
              "      <td>...</td>\n",
              "      <td>4038</td>\n",
              "      <td>9504</td>\n",
              "      <td>5611</td>\n",
              "      <td>3893</td>\n",
              "      <td>9370</td>\n",
              "      <td>5545</td>\n",
              "      <td>3825</td>\n",
              "      <td>39.0</td>\n",
              "      <td>37.2</td>\n",
              "      <td>41.6</td>\n",
              "      <td>39.0</td>\n",
              "      <td>37.2</td>\n",
              "      <td>41.6</td>\n",
              "      <td>39.1</td>\n",
              "      <td>37.3</td>\n",
              "      <td>41.6</td>\n",
              "      <td>39.4</td>\n",
              "      <td>37.4</td>\n",
              "      <td>42.2</td>\n",
              "      <td>39.7</td>\n",
              "      <td>37.6</td>\n",
              "      <td>42.6</td>\n",
              "      <td>39.8</td>\n",
              "      <td>37.7</td>\n",
              "      <td>42.7</td>\n",
              "      <td>39.9</td>\n",
              "      <td>37.8</td>\n",
              "      <td>42.6</td>\n",
              "      <td>40.0</td>\n",
              "      <td>38.0</td>\n",
              "      <td>43.1</td>\n",
              "      <td>40.3</td>\n",
              "      <td>38.2</td>\n",
              "      <td>43.5</td>\n",
              "      <td>40.9</td>\n",
              "      <td>38.6</td>\n",
              "      <td>44.3</td>\n",
              "      <td>40.9</td>\n",
              "      <td>38.7</td>\n",
              "      <td>44.7</td>\n",
              "    </tr>\n",
              "    <tr>\n",
              "      <th>3</th>\n",
              "      <td>0500000US01007</td>\n",
              "      <td>1007</td>\n",
              "      <td>Bibb County, Alabama</td>\n",
              "      <td>22915</td>\n",
              "      <td>12301</td>\n",
              "      <td>10614</td>\n",
              "      <td>22920</td>\n",
              "      <td>12304</td>\n",
              "      <td>10616</td>\n",
              "      <td>22872</td>\n",
              "      <td>12264</td>\n",
              "      <td>10608</td>\n",
              "      <td>22747</td>\n",
              "      <td>12271</td>\n",
              "      <td>10476</td>\n",
              "      <td>22664</td>\n",
              "      <td>12211</td>\n",
              "      <td>10453</td>\n",
              "      <td>22516</td>\n",
              "      <td>12107</td>\n",
              "      <td>10409</td>\n",
              "      <td>22541</td>\n",
              "      <td>12139</td>\n",
              "      <td>10402</td>\n",
              "      <td>22562</td>\n",
              "      <td>12112</td>\n",
              "      <td>10450</td>\n",
              "      <td>22576</td>\n",
              "      <td>12067</td>\n",
              "      <td>10509</td>\n",
              "      <td>22555</td>\n",
              "      <td>12055</td>\n",
              "      <td>10500</td>\n",
              "      <td>22400</td>\n",
              "      <td>11921</td>\n",
              "      <td>10479</td>\n",
              "      <td>1378</td>\n",
              "      <td>712</td>\n",
              "      <td>666</td>\n",
              "      <td>1378</td>\n",
              "      <td>...</td>\n",
              "      <td>3790</td>\n",
              "      <td>9000</td>\n",
              "      <td>5218</td>\n",
              "      <td>3782</td>\n",
              "      <td>8852</td>\n",
              "      <td>5112</td>\n",
              "      <td>3740</td>\n",
              "      <td>37.8</td>\n",
              "      <td>36.5</td>\n",
              "      <td>39.5</td>\n",
              "      <td>37.8</td>\n",
              "      <td>36.5</td>\n",
              "      <td>39.5</td>\n",
              "      <td>37.9</td>\n",
              "      <td>36.6</td>\n",
              "      <td>39.7</td>\n",
              "      <td>38.4</td>\n",
              "      <td>36.8</td>\n",
              "      <td>40.4</td>\n",
              "      <td>38.8</td>\n",
              "      <td>37.2</td>\n",
              "      <td>41.0</td>\n",
              "      <td>39.2</td>\n",
              "      <td>37.5</td>\n",
              "      <td>41.4</td>\n",
              "      <td>39.5</td>\n",
              "      <td>37.6</td>\n",
              "      <td>41.9</td>\n",
              "      <td>39.7</td>\n",
              "      <td>37.8</td>\n",
              "      <td>42.1</td>\n",
              "      <td>39.7</td>\n",
              "      <td>37.8</td>\n",
              "      <td>42.4</td>\n",
              "      <td>39.8</td>\n",
              "      <td>37.9</td>\n",
              "      <td>42.5</td>\n",
              "      <td>40.0</td>\n",
              "      <td>38.2</td>\n",
              "      <td>42.7</td>\n",
              "    </tr>\n",
              "    <tr>\n",
              "      <th>4</th>\n",
              "      <td>0500000US01009</td>\n",
              "      <td>1009</td>\n",
              "      <td>Blount County, Alabama</td>\n",
              "      <td>57322</td>\n",
              "      <td>28362</td>\n",
              "      <td>28960</td>\n",
              "      <td>57321</td>\n",
              "      <td>28361</td>\n",
              "      <td>28960</td>\n",
              "      <td>57373</td>\n",
              "      <td>28385</td>\n",
              "      <td>28988</td>\n",
              "      <td>57554</td>\n",
              "      <td>28445</td>\n",
              "      <td>29109</td>\n",
              "      <td>57570</td>\n",
              "      <td>28426</td>\n",
              "      <td>29144</td>\n",
              "      <td>57611</td>\n",
              "      <td>28432</td>\n",
              "      <td>29179</td>\n",
              "      <td>57521</td>\n",
              "      <td>28369</td>\n",
              "      <td>29152</td>\n",
              "      <td>57522</td>\n",
              "      <td>28353</td>\n",
              "      <td>29169</td>\n",
              "      <td>57517</td>\n",
              "      <td>28304</td>\n",
              "      <td>29213</td>\n",
              "      <td>57827</td>\n",
              "      <td>28492</td>\n",
              "      <td>29335</td>\n",
              "      <td>57840</td>\n",
              "      <td>28500</td>\n",
              "      <td>29340</td>\n",
              "      <td>3616</td>\n",
              "      <td>1805</td>\n",
              "      <td>1811</td>\n",
              "      <td>3616</td>\n",
              "      <td>...</td>\n",
              "      <td>10309</td>\n",
              "      <td>20929</td>\n",
              "      <td>10576</td>\n",
              "      <td>10353</td>\n",
              "      <td>20847</td>\n",
              "      <td>10554</td>\n",
              "      <td>10293</td>\n",
              "      <td>39.0</td>\n",
              "      <td>38.0</td>\n",
              "      <td>40.0</td>\n",
              "      <td>39.0</td>\n",
              "      <td>38.0</td>\n",
              "      <td>40.0</td>\n",
              "      <td>39.1</td>\n",
              "      <td>38.1</td>\n",
              "      <td>40.1</td>\n",
              "      <td>39.3</td>\n",
              "      <td>38.3</td>\n",
              "      <td>40.3</td>\n",
              "      <td>39.7</td>\n",
              "      <td>38.7</td>\n",
              "      <td>40.6</td>\n",
              "      <td>40.0</td>\n",
              "      <td>39.2</td>\n",
              "      <td>40.8</td>\n",
              "      <td>40.5</td>\n",
              "      <td>39.6</td>\n",
              "      <td>41.4</td>\n",
              "      <td>40.7</td>\n",
              "      <td>39.7</td>\n",
              "      <td>41.7</td>\n",
              "      <td>40.9</td>\n",
              "      <td>39.8</td>\n",
              "      <td>41.8</td>\n",
              "      <td>40.8</td>\n",
              "      <td>39.8</td>\n",
              "      <td>41.7</td>\n",
              "      <td>40.9</td>\n",
              "      <td>39.9</td>\n",
              "      <td>41.9</td>\n",
              "    </tr>\n",
              "  </tbody>\n",
              "</table>\n",
              "<p>5 rows × 1092 columns</p>\n",
              "</div>"
            ],
            "text/plain": [
              "               Id  ...  Population Estimate (as of July 1) - 2018 - Female; Median age (years)\n",
              "0  0500000US01001  ...                                               40.5                     \n",
              "1  0500000US01003  ...                                               44.4                     \n",
              "2  0500000US01005  ...                                               44.7                     \n",
              "3  0500000US01007  ...                                               42.7                     \n",
              "4  0500000US01009  ...                                               41.9                     \n",
              "\n",
              "[5 rows x 1092 columns]"
            ]
          },
          "metadata": {
            "tags": []
          },
          "execution_count": 15
        }
      ]
    },
    {
      "cell_type": "code",
      "metadata": {
        "id": "1iImXnNPP1u-",
        "colab_type": "code",
        "colab": {}
      },
      "source": [
        "nm_county_df = county_df[county_df['Geography'].str.contains('New Mexico')]\n",
        "ariz_county_df = county_df[county_df['Geography'].str.contains('Arizona')]"
      ],
      "execution_count": 0,
      "outputs": []
    },
    {
      "cell_type": "code",
      "metadata": {
        "id": "Z0j_1U7EQGwi",
        "colab_type": "code",
        "outputId": "83349dec-b4c6-4fcf-b853-3ca6b187b34d",
        "colab": {
          "base_uri": "https://localhost:8080/",
          "height": 69
        }
      },
      "source": [
        "print(nm_county_df.shape)\n",
        "print(ariz_county_df.shape)"
      ],
      "execution_count": 17,
      "outputs": [
        {
          "output_type": "stream",
          "text": [
            "(33, 1092)\n",
            "(15, 1092)\n"
          ],
          "name": "stdout"
        }
      ]
    },
    {
      "cell_type": "code",
      "metadata": {
        "id": "-JiA4kHovEpC",
        "colab_type": "code",
        "colab": {}
      },
      "source": [
        "nm_county_pop = nm_county_df[['Geography','Population Estimate (as of July 1) - 2018 - Both Sexes; Total',\n",
        "                              'Population Estimate (as of July 1) - 2018 - Male; Total', \n",
        "                              'Population Estimate (as of July 1) - 2018 - Female; Total']].copy(deep=True)\n",
        "nm_county_df.reset_index(inplace=True, drop=True)"
      ],
      "execution_count": 0,
      "outputs": []
    },
    {
      "cell_type": "code",
      "metadata": {
        "id": "xsR_xwv3wntj",
        "colab_type": "code",
        "outputId": "d02f7438-a792-47ee-84ac-4ec0326790ef",
        "colab": {
          "base_uri": "https://localhost:8080/",
          "height": 583
        }
      },
      "source": [
        "nm_county_pop.head()"
      ],
      "execution_count": 19,
      "outputs": [
        {
          "output_type": "execute_result",
          "data": {
            "text/html": [
              "<div>\n",
              "<style scoped>\n",
              "    .dataframe tbody tr th:only-of-type {\n",
              "        vertical-align: middle;\n",
              "    }\n",
              "\n",
              "    .dataframe tbody tr th {\n",
              "        vertical-align: top;\n",
              "    }\n",
              "\n",
              "    .dataframe thead th {\n",
              "        text-align: right;\n",
              "    }\n",
              "</style>\n",
              "<table border=\"1\" class=\"dataframe\">\n",
              "  <thead>\n",
              "    <tr style=\"text-align: right;\">\n",
              "      <th></th>\n",
              "      <th>Geography</th>\n",
              "      <th>Population Estimate (as of July 1) - 2018 - Both Sexes; Total</th>\n",
              "      <th>Population Estimate (as of July 1) - 2018 - Male; Total</th>\n",
              "      <th>Population Estimate (as of July 1) - 2018 - Female; Total</th>\n",
              "    </tr>\n",
              "  </thead>\n",
              "  <tbody>\n",
              "    <tr>\n",
              "      <th>1795</th>\n",
              "      <td>Bernalillo County, New Mexico</td>\n",
              "      <td>678701</td>\n",
              "      <td>332972</td>\n",
              "      <td>345729</td>\n",
              "    </tr>\n",
              "    <tr>\n",
              "      <th>1796</th>\n",
              "      <td>Catron County, New Mexico</td>\n",
              "      <td>3578</td>\n",
              "      <td>1889</td>\n",
              "      <td>1689</td>\n",
              "    </tr>\n",
              "    <tr>\n",
              "      <th>1797</th>\n",
              "      <td>Chaves County, New Mexico</td>\n",
              "      <td>64689</td>\n",
              "      <td>32098</td>\n",
              "      <td>32591</td>\n",
              "    </tr>\n",
              "    <tr>\n",
              "      <th>1798</th>\n",
              "      <td>Cibola County, New Mexico</td>\n",
              "      <td>26746</td>\n",
              "      <td>13666</td>\n",
              "      <td>13080</td>\n",
              "    </tr>\n",
              "    <tr>\n",
              "      <th>1799</th>\n",
              "      <td>Colfax County, New Mexico</td>\n",
              "      <td>12110</td>\n",
              "      <td>6142</td>\n",
              "      <td>5968</td>\n",
              "    </tr>\n",
              "  </tbody>\n",
              "</table>\n",
              "</div>"
            ],
            "text/plain": [
              "                          Geography  ...  Population Estimate (as of July 1) - 2018 - Female; Total\n",
              "1795  Bernalillo County, New Mexico  ...                                             345729        \n",
              "1796      Catron County, New Mexico  ...                                               1689        \n",
              "1797      Chaves County, New Mexico  ...                                              32591        \n",
              "1798      Cibola County, New Mexico  ...                                              13080        \n",
              "1799      Colfax County, New Mexico  ...                                               5968        \n",
              "\n",
              "[5 rows x 4 columns]"
            ]
          },
          "metadata": {
            "tags": []
          },
          "execution_count": 19
        }
      ]
    },
    {
      "cell_type": "code",
      "metadata": {
        "id": "fY1Ee7XcynSF",
        "colab_type": "code",
        "outputId": "1c980023-90dc-43cb-c70c-131b946d5302",
        "colab": {
          "base_uri": "https://localhost:8080/",
          "height": 52
        }
      },
      "source": [
        "plt.figure(figsize=[13,8])\n",
        "plt.bar(nm_county_pop['Geography'],nm_county_pop['Population Estimate (as of July 1) - 2018 - Both Sexes; Total'],label='Male')\n",
        "#plt.bar(nm_county_pop['Geography'],nm_county_pop['Population Estimate (as of July 1) - 2018 - Male; Total'])\n",
        "plt.bar(nm_county_pop['Geography'],nm_county_pop['Population Estimate (as of July 1) - 2018 - Female; Total'], label='Female')\n",
        "plt.xticks(rotation=90)\n",
        "plt.ylabel('Population', fontsize=20)\n",
        "plt.xlabel('County', fontsize=20)\n",
        "plt.title('Population per County',fontsize=35)\n",
        "plt.legend(borderpad=2, labelspacing=2,fontsize=10);"
      ],
      "execution_count": 20,
      "outputs": [
        {
          "output_type": "display_data",
          "data": {
            "image/png": "[encoded data removed]",
            "text/plain": [
              "<Figure size 936x576 with 1 Axes>"
            ]
          },
          "metadata": {
            "tags": [],
            "needs_background": "light"
          }
        }
      ]
    },
    {
      "cell_type": "markdown",
      "metadata": {
        "id": "qY_8UHuidyo-",
        "colab_type": "text"
      },
      "source": [
        "## Stay at home orders timeline.  link-https://www.kff.org/coronavirus-policy-watch/stay-at-home-orders-to-fight-covid19/"
      ]
    },
    {
      "cell_type": "markdown",
      "metadata": {
        "id": "gou-tUgUtCxI",
        "colab_type": "text"
      },
      "source": [
        "problem defintion- using the stay at home orders with other columns to possibly create a ranking sytem to show where albuquerque lands on reaction time of SAH order."
      ]
    },
    {
      "cell_type": "code",
      "metadata": {
        "id": "QSm5pc2Qd23K",
        "colab_type": "code",
        "colab": {}
      },
      "source": [
        "sah_df = pd.read_excel('/content/drive/My Drive/COVID19 Capstone/Statewide-Stay-at-Home-Orders.xlsx', skiprows=[0,1])"
      ],
      "execution_count": 0,
      "outputs": []
    },
    {
      "cell_type": "code",
      "metadata": {
        "id": "tILW8kLSeLHZ",
        "colab_type": "code",
        "outputId": "95a5a9b6-5609-4b8e-98bc-c50180c2b9f6",
        "colab": {
          "base_uri": "https://localhost:8080/",
          "height": 237
        }
      },
      "source": [
        "sah_df.head()"
      ],
      "execution_count": 22,
      "outputs": [
        {
          "output_type": "execute_result",
          "data": {
            "text/html": [
              "<div>\n",
              "<style scoped>\n",
              "    .dataframe tbody tr th:only-of-type {\n",
              "        vertical-align: middle;\n",
              "    }\n",
              "\n",
              "    .dataframe tbody tr th {\n",
              "        vertical-align: top;\n",
              "    }\n",
              "\n",
              "    .dataframe thead th {\n",
              "        text-align: right;\n",
              "    }\n",
              "</style>\n",
              "<table border=\"1\" class=\"dataframe\">\n",
              "  <thead>\n",
              "    <tr style=\"text-align: right;\">\n",
              "      <th></th>\n",
              "      <th>State</th>\n",
              "      <th>Date Announced</th>\n",
              "      <th>Effective Date</th>\n",
              "    </tr>\n",
              "  </thead>\n",
              "  <tbody>\n",
              "    <tr>\n",
              "      <th>0</th>\n",
              "      <td>Alabama</td>\n",
              "      <td>April 3</td>\n",
              "      <td>April 4</td>\n",
              "    </tr>\n",
              "    <tr>\n",
              "      <th>1</th>\n",
              "      <td>Alaska</td>\n",
              "      <td>March 27</td>\n",
              "      <td>March 28</td>\n",
              "    </tr>\n",
              "    <tr>\n",
              "      <th>2</th>\n",
              "      <td>Arizona</td>\n",
              "      <td>March 30</td>\n",
              "      <td>March 31</td>\n",
              "    </tr>\n",
              "    <tr>\n",
              "      <th>3</th>\n",
              "      <td>Arkansas</td>\n",
              "      <td>-</td>\n",
              "      <td>-</td>\n",
              "    </tr>\n",
              "    <tr>\n",
              "      <th>4</th>\n",
              "      <td>California</td>\n",
              "      <td>March 19</td>\n",
              "      <td>March 19</td>\n",
              "    </tr>\n",
              "  </tbody>\n",
              "</table>\n",
              "</div>"
            ],
            "text/plain": [
              "        State Date Announced Effective Date\n",
              "0     Alabama        April 3        April 4\n",
              "1      Alaska       March 27       March 28\n",
              "2     Arizona       March 30       March 31\n",
              "3    Arkansas              -              -\n",
              "4  California       March 19       March 19"
            ]
          },
          "metadata": {
            "tags": []
          },
          "execution_count": 22
        }
      ]
    },
    {
      "cell_type": "code",
      "metadata": {
        "id": "2YHBV9yzj4yp",
        "colab_type": "code",
        "colab": {}
      },
      "source": [
        "#sah_df.sort_values('Effective Date',ascending=True)"
      ],
      "execution_count": 0,
      "outputs": []
    },
    {
      "cell_type": "code",
      "metadata": {
        "id": "iG6fcx5yeNOn",
        "colab_type": "code",
        "outputId": "c3ae4248-c20c-4933-a2f6-38131f4c4757",
        "colab": {
          "base_uri": "https://localhost:8080/",
          "height": 102
        }
      },
      "source": [
        "sah_df.dtypes"
      ],
      "execution_count": 24,
      "outputs": [
        {
          "output_type": "execute_result",
          "data": {
            "text/plain": [
              "State             object\n",
              "Date Announced    object\n",
              "Effective Date    object\n",
              "dtype: object"
            ]
          },
          "metadata": {
            "tags": []
          },
          "execution_count": 24
        }
      ]
    },
    {
      "cell_type": "code",
      "metadata": {
        "id": "EYFZoEca0Hz4",
        "colab_type": "code",
        "colab": {}
      },
      "source": [
        "import datetime"
      ],
      "execution_count": 0,
      "outputs": []
    },
    {
      "cell_type": "code",
      "metadata": {
        "id": "Gb_rE3jCyJ8f",
        "colab_type": "code",
        "colab": {}
      },
      "source": [
        "sah_df['Date Announced'] = pd.to_datetime('2020 ' + sah_df['Date Announced'].astype(str), format=('%Y %B %d'), errors='coerce')"
      ],
      "execution_count": 0,
      "outputs": []
    },
    {
      "cell_type": "code",
      "metadata": {
        "id": "Uo69KToe8RzE",
        "colab_type": "code",
        "colab": {}
      },
      "source": [
        "sah_df['Effective Date'] = pd.to_datetime('2020 ' + sah_df['Effective Date'].astype(str), format=('%Y %B %d'), errors='coerce')"
      ],
      "execution_count": 0,
      "outputs": []
    },
    {
      "cell_type": "code",
      "metadata": {
        "id": "6PemlcmC6VsA",
        "colab_type": "code",
        "outputId": "ff0e980b-0f10-450f-db96-d6d530c18df9",
        "colab": {
          "base_uri": "https://localhost:8080/",
          "height": 237
        }
      },
      "source": [
        "sah_df.head()"
      ],
      "execution_count": 28,
      "outputs": [
        {
          "output_type": "execute_result",
          "data": {
            "text/html": [
              "<div>\n",
              "<style scoped>\n",
              "    .dataframe tbody tr th:only-of-type {\n",
              "        vertical-align: middle;\n",
              "    }\n",
              "\n",
              "    .dataframe tbody tr th {\n",
              "        vertical-align: top;\n",
              "    }\n",
              "\n",
              "    .dataframe thead th {\n",
              "        text-align: right;\n",
              "    }\n",
              "</style>\n",
              "<table border=\"1\" class=\"dataframe\">\n",
              "  <thead>\n",
              "    <tr style=\"text-align: right;\">\n",
              "      <th></th>\n",
              "      <th>State</th>\n",
              "      <th>Date Announced</th>\n",
              "      <th>Effective Date</th>\n",
              "    </tr>\n",
              "  </thead>\n",
              "  <tbody>\n",
              "    <tr>\n",
              "      <th>0</th>\n",
              "      <td>Alabama</td>\n",
              "      <td>2020-04-03</td>\n",
              "      <td>2020-04-04</td>\n",
              "    </tr>\n",
              "    <tr>\n",
              "      <th>1</th>\n",
              "      <td>Alaska</td>\n",
              "      <td>2020-03-27</td>\n",
              "      <td>2020-03-28</td>\n",
              "    </tr>\n",
              "    <tr>\n",
              "      <th>2</th>\n",
              "      <td>Arizona</td>\n",
              "      <td>2020-03-30</td>\n",
              "      <td>2020-03-31</td>\n",
              "    </tr>\n",
              "    <tr>\n",
              "      <th>3</th>\n",
              "      <td>Arkansas</td>\n",
              "      <td>NaT</td>\n",
              "      <td>NaT</td>\n",
              "    </tr>\n",
              "    <tr>\n",
              "      <th>4</th>\n",
              "      <td>California</td>\n",
              "      <td>2020-03-19</td>\n",
              "      <td>2020-03-19</td>\n",
              "    </tr>\n",
              "  </tbody>\n",
              "</table>\n",
              "</div>"
            ],
            "text/plain": [
              "        State Date Announced Effective Date\n",
              "0     Alabama     2020-04-03     2020-04-04\n",
              "1      Alaska     2020-03-27     2020-03-28\n",
              "2     Arizona     2020-03-30     2020-03-31\n",
              "3    Arkansas            NaT            NaT\n",
              "4  California     2020-03-19     2020-03-19"
            ]
          },
          "metadata": {
            "tags": []
          },
          "execution_count": 28
        }
      ]
    },
    {
      "cell_type": "code",
      "metadata": {
        "id": "PYCVhTsL8Dq9",
        "colab_type": "code",
        "colab": {}
      },
      "source": [
        "# sah_df.fillna(value='None', inplace=True)"
      ],
      "execution_count": 0,
      "outputs": []
    },
    {
      "cell_type": "code",
      "metadata": {
        "id": "-ZYLC4ugqWj4",
        "colab_type": "code",
        "colab": {}
      },
      "source": [
        "import matplotlib.dates as mdates"
      ],
      "execution_count": 0,
      "outputs": []
    },
    {
      "cell_type": "markdown",
      "metadata": {
        "id": "x5Ews9iuChAb",
        "colab_type": "text"
      },
      "source": [
        "## State population Data - https://worldpopulationreview.com/states/"
      ]
    },
    {
      "cell_type": "markdown",
      "metadata": {
        "id": "xRbvP4edzMDK",
        "colab_type": "text"
      },
      "source": [
        "problem definition - the pop of states to use in the measurements "
      ]
    },
    {
      "cell_type": "code",
      "metadata": {
        "id": "PE4bYO--CkIV",
        "colab_type": "code",
        "colab": {}
      },
      "source": [
        "pop_df = pd.read_csv('/content/drive/My Drive/COVID19 Capstone/State_Pop_Data.csv')"
      ],
      "execution_count": 0,
      "outputs": []
    },
    {
      "cell_type": "code",
      "metadata": {
        "id": "EWmXijnvcziK",
        "colab_type": "code",
        "colab": {}
      },
      "source": [
        "us_state_abbrev = {\n",
        "    'Alabama': 'AL',\n",
        "    'Alaska': 'AK',\n",
        "    #'American Samoa': 'AS',\n",
        "    'Arizona': 'AZ',\n",
        "    'Arkansas': 'AR',\n",
        "    'California': 'CA',\n",
        "    'Colorado': 'CO',\n",
        "    'Connecticut': 'CT',\n",
        "    'Delaware': 'DE',\n",
        "    'District of Columbia': 'DC',\n",
        "    'Florida': 'FL',\n",
        "    'Georgia': 'GA',\n",
        "    #'Guam': 'GU',\n",
        "    'Hawaii': 'HI',\n",
        "    'Idaho': 'ID',\n",
        "    'Illinois': 'IL',\n",
        "    'Indiana': 'IN',\n",
        "    'Iowa': 'IA',\n",
        "    'Kansas': 'KS',\n",
        "    'Kentucky': 'KY',\n",
        "    'Louisiana': 'LA',\n",
        "    'Maine': 'ME',\n",
        "    'Maryland': 'MD',\n",
        "    'Massachusetts': 'MA',\n",
        "    'Michigan': 'MI',\n",
        "    'Minnesota': 'MN',\n",
        "    'Mississippi': 'MS',\n",
        "    'Missouri': 'MO',\n",
        "    'Montana': 'MT',\n",
        "    'Nebraska': 'NE',\n",
        "    'Nevada': 'NV',\n",
        "    'New Hampshire': 'NH',\n",
        "    'New Jersey': 'NJ',\n",
        "    'New Mexico': 'NM',\n",
        "    'New York': 'NY',\n",
        "    'North Carolina': 'NC',\n",
        "    'North Dakota': 'ND',\n",
        "    #'Northern Mariana Islands':'MP',\n",
        "    'Ohio': 'OH',\n",
        "    'Oklahoma': 'OK',\n",
        "    'Oregon': 'OR',\n",
        "    'Pennsylvania': 'PA',\n",
        "    'Puerto Rico': 'PR',\n",
        "    'Rhode Island': 'RI',\n",
        "    'South Carolina': 'SC',\n",
        "    'South Dakota': 'SD',\n",
        "    'Tennessee': 'TN',\n",
        "    'Texas': 'TX',\n",
        "    'Utah': 'UT',\n",
        "    'Vermont': 'VT',\n",
        "    'Virgin Islands': 'VI',\n",
        "    'Virginia': 'VA',\n",
        "    'Washington': 'WA',\n",
        "    'West Virginia': 'WV',\n",
        "    'Wisconsin': 'WI',\n",
        "    'Wyoming': 'WY'\n",
        "}\n",
        "\n",
        "# thank you to @kinghelix and @trevormarburger for this idea\n",
        "abbrev_us_state = dict(map(reversed, us_state_abbrev.items()))\n"
      ],
      "execution_count": 0,
      "outputs": []
    },
    {
      "cell_type": "code",
      "metadata": {
        "id": "WQz-1TnWgucM",
        "colab_type": "code",
        "colab": {}
      },
      "source": [
        "pop_df.index = pop_df['State']"
      ],
      "execution_count": 0,
      "outputs": []
    },
    {
      "cell_type": "code",
      "metadata": {
        "id": "bhjEI4BLh0Pf",
        "colab_type": "code",
        "outputId": "9f82a85a-55f3-4197-ac8f-edd7d57f951c",
        "colab": {
          "base_uri": "https://localhost:8080/",
          "height": 251
        }
      },
      "source": [
        "pop_df.head()"
      ],
      "execution_count": 34,
      "outputs": [
        {
          "output_type": "execute_result",
          "data": {
            "text/html": [
              "<div>\n",
              "<style scoped>\n",
              "    .dataframe tbody tr th:only-of-type {\n",
              "        vertical-align: middle;\n",
              "    }\n",
              "\n",
              "    .dataframe tbody tr th {\n",
              "        vertical-align: top;\n",
              "    }\n",
              "\n",
              "    .dataframe thead th {\n",
              "        text-align: right;\n",
              "    }\n",
              "</style>\n",
              "<table border=\"1\" class=\"dataframe\">\n",
              "  <thead>\n",
              "    <tr style=\"text-align: right;\">\n",
              "      <th></th>\n",
              "      <th>rank</th>\n",
              "      <th>State</th>\n",
              "      <th>Pop</th>\n",
              "      <th>Growth</th>\n",
              "      <th>Pop2018</th>\n",
              "      <th>Pop2010</th>\n",
              "      <th>growthSince2010</th>\n",
              "      <th>Percent</th>\n",
              "      <th>density</th>\n",
              "    </tr>\n",
              "    <tr>\n",
              "      <th>State</th>\n",
              "      <th></th>\n",
              "      <th></th>\n",
              "      <th></th>\n",
              "      <th></th>\n",
              "      <th></th>\n",
              "      <th></th>\n",
              "      <th></th>\n",
              "      <th></th>\n",
              "      <th></th>\n",
              "    </tr>\n",
              "  </thead>\n",
              "  <tbody>\n",
              "    <tr>\n",
              "      <th>California</th>\n",
              "      <td>1</td>\n",
              "      <td>California</td>\n",
              "      <td>39937489</td>\n",
              "      <td>0.0096</td>\n",
              "      <td>39557045</td>\n",
              "      <td>37320903</td>\n",
              "      <td>0.0701</td>\n",
              "      <td>0.1194</td>\n",
              "      <td>256.3727</td>\n",
              "    </tr>\n",
              "    <tr>\n",
              "      <th>Texas</th>\n",
              "      <td>2</td>\n",
              "      <td>Texas</td>\n",
              "      <td>29472295</td>\n",
              "      <td>0.0268</td>\n",
              "      <td>28701845</td>\n",
              "      <td>25242679</td>\n",
              "      <td>0.1676</td>\n",
              "      <td>0.0881</td>\n",
              "      <td>112.8204</td>\n",
              "    </tr>\n",
              "    <tr>\n",
              "      <th>Florida</th>\n",
              "      <td>3</td>\n",
              "      <td>Florida</td>\n",
              "      <td>21992985</td>\n",
              "      <td>0.0326</td>\n",
              "      <td>21299325</td>\n",
              "      <td>18845785</td>\n",
              "      <td>0.1670</td>\n",
              "      <td>0.0658</td>\n",
              "      <td>410.1256</td>\n",
              "    </tr>\n",
              "    <tr>\n",
              "      <th>New York</th>\n",
              "      <td>4</td>\n",
              "      <td>New York</td>\n",
              "      <td>19440469</td>\n",
              "      <td>-0.0052</td>\n",
              "      <td>19542209</td>\n",
              "      <td>19400080</td>\n",
              "      <td>0.0021</td>\n",
              "      <td>0.0581</td>\n",
              "      <td>412.5211</td>\n",
              "    </tr>\n",
              "    <tr>\n",
              "      <th>Pennsylvania</th>\n",
              "      <td>5</td>\n",
              "      <td>Pennsylvania</td>\n",
              "      <td>12820878</td>\n",
              "      <td>0.0011</td>\n",
              "      <td>12807060</td>\n",
              "      <td>12711158</td>\n",
              "      <td>0.0086</td>\n",
              "      <td>0.0383</td>\n",
              "      <td>286.5449</td>\n",
              "    </tr>\n",
              "  </tbody>\n",
              "</table>\n",
              "</div>"
            ],
            "text/plain": [
              "              rank         State       Pop  ...  growthSince2010  Percent   density\n",
              "State                                       ...                                    \n",
              "California       1    California  39937489  ...           0.0701   0.1194  256.3727\n",
              "Texas            2         Texas  29472295  ...           0.1676   0.0881  112.8204\n",
              "Florida          3       Florida  21992985  ...           0.1670   0.0658  410.1256\n",
              "New York         4      New York  19440469  ...           0.0021   0.0581  412.5211\n",
              "Pennsylvania     5  Pennsylvania  12820878  ...           0.0086   0.0383  286.5449\n",
              "\n",
              "[5 rows x 9 columns]"
            ]
          },
          "metadata": {
            "tags": []
          },
          "execution_count": 34
        }
      ]
    },
    {
      "cell_type": "code",
      "metadata": {
        "id": "WC-PrOZodSpS",
        "colab_type": "code",
        "colab": {}
      },
      "source": [
        "state_abbrev_df =  pd.Series(us_state_abbrev)"
      ],
      "execution_count": 0,
      "outputs": []
    },
    {
      "cell_type": "code",
      "metadata": {
        "id": "OHwXZW7Vh7w5",
        "colab_type": "code",
        "outputId": "dfcf1e57-7911-4e8e-8910-e30e040284e2",
        "colab": {
          "base_uri": "https://localhost:8080/",
          "height": 135
        }
      },
      "source": [
        "state_abbrev_df.head()"
      ],
      "execution_count": 36,
      "outputs": [
        {
          "output_type": "execute_result",
          "data": {
            "text/plain": [
              "Alabama       AL\n",
              "Alaska        AK\n",
              "Arizona       AZ\n",
              "Arkansas      AR\n",
              "California    CA\n",
              "dtype: object"
            ]
          },
          "metadata": {
            "tags": []
          },
          "execution_count": 36
        }
      ]
    },
    {
      "cell_type": "code",
      "metadata": {
        "id": "fKmn8vhffPdP",
        "colab_type": "code",
        "colab": {}
      },
      "source": [
        "pop_df['state_abbrev'] = pd.Series(us_state_abbrev, index=pop_df.index)"
      ],
      "execution_count": 0,
      "outputs": []
    },
    {
      "cell_type": "code",
      "metadata": {
        "id": "VzONnnuff62Z",
        "colab_type": "code",
        "outputId": "299d1dbf-b345-4711-9ea7-bf2002c6ac64",
        "colab": {
          "base_uri": "https://localhost:8080/",
          "height": 251
        }
      },
      "source": [
        "pop_df.head()"
      ],
      "execution_count": 38,
      "outputs": [
        {
          "output_type": "execute_result",
          "data": {
            "text/html": [
              "<div>\n",
              "<style scoped>\n",
              "    .dataframe tbody tr th:only-of-type {\n",
              "        vertical-align: middle;\n",
              "    }\n",
              "\n",
              "    .dataframe tbody tr th {\n",
              "        vertical-align: top;\n",
              "    }\n",
              "\n",
              "    .dataframe thead th {\n",
              "        text-align: right;\n",
              "    }\n",
              "</style>\n",
              "<table border=\"1\" class=\"dataframe\">\n",
              "  <thead>\n",
              "    <tr style=\"text-align: right;\">\n",
              "      <th></th>\n",
              "      <th>rank</th>\n",
              "      <th>State</th>\n",
              "      <th>Pop</th>\n",
              "      <th>Growth</th>\n",
              "      <th>Pop2018</th>\n",
              "      <th>Pop2010</th>\n",
              "      <th>growthSince2010</th>\n",
              "      <th>Percent</th>\n",
              "      <th>density</th>\n",
              "      <th>state_abbrev</th>\n",
              "    </tr>\n",
              "    <tr>\n",
              "      <th>State</th>\n",
              "      <th></th>\n",
              "      <th></th>\n",
              "      <th></th>\n",
              "      <th></th>\n",
              "      <th></th>\n",
              "      <th></th>\n",
              "      <th></th>\n",
              "      <th></th>\n",
              "      <th></th>\n",
              "      <th></th>\n",
              "    </tr>\n",
              "  </thead>\n",
              "  <tbody>\n",
              "    <tr>\n",
              "      <th>California</th>\n",
              "      <td>1</td>\n",
              "      <td>California</td>\n",
              "      <td>39937489</td>\n",
              "      <td>0.0096</td>\n",
              "      <td>39557045</td>\n",
              "      <td>37320903</td>\n",
              "      <td>0.0701</td>\n",
              "      <td>0.1194</td>\n",
              "      <td>256.3727</td>\n",
              "      <td>CA</td>\n",
              "    </tr>\n",
              "    <tr>\n",
              "      <th>Texas</th>\n",
              "      <td>2</td>\n",
              "      <td>Texas</td>\n",
              "      <td>29472295</td>\n",
              "      <td>0.0268</td>\n",
              "      <td>28701845</td>\n",
              "      <td>25242679</td>\n",
              "      <td>0.1676</td>\n",
              "      <td>0.0881</td>\n",
              "      <td>112.8204</td>\n",
              "      <td>TX</td>\n",
              "    </tr>\n",
              "    <tr>\n",
              "      <th>Florida</th>\n",
              "      <td>3</td>\n",
              "      <td>Florida</td>\n",
              "      <td>21992985</td>\n",
              "      <td>0.0326</td>\n",
              "      <td>21299325</td>\n",
              "      <td>18845785</td>\n",
              "      <td>0.1670</td>\n",
              "      <td>0.0658</td>\n",
              "      <td>410.1256</td>\n",
              "      <td>FL</td>\n",
              "    </tr>\n",
              "    <tr>\n",
              "      <th>New York</th>\n",
              "      <td>4</td>\n",
              "      <td>New York</td>\n",
              "      <td>19440469</td>\n",
              "      <td>-0.0052</td>\n",
              "      <td>19542209</td>\n",
              "      <td>19400080</td>\n",
              "      <td>0.0021</td>\n",
              "      <td>0.0581</td>\n",
              "      <td>412.5211</td>\n",
              "      <td>NY</td>\n",
              "    </tr>\n",
              "    <tr>\n",
              "      <th>Pennsylvania</th>\n",
              "      <td>5</td>\n",
              "      <td>Pennsylvania</td>\n",
              "      <td>12820878</td>\n",
              "      <td>0.0011</td>\n",
              "      <td>12807060</td>\n",
              "      <td>12711158</td>\n",
              "      <td>0.0086</td>\n",
              "      <td>0.0383</td>\n",
              "      <td>286.5449</td>\n",
              "      <td>PA</td>\n",
              "    </tr>\n",
              "  </tbody>\n",
              "</table>\n",
              "</div>"
            ],
            "text/plain": [
              "              rank         State       Pop  ...  Percent   density  state_abbrev\n",
              "State                                       ...                                 \n",
              "California       1    California  39937489  ...   0.1194  256.3727            CA\n",
              "Texas            2         Texas  29472295  ...   0.0881  112.8204            TX\n",
              "Florida          3       Florida  21992985  ...   0.0658  410.1256            FL\n",
              "New York         4      New York  19440469  ...   0.0581  412.5211            NY\n",
              "Pennsylvania     5  Pennsylvania  12820878  ...   0.0383  286.5449            PA\n",
              "\n",
              "[5 rows x 10 columns]"
            ]
          },
          "metadata": {
            "tags": []
          },
          "execution_count": 38
        }
      ]
    },
    {
      "cell_type": "markdown",
      "metadata": {
        "id": "BoT8HqBXVyCz",
        "colab_type": "text"
      },
      "source": [
        "## States covid cases vs pop density- https://worldpopulationreview.com/states/"
      ]
    },
    {
      "cell_type": "code",
      "metadata": {
        "id": "inY2frDLV2T-",
        "colab_type": "code",
        "outputId": "b40e9aeb-5105-46b6-a65d-94dd95ad15ec",
        "colab": {
          "base_uri": "https://localhost:8080/",
          "height": 221
        }
      },
      "source": [
        "cv_per_state = pd.read_csv('/content/drive/My Drive/COVID19 Capstone/states_covid.csv')\n",
        "cv_per_state.head()"
      ],
      "execution_count": 39,
      "outputs": [
        {
          "output_type": "execute_result",
          "data": {
            "text/html": [
              "<div>\n",
              "<style scoped>\n",
              "    .dataframe tbody tr th:only-of-type {\n",
              "        vertical-align: middle;\n",
              "    }\n",
              "\n",
              "    .dataframe tbody tr th {\n",
              "        vertical-align: top;\n",
              "    }\n",
              "\n",
              "    .dataframe thead th {\n",
              "        text-align: right;\n",
              "    }\n",
              "</style>\n",
              "<table border=\"1\" class=\"dataframe\">\n",
              "  <thead>\n",
              "    <tr style=\"text-align: right;\">\n",
              "      <th></th>\n",
              "      <th>name,</th>\n",
              "      <th>tested</th>\n",
              "      <th>positive</th>\n",
              "      <th>deaths</th>\n",
              "    </tr>\n",
              "  </thead>\n",
              "  <tbody>\n",
              "    <tr>\n",
              "      <th>0</th>\n",
              "      <td>AK</td>\n",
              "      <td>8664</td>\n",
              "      <td>293</td>\n",
              "      <td>9</td>\n",
              "    </tr>\n",
              "    <tr>\n",
              "      <th>1</th>\n",
              "      <td>AL</td>\n",
              "      <td>34077</td>\n",
              "      <td>4241</td>\n",
              "      <td>123</td>\n",
              "    </tr>\n",
              "    <tr>\n",
              "      <th>2</th>\n",
              "      <td>AR</td>\n",
              "      <td>22289</td>\n",
              "      <td>1599</td>\n",
              "      <td>34</td>\n",
              "    </tr>\n",
              "    <tr>\n",
              "      <th>3</th>\n",
              "      <td>AZ</td>\n",
              "      <td>45310</td>\n",
              "      <td>3962</td>\n",
              "      <td>142</td>\n",
              "    </tr>\n",
              "    <tr>\n",
              "      <th>4</th>\n",
              "      <td>CA</td>\n",
              "      <td>227600</td>\n",
              "      <td>24424</td>\n",
              "      <td>821</td>\n",
              "    </tr>\n",
              "  </tbody>\n",
              "</table>\n",
              "</div>"
            ],
            "text/plain": [
              "  name,  tested  positive  deaths\n",
              "0    AK    8664       293       9\n",
              "1    AL   34077      4241     123\n",
              "2    AR   22289      1599      34\n",
              "3    AZ   45310      3962     142\n",
              "4    CA  227600     24424     821"
            ]
          },
          "metadata": {
            "tags": []
          },
          "execution_count": 39
        }
      ]
    },
    {
      "cell_type": "code",
      "metadata": {
        "id": "yascmwFJkdrf",
        "colab_type": "code",
        "outputId": "3fab2b28-de44-45aa-b784-85fc8621a956",
        "colab": {
          "base_uri": "https://localhost:8080/",
          "height": 221
        }
      },
      "source": [
        "cv_per_state = cv_per_state.rename(columns={'name,':'state_abbrev'})\n",
        "cv_per_state.head()"
      ],
      "execution_count": 40,
      "outputs": [
        {
          "output_type": "execute_result",
          "data": {
            "text/html": [
              "<div>\n",
              "<style scoped>\n",
              "    .dataframe tbody tr th:only-of-type {\n",
              "        vertical-align: middle;\n",
              "    }\n",
              "\n",
              "    .dataframe tbody tr th {\n",
              "        vertical-align: top;\n",
              "    }\n",
              "\n",
              "    .dataframe thead th {\n",
              "        text-align: right;\n",
              "    }\n",
              "</style>\n",
              "<table border=\"1\" class=\"dataframe\">\n",
              "  <thead>\n",
              "    <tr style=\"text-align: right;\">\n",
              "      <th></th>\n",
              "      <th>state_abbrev</th>\n",
              "      <th>tested</th>\n",
              "      <th>positive</th>\n",
              "      <th>deaths</th>\n",
              "    </tr>\n",
              "  </thead>\n",
              "  <tbody>\n",
              "    <tr>\n",
              "      <th>0</th>\n",
              "      <td>AK</td>\n",
              "      <td>8664</td>\n",
              "      <td>293</td>\n",
              "      <td>9</td>\n",
              "    </tr>\n",
              "    <tr>\n",
              "      <th>1</th>\n",
              "      <td>AL</td>\n",
              "      <td>34077</td>\n",
              "      <td>4241</td>\n",
              "      <td>123</td>\n",
              "    </tr>\n",
              "    <tr>\n",
              "      <th>2</th>\n",
              "      <td>AR</td>\n",
              "      <td>22289</td>\n",
              "      <td>1599</td>\n",
              "      <td>34</td>\n",
              "    </tr>\n",
              "    <tr>\n",
              "      <th>3</th>\n",
              "      <td>AZ</td>\n",
              "      <td>45310</td>\n",
              "      <td>3962</td>\n",
              "      <td>142</td>\n",
              "    </tr>\n",
              "    <tr>\n",
              "      <th>4</th>\n",
              "      <td>CA</td>\n",
              "      <td>227600</td>\n",
              "      <td>24424</td>\n",
              "      <td>821</td>\n",
              "    </tr>\n",
              "  </tbody>\n",
              "</table>\n",
              "</div>"
            ],
            "text/plain": [
              "  state_abbrev  tested  positive  deaths\n",
              "0           AK    8664       293       9\n",
              "1           AL   34077      4241     123\n",
              "2           AR   22289      1599      34\n",
              "3           AZ   45310      3962     142\n",
              "4           CA  227600     24424     821"
            ]
          },
          "metadata": {
            "tags": []
          },
          "execution_count": 40
        }
      ]
    },
    {
      "cell_type": "code",
      "metadata": {
        "id": "L63u5uKsin6h",
        "colab_type": "code",
        "outputId": "76ff1f8a-e32d-4709-e83a-babfe1f279bd",
        "colab": {
          "base_uri": "https://localhost:8080/",
          "height": 221
        }
      },
      "source": [
        "cases_per_state = pd.merge(pop_df,cv_per_state, on='state_abbrev')\n",
        "cases_per_state = cases_per_state.drop(columns=['Growth','Pop2018','growthSince2010','Percent']) \n",
        "cases_per_state.head()"
      ],
      "execution_count": 41,
      "outputs": [
        {
          "output_type": "execute_result",
          "data": {
            "text/html": [
              "<div>\n",
              "<style scoped>\n",
              "    .dataframe tbody tr th:only-of-type {\n",
              "        vertical-align: middle;\n",
              "    }\n",
              "\n",
              "    .dataframe tbody tr th {\n",
              "        vertical-align: top;\n",
              "    }\n",
              "\n",
              "    .dataframe thead th {\n",
              "        text-align: right;\n",
              "    }\n",
              "</style>\n",
              "<table border=\"1\" class=\"dataframe\">\n",
              "  <thead>\n",
              "    <tr style=\"text-align: right;\">\n",
              "      <th></th>\n",
              "      <th>rank</th>\n",
              "      <th>State</th>\n",
              "      <th>Pop</th>\n",
              "      <th>Pop2010</th>\n",
              "      <th>density</th>\n",
              "      <th>state_abbrev</th>\n",
              "      <th>tested</th>\n",
              "      <th>positive</th>\n",
              "      <th>deaths</th>\n",
              "    </tr>\n",
              "  </thead>\n",
              "  <tbody>\n",
              "    <tr>\n",
              "      <th>0</th>\n",
              "      <td>1</td>\n",
              "      <td>California</td>\n",
              "      <td>39937489</td>\n",
              "      <td>37320903</td>\n",
              "      <td>256.3727</td>\n",
              "      <td>CA</td>\n",
              "      <td>227600</td>\n",
              "      <td>24424</td>\n",
              "      <td>821</td>\n",
              "    </tr>\n",
              "    <tr>\n",
              "      <th>1</th>\n",
              "      <td>2</td>\n",
              "      <td>Texas</td>\n",
              "      <td>29472295</td>\n",
              "      <td>25242679</td>\n",
              "      <td>112.8204</td>\n",
              "      <td>TX</td>\n",
              "      <td>151810</td>\n",
              "      <td>15492</td>\n",
              "      <td>364</td>\n",
              "    </tr>\n",
              "    <tr>\n",
              "      <th>2</th>\n",
              "      <td>3</td>\n",
              "      <td>Florida</td>\n",
              "      <td>21992985</td>\n",
              "      <td>18845785</td>\n",
              "      <td>410.1256</td>\n",
              "      <td>FL</td>\n",
              "      <td>215521</td>\n",
              "      <td>22519</td>\n",
              "      <td>614</td>\n",
              "    </tr>\n",
              "    <tr>\n",
              "      <th>3</th>\n",
              "      <td>4</td>\n",
              "      <td>New York</td>\n",
              "      <td>19440469</td>\n",
              "      <td>19400080</td>\n",
              "      <td>412.5211</td>\n",
              "      <td>NY</td>\n",
              "      <td>526012</td>\n",
              "      <td>213779</td>\n",
              "      <td>11586</td>\n",
              "    </tr>\n",
              "    <tr>\n",
              "      <th>4</th>\n",
              "      <td>5</td>\n",
              "      <td>Pennsylvania</td>\n",
              "      <td>12820878</td>\n",
              "      <td>12711158</td>\n",
              "      <td>286.5449</td>\n",
              "      <td>PA</td>\n",
              "      <td>137584</td>\n",
              "      <td>26490</td>\n",
              "      <td>647</td>\n",
              "    </tr>\n",
              "  </tbody>\n",
              "</table>\n",
              "</div>"
            ],
            "text/plain": [
              "   rank         State       Pop  ...  tested  positive deaths\n",
              "0     1    California  39937489  ...  227600     24424    821\n",
              "1     2         Texas  29472295  ...  151810     15492    364\n",
              "2     3       Florida  21992985  ...  215521     22519    614\n",
              "3     4      New York  19440469  ...  526012    213779  11586\n",
              "4     5  Pennsylvania  12820878  ...  137584     26490    647\n",
              "\n",
              "[5 rows x 9 columns]"
            ]
          },
          "metadata": {
            "tags": []
          },
          "execution_count": 41
        }
      ]
    },
    {
      "cell_type": "code",
      "metadata": {
        "id": "ODzoUUOQ4guQ",
        "colab_type": "code",
        "outputId": "6d15e1f8-98a6-44d4-8977-62c0374a2600",
        "colab": {
          "base_uri": "https://localhost:8080/",
          "height": 52
        }
      },
      "source": [
        "#plt.figure(figsize=[15,10])\n",
        "plt.bar(cases_per_state['State'],cases_per_state['positive']/cases_per_state['tested'])\n",
        "plt.xticks(rotation=90)\n",
        "plt.title('Percent of Positive COVID-19 Test Per State', fontsize=25)\n",
        "plt.xlabel('State',fontsize=15)\n",
        "plt.ylabel('Percent of Positive Test', fontsize=15)\n",
        "plt.show();"
      ],
      "execution_count": 42,
      "outputs": [
        {
          "output_type": "display_data",
          "data": {
            "image/png": "[encoded data removed]",
            "text/plain": [
              "<Figure size 432x288 with 1 Axes>"
            ]
          },
          "metadata": {
            "tags": [],
            "needs_background": "light"
          }
        }
      ]
    },
    {
      "cell_type": "code",
      "metadata": {
        "id": "T20ME7q86TYs",
        "colab_type": "code",
        "outputId": "a50ca664-4507-4bca-e03f-a585de99bbff",
        "colab": {
          "base_uri": "https://localhost:8080/",
          "height": 52
        }
      },
      "source": [
        "#plt.figure(figsize=[15,10])\n",
        "plt.bar(cases_per_state['State'],cases_per_state['density'])\n",
        "plt.yscale('log')\n",
        "plt.xticks(rotation=90, fontsize=15, c='white')\n",
        "plt.yticks(fontsize=15, c='white')\n",
        "plt.title('Population Density per State', fontsize=25)\n",
        "plt.xlabel('State',fontsize=15)\n",
        "plt.ylabel('Density (Population per Square Mile)', fontsize=15)\n",
        "plt.show();"
      ],
      "execution_count": 43,
      "outputs": [
        {
          "output_type": "display_data",
          "data": {
            "image/png": "[encoded data removed]",
            "text/plain": [
              "<Figure size 432x288 with 1 Axes>"
            ]
          },
          "metadata": {
            "tags": [],
            "needs_background": "dark"
          }
        }
      ]
    },
    {
      "cell_type": "code",
      "metadata": {
        "id": "CaRAysUqoHXK",
        "colab_type": "code",
        "outputId": "d27c1157-6d5e-4f66-d0a9-9e32bceb72a7",
        "colab": {
          "base_uri": "https://localhost:8080/",
          "height": 52
        }
      },
      "source": [
        "#plt.figure(figsize=[15,10])\n",
        "plt.scatter(cases_per_state['density'], cases_per_state['positive'])\n",
        "plt.xscale('log')\n",
        "plt.yscale('log')\n",
        "plt.title('Population Density by Positive covid cases', fontsize=25)\n",
        "plt.xlabel('Population Density',fontsize=15)\n",
        "plt.ylabel('Positive Covid Cases', fontsize=15)\n",
        "plt.show();"
      ],
      "execution_count": 44,
      "outputs": [
        {
          "output_type": "display_data",
          "data": {
            "image/png": "[encoded data removed]",
            "text/plain": [
              "<Figure size 432x288 with 1 Axes>"
            ]
          },
          "metadata": {
            "tags": [],
            "needs_background": "light"
          }
        }
      ]
    },
    {
      "cell_type": "code",
      "metadata": {
        "id": "lye7nNDM2aN1",
        "colab_type": "code",
        "outputId": "cd3cb676-d646-4444-bbb5-5fd28f512ebd",
        "colab": {
          "base_uri": "https://localhost:8080/",
          "height": 237
        }
      },
      "source": [
        "cases_per_state = pd.merge(sah_df,cases_per_state, on='State')\n",
        "cases_per_state.head()"
      ],
      "execution_count": 45,
      "outputs": [
        {
          "output_type": "execute_result",
          "data": {
            "text/html": [
              "<div>\n",
              "<style scoped>\n",
              "    .dataframe tbody tr th:only-of-type {\n",
              "        vertical-align: middle;\n",
              "    }\n",
              "\n",
              "    .dataframe tbody tr th {\n",
              "        vertical-align: top;\n",
              "    }\n",
              "\n",
              "    .dataframe thead th {\n",
              "        text-align: right;\n",
              "    }\n",
              "</style>\n",
              "<table border=\"1\" class=\"dataframe\">\n",
              "  <thead>\n",
              "    <tr style=\"text-align: right;\">\n",
              "      <th></th>\n",
              "      <th>State</th>\n",
              "      <th>Date Announced</th>\n",
              "      <th>Effective Date</th>\n",
              "      <th>rank</th>\n",
              "      <th>Pop</th>\n",
              "      <th>Pop2010</th>\n",
              "      <th>density</th>\n",
              "      <th>state_abbrev</th>\n",
              "      <th>tested</th>\n",
              "      <th>positive</th>\n",
              "      <th>deaths</th>\n",
              "    </tr>\n",
              "  </thead>\n",
              "  <tbody>\n",
              "    <tr>\n",
              "      <th>0</th>\n",
              "      <td>Alabama</td>\n",
              "      <td>2020-04-03</td>\n",
              "      <td>2020-04-04</td>\n",
              "      <td>24</td>\n",
              "      <td>4908621</td>\n",
              "      <td>4785448</td>\n",
              "      <td>96.9221</td>\n",
              "      <td>AL</td>\n",
              "      <td>34077</td>\n",
              "      <td>4241</td>\n",
              "      <td>123</td>\n",
              "    </tr>\n",
              "    <tr>\n",
              "      <th>1</th>\n",
              "      <td>Alaska</td>\n",
              "      <td>2020-03-27</td>\n",
              "      <td>2020-03-28</td>\n",
              "      <td>49</td>\n",
              "      <td>734002</td>\n",
              "      <td>713906</td>\n",
              "      <td>1.2863</td>\n",
              "      <td>AK</td>\n",
              "      <td>8664</td>\n",
              "      <td>293</td>\n",
              "      <td>9</td>\n",
              "    </tr>\n",
              "    <tr>\n",
              "      <th>2</th>\n",
              "      <td>Arizona</td>\n",
              "      <td>2020-03-30</td>\n",
              "      <td>2020-03-31</td>\n",
              "      <td>14</td>\n",
              "      <td>7378494</td>\n",
              "      <td>6407774</td>\n",
              "      <td>64.9550</td>\n",
              "      <td>AZ</td>\n",
              "      <td>45310</td>\n",
              "      <td>3962</td>\n",
              "      <td>142</td>\n",
              "    </tr>\n",
              "    <tr>\n",
              "      <th>3</th>\n",
              "      <td>Arkansas</td>\n",
              "      <td>NaT</td>\n",
              "      <td>NaT</td>\n",
              "      <td>33</td>\n",
              "      <td>3038999</td>\n",
              "      <td>2921978</td>\n",
              "      <td>58.4030</td>\n",
              "      <td>AR</td>\n",
              "      <td>22289</td>\n",
              "      <td>1599</td>\n",
              "      <td>34</td>\n",
              "    </tr>\n",
              "    <tr>\n",
              "      <th>4</th>\n",
              "      <td>California</td>\n",
              "      <td>2020-03-19</td>\n",
              "      <td>2020-03-19</td>\n",
              "      <td>1</td>\n",
              "      <td>39937489</td>\n",
              "      <td>37320903</td>\n",
              "      <td>256.3727</td>\n",
              "      <td>CA</td>\n",
              "      <td>227600</td>\n",
              "      <td>24424</td>\n",
              "      <td>821</td>\n",
              "    </tr>\n",
              "  </tbody>\n",
              "</table>\n",
              "</div>"
            ],
            "text/plain": [
              "        State Date Announced Effective Date  ...  tested  positive  deaths\n",
              "0     Alabama     2020-04-03     2020-04-04  ...   34077      4241     123\n",
              "1      Alaska     2020-03-27     2020-03-28  ...    8664       293       9\n",
              "2     Arizona     2020-03-30     2020-03-31  ...   45310      3962     142\n",
              "3    Arkansas            NaT            NaT  ...   22289      1599      34\n",
              "4  California     2020-03-19     2020-03-19  ...  227600     24424     821\n",
              "\n",
              "[5 rows x 11 columns]"
            ]
          },
          "metadata": {
            "tags": []
          },
          "execution_count": 45
        }
      ]
    },
    {
      "cell_type": "code",
      "metadata": {
        "id": "bIcuts47b6aE",
        "colab_type": "code",
        "outputId": "fba82d80-cbf7-4a69-8b5b-f03ef01c04a8",
        "colab": {
          "base_uri": "https://localhost:8080/",
          "height": 254
        }
      },
      "source": [
        "cases_per_state.sort_values(by='density', ascending=False).head(5)"
      ],
      "execution_count": 46,
      "outputs": [
        {
          "output_type": "execute_result",
          "data": {
            "text/html": [
              "<div>\n",
              "<style scoped>\n",
              "    .dataframe tbody tr th:only-of-type {\n",
              "        vertical-align: middle;\n",
              "    }\n",
              "\n",
              "    .dataframe tbody tr th {\n",
              "        vertical-align: top;\n",
              "    }\n",
              "\n",
              "    .dataframe thead th {\n",
              "        text-align: right;\n",
              "    }\n",
              "</style>\n",
              "<table border=\"1\" class=\"dataframe\">\n",
              "  <thead>\n",
              "    <tr style=\"text-align: right;\">\n",
              "      <th></th>\n",
              "      <th>State</th>\n",
              "      <th>Date Announced</th>\n",
              "      <th>Effective Date</th>\n",
              "      <th>rank</th>\n",
              "      <th>Pop</th>\n",
              "      <th>Pop2010</th>\n",
              "      <th>density</th>\n",
              "      <th>state_abbrev</th>\n",
              "      <th>tested</th>\n",
              "      <th>positive</th>\n",
              "      <th>deaths</th>\n",
              "    </tr>\n",
              "  </thead>\n",
              "  <tbody>\n",
              "    <tr>\n",
              "      <th>8</th>\n",
              "      <td>District of Columbia</td>\n",
              "      <td>2020-03-30</td>\n",
              "      <td>2020-04-01</td>\n",
              "      <td>50</td>\n",
              "      <td>720687</td>\n",
              "      <td>605085</td>\n",
              "      <td>11814.5410</td>\n",
              "      <td>DC</td>\n",
              "      <td>11525</td>\n",
              "      <td>2197</td>\n",
              "      <td>72</td>\n",
              "    </tr>\n",
              "    <tr>\n",
              "      <th>29</th>\n",
              "      <td>New Jersey</td>\n",
              "      <td>2020-03-20</td>\n",
              "      <td>2020-03-21</td>\n",
              "      <td>11</td>\n",
              "      <td>8936574</td>\n",
              "      <td>8799624</td>\n",
              "      <td>1215.1991</td>\n",
              "      <td>NJ</td>\n",
              "      <td>144021</td>\n",
              "      <td>71030</td>\n",
              "      <td>3156</td>\n",
              "    </tr>\n",
              "    <tr>\n",
              "      <th>38</th>\n",
              "      <td>Rhode Island</td>\n",
              "      <td>2020-03-28</td>\n",
              "      <td>2020-03-28</td>\n",
              "      <td>45</td>\n",
              "      <td>1056161</td>\n",
              "      <td>1053938</td>\n",
              "      <td>1021.4323</td>\n",
              "      <td>RI</td>\n",
              "      <td>25897</td>\n",
              "      <td>3529</td>\n",
              "      <td>87</td>\n",
              "    </tr>\n",
              "    <tr>\n",
              "      <th>20</th>\n",
              "      <td>Massachusetts</td>\n",
              "      <td>2020-03-23</td>\n",
              "      <td>2020-03-24</td>\n",
              "      <td>15</td>\n",
              "      <td>6976597</td>\n",
              "      <td>6566431</td>\n",
              "      <td>894.4355</td>\n",
              "      <td>MA</td>\n",
              "      <td>132023</td>\n",
              "      <td>29918</td>\n",
              "      <td>1108</td>\n",
              "    </tr>\n",
              "    <tr>\n",
              "      <th>6</th>\n",
              "      <td>Connecticut</td>\n",
              "      <td>2020-03-20</td>\n",
              "      <td>2020-03-23</td>\n",
              "      <td>29</td>\n",
              "      <td>3563077</td>\n",
              "      <td>3579125</td>\n",
              "      <td>735.8689</td>\n",
              "      <td>CT</td>\n",
              "      <td>50143</td>\n",
              "      <td>14755</td>\n",
              "      <td>868</td>\n",
              "    </tr>\n",
              "  </tbody>\n",
              "</table>\n",
              "</div>"
            ],
            "text/plain": [
              "                   State Date Announced  ... positive  deaths\n",
              "8   District of Columbia     2020-03-30  ...     2197      72\n",
              "29            New Jersey     2020-03-20  ...    71030    3156\n",
              "38          Rhode Island     2020-03-28  ...     3529      87\n",
              "20         Massachusetts     2020-03-23  ...    29918    1108\n",
              "6            Connecticut     2020-03-20  ...    14755     868\n",
              "\n",
              "[5 rows x 11 columns]"
            ]
          },
          "metadata": {
            "tags": []
          },
          "execution_count": 46
        }
      ]
    },
    {
      "cell_type": "code",
      "metadata": {
        "id": "72Y1a4mbcgcM",
        "colab_type": "code",
        "colab": {}
      },
      "source": [
        "cases_per_state['case_per_capita'] = cases_per_state['positive']/cases_per_state['Pop']*100"
      ],
      "execution_count": 0,
      "outputs": []
    },
    {
      "cell_type": "code",
      "metadata": {
        "id": "LmATzY0Icz3d",
        "colab_type": "code",
        "outputId": "2aadff2c-f02d-483c-8b8b-9ed77581edc5",
        "colab": {
          "base_uri": "https://localhost:8080/",
          "height": 560
        }
      },
      "source": [
        "cases_per_state.sort_values(by='density', ascending=False).head(15)"
      ],
      "execution_count": 48,
      "outputs": [
        {
          "output_type": "execute_result",
          "data": {
            "text/html": [
              "<div>\n",
              "<style scoped>\n",
              "    .dataframe tbody tr th:only-of-type {\n",
              "        vertical-align: middle;\n",
              "    }\n",
              "\n",
              "    .dataframe tbody tr th {\n",
              "        vertical-align: top;\n",
              "    }\n",
              "\n",
              "    .dataframe thead th {\n",
              "        text-align: right;\n",
              "    }\n",
              "</style>\n",
              "<table border=\"1\" class=\"dataframe\">\n",
              "  <thead>\n",
              "    <tr style=\"text-align: right;\">\n",
              "      <th></th>\n",
              "      <th>State</th>\n",
              "      <th>Date Announced</th>\n",
              "      <th>Effective Date</th>\n",
              "      <th>rank</th>\n",
              "      <th>Pop</th>\n",
              "      <th>Pop2010</th>\n",
              "      <th>density</th>\n",
              "      <th>state_abbrev</th>\n",
              "      <th>tested</th>\n",
              "      <th>positive</th>\n",
              "      <th>deaths</th>\n",
              "      <th>case_per_capita</th>\n",
              "    </tr>\n",
              "  </thead>\n",
              "  <tbody>\n",
              "    <tr>\n",
              "      <th>8</th>\n",
              "      <td>District of Columbia</td>\n",
              "      <td>2020-03-30</td>\n",
              "      <td>2020-04-01</td>\n",
              "      <td>50</td>\n",
              "      <td>720687</td>\n",
              "      <td>605085</td>\n",
              "      <td>11814.5410</td>\n",
              "      <td>DC</td>\n",
              "      <td>11525</td>\n",
              "      <td>2197</td>\n",
              "      <td>72</td>\n",
              "      <td>0.304848</td>\n",
              "    </tr>\n",
              "    <tr>\n",
              "      <th>29</th>\n",
              "      <td>New Jersey</td>\n",
              "      <td>2020-03-20</td>\n",
              "      <td>2020-03-21</td>\n",
              "      <td>11</td>\n",
              "      <td>8936574</td>\n",
              "      <td>8799624</td>\n",
              "      <td>1215.1991</td>\n",
              "      <td>NJ</td>\n",
              "      <td>144021</td>\n",
              "      <td>71030</td>\n",
              "      <td>3156</td>\n",
              "      <td>0.794824</td>\n",
              "    </tr>\n",
              "    <tr>\n",
              "      <th>38</th>\n",
              "      <td>Rhode Island</td>\n",
              "      <td>2020-03-28</td>\n",
              "      <td>2020-03-28</td>\n",
              "      <td>45</td>\n",
              "      <td>1056161</td>\n",
              "      <td>1053938</td>\n",
              "      <td>1021.4323</td>\n",
              "      <td>RI</td>\n",
              "      <td>25897</td>\n",
              "      <td>3529</td>\n",
              "      <td>87</td>\n",
              "      <td>0.334135</td>\n",
              "    </tr>\n",
              "    <tr>\n",
              "      <th>20</th>\n",
              "      <td>Massachusetts</td>\n",
              "      <td>2020-03-23</td>\n",
              "      <td>2020-03-24</td>\n",
              "      <td>15</td>\n",
              "      <td>6976597</td>\n",
              "      <td>6566431</td>\n",
              "      <td>894.4355</td>\n",
              "      <td>MA</td>\n",
              "      <td>132023</td>\n",
              "      <td>29918</td>\n",
              "      <td>1108</td>\n",
              "      <td>0.428834</td>\n",
              "    </tr>\n",
              "    <tr>\n",
              "      <th>6</th>\n",
              "      <td>Connecticut</td>\n",
              "      <td>2020-03-20</td>\n",
              "      <td>2020-03-23</td>\n",
              "      <td>29</td>\n",
              "      <td>3563077</td>\n",
              "      <td>3579125</td>\n",
              "      <td>735.8689</td>\n",
              "      <td>CT</td>\n",
              "      <td>50143</td>\n",
              "      <td>14755</td>\n",
              "      <td>868</td>\n",
              "      <td>0.414108</td>\n",
              "    </tr>\n",
              "    <tr>\n",
              "      <th>19</th>\n",
              "      <td>Maryland</td>\n",
              "      <td>2020-03-30</td>\n",
              "      <td>2020-03-30</td>\n",
              "      <td>19</td>\n",
              "      <td>6083116</td>\n",
              "      <td>5788642</td>\n",
              "      <td>626.6731</td>\n",
              "      <td>MD</td>\n",
              "      <td>55763</td>\n",
              "      <td>10032</td>\n",
              "      <td>349</td>\n",
              "      <td>0.164915</td>\n",
              "    </tr>\n",
              "    <tr>\n",
              "      <th>7</th>\n",
              "      <td>Delaware</td>\n",
              "      <td>2020-03-22</td>\n",
              "      <td>2020-03-24</td>\n",
              "      <td>46</td>\n",
              "      <td>982895</td>\n",
              "      <td>899595</td>\n",
              "      <td>504.3073</td>\n",
              "      <td>DE</td>\n",
              "      <td>13102</td>\n",
              "      <td>2014</td>\n",
              "      <td>46</td>\n",
              "      <td>0.204905</td>\n",
              "    </tr>\n",
              "    <tr>\n",
              "      <th>31</th>\n",
              "      <td>New York</td>\n",
              "      <td>2020-03-20</td>\n",
              "      <td>2020-03-22</td>\n",
              "      <td>4</td>\n",
              "      <td>19440469</td>\n",
              "      <td>19400080</td>\n",
              "      <td>412.5211</td>\n",
              "      <td>NY</td>\n",
              "      <td>526012</td>\n",
              "      <td>213779</td>\n",
              "      <td>11586</td>\n",
              "      <td>1.099660</td>\n",
              "    </tr>\n",
              "    <tr>\n",
              "      <th>9</th>\n",
              "      <td>Florida</td>\n",
              "      <td>2020-04-01</td>\n",
              "      <td>2020-04-03</td>\n",
              "      <td>3</td>\n",
              "      <td>21992985</td>\n",
              "      <td>18845785</td>\n",
              "      <td>410.1256</td>\n",
              "      <td>FL</td>\n",
              "      <td>215521</td>\n",
              "      <td>22519</td>\n",
              "      <td>614</td>\n",
              "      <td>0.102392</td>\n",
              "    </tr>\n",
              "    <tr>\n",
              "      <th>34</th>\n",
              "      <td>Ohio</td>\n",
              "      <td>2020-03-22</td>\n",
              "      <td>2020-03-23</td>\n",
              "      <td>7</td>\n",
              "      <td>11747694</td>\n",
              "      <td>11539327</td>\n",
              "      <td>287.5038</td>\n",
              "      <td>OH</td>\n",
              "      <td>71552</td>\n",
              "      <td>7791</td>\n",
              "      <td>361</td>\n",
              "      <td>0.066319</td>\n",
              "    </tr>\n",
              "    <tr>\n",
              "      <th>37</th>\n",
              "      <td>Pennsylvania</td>\n",
              "      <td>2020-03-23</td>\n",
              "      <td>2020-04-01</td>\n",
              "      <td>5</td>\n",
              "      <td>12820878</td>\n",
              "      <td>12711158</td>\n",
              "      <td>286.5449</td>\n",
              "      <td>PA</td>\n",
              "      <td>137584</td>\n",
              "      <td>26490</td>\n",
              "      <td>647</td>\n",
              "      <td>0.206616</td>\n",
              "    </tr>\n",
              "    <tr>\n",
              "      <th>4</th>\n",
              "      <td>California</td>\n",
              "      <td>2020-03-19</td>\n",
              "      <td>2020-03-19</td>\n",
              "      <td>1</td>\n",
              "      <td>39937489</td>\n",
              "      <td>37320903</td>\n",
              "      <td>256.3727</td>\n",
              "      <td>CA</td>\n",
              "      <td>227600</td>\n",
              "      <td>24424</td>\n",
              "      <td>821</td>\n",
              "      <td>0.061156</td>\n",
              "    </tr>\n",
              "    <tr>\n",
              "      <th>12</th>\n",
              "      <td>Illinois</td>\n",
              "      <td>2020-03-20</td>\n",
              "      <td>2020-03-21</td>\n",
              "      <td>6</td>\n",
              "      <td>12659682</td>\n",
              "      <td>12840762</td>\n",
              "      <td>228.0243</td>\n",
              "      <td>IL</td>\n",
              "      <td>116929</td>\n",
              "      <td>24593</td>\n",
              "      <td>948</td>\n",
              "      <td>0.194262</td>\n",
              "    </tr>\n",
              "    <tr>\n",
              "      <th>45</th>\n",
              "      <td>Virginia</td>\n",
              "      <td>2020-03-30</td>\n",
              "      <td>2020-03-30</td>\n",
              "      <td>12</td>\n",
              "      <td>8626207</td>\n",
              "      <td>8023680</td>\n",
              "      <td>218.4403</td>\n",
              "      <td>VA</td>\n",
              "      <td>46444</td>\n",
              "      <td>6889</td>\n",
              "      <td>208</td>\n",
              "      <td>0.079861</td>\n",
              "    </tr>\n",
              "    <tr>\n",
              "      <th>32</th>\n",
              "      <td>North Carolina</td>\n",
              "      <td>2020-03-27</td>\n",
              "      <td>2020-03-30</td>\n",
              "      <td>9</td>\n",
              "      <td>10611862</td>\n",
              "      <td>9574293</td>\n",
              "      <td>218.2702</td>\n",
              "      <td>NC</td>\n",
              "      <td>67827</td>\n",
              "      <td>5123</td>\n",
              "      <td>117</td>\n",
              "      <td>0.048276</td>\n",
              "    </tr>\n",
              "  </tbody>\n",
              "</table>\n",
              "</div>"
            ],
            "text/plain": [
              "                   State Date Announced  ... deaths  case_per_capita\n",
              "8   District of Columbia     2020-03-30  ...     72         0.304848\n",
              "29            New Jersey     2020-03-20  ...   3156         0.794824\n",
              "38          Rhode Island     2020-03-28  ...     87         0.334135\n",
              "20         Massachusetts     2020-03-23  ...   1108         0.428834\n",
              "6            Connecticut     2020-03-20  ...    868         0.414108\n",
              "19              Maryland     2020-03-30  ...    349         0.164915\n",
              "7               Delaware     2020-03-22  ...     46         0.204905\n",
              "31              New York     2020-03-20  ...  11586         1.099660\n",
              "9                Florida     2020-04-01  ...    614         0.102392\n",
              "34                  Ohio     2020-03-22  ...    361         0.066319\n",
              "37          Pennsylvania     2020-03-23  ...    647         0.206616\n",
              "4             California     2020-03-19  ...    821         0.061156\n",
              "12              Illinois     2020-03-20  ...    948         0.194262\n",
              "45              Virginia     2020-03-30  ...    208         0.079861\n",
              "32        North Carolina     2020-03-27  ...    117         0.048276\n",
              "\n",
              "[15 rows x 12 columns]"
            ]
          },
          "metadata": {
            "tags": []
          },
          "execution_count": 48
        }
      ]
    },
    {
      "cell_type": "code",
      "metadata": {
        "id": "XwsY-R_idKnm",
        "colab_type": "code",
        "outputId": "e6c78665-306f-49e1-854b-0338868cd86f",
        "colab": {
          "base_uri": "https://localhost:8080/",
          "height": 52
        }
      },
      "source": [
        "plt.figure(figsize=[10,10])\n",
        "plt.scatter('density','case_per_capita', data=cases_per_state)\n",
        "plt.yscale('log')\n",
        "plt.xscale('log')"
      ],
      "execution_count": 49,
      "outputs": [
        {
          "output_type": "display_data",
          "data": {
            "image/png": "[encoded data removed]",
            "text/plain": [
              "<Figure size 720x720 with 1 Axes>"
            ]
          },
          "metadata": {
            "tags": [],
            "needs_background": "light"
          }
        }
      ]
    },
    {
      "cell_type": "markdown",
      "metadata": {
        "id": "adarTxrHKx_k",
        "colab_type": "text"
      },
      "source": [
        "We cant add cases per capita to make a predictive model ! We would need something else like ave age per state. or avg amount of people with prior conditions."
      ]
    },
    {
      "cell_type": "markdown",
      "metadata": {
        "id": "rGiNTOMk1vB2",
        "colab_type": "text"
      },
      "source": [
        "### Linear regression test"
      ]
    },
    {
      "cell_type": "code",
      "metadata": {
        "id": "q4toE7KJ2fFE",
        "colab_type": "code",
        "colab": {}
      },
      "source": [
        "import statsmodels.api as sm"
      ],
      "execution_count": 0,
      "outputs": []
    },
    {
      "cell_type": "code",
      "metadata": {
        "id": "BsUDcZH81xUe",
        "colab_type": "code",
        "outputId": "167b37cb-7e5a-4a2e-80dc-fe7d2e075ec2",
        "colab": {
          "base_uri": "https://localhost:8080/",
          "height": 221
        }
      },
      "source": [
        "target = pd.DataFrame(cases_per_state.positive, columns=['positive'])\n",
        "target.head()"
      ],
      "execution_count": 51,
      "outputs": [
        {
          "output_type": "execute_result",
          "data": {
            "text/html": [
              "<div>\n",
              "<style scoped>\n",
              "    .dataframe tbody tr th:only-of-type {\n",
              "        vertical-align: middle;\n",
              "    }\n",
              "\n",
              "    .dataframe tbody tr th {\n",
              "        vertical-align: top;\n",
              "    }\n",
              "\n",
              "    .dataframe thead th {\n",
              "        text-align: right;\n",
              "    }\n",
              "</style>\n",
              "<table border=\"1\" class=\"dataframe\">\n",
              "  <thead>\n",
              "    <tr style=\"text-align: right;\">\n",
              "      <th></th>\n",
              "      <th>positive</th>\n",
              "    </tr>\n",
              "  </thead>\n",
              "  <tbody>\n",
              "    <tr>\n",
              "      <th>0</th>\n",
              "      <td>4241</td>\n",
              "    </tr>\n",
              "    <tr>\n",
              "      <th>1</th>\n",
              "      <td>293</td>\n",
              "    </tr>\n",
              "    <tr>\n",
              "      <th>2</th>\n",
              "      <td>3962</td>\n",
              "    </tr>\n",
              "    <tr>\n",
              "      <th>3</th>\n",
              "      <td>1599</td>\n",
              "    </tr>\n",
              "    <tr>\n",
              "      <th>4</th>\n",
              "      <td>24424</td>\n",
              "    </tr>\n",
              "  </tbody>\n",
              "</table>\n",
              "</div>"
            ],
            "text/plain": [
              "   positive\n",
              "0      4241\n",
              "1       293\n",
              "2      3962\n",
              "3      1599\n",
              "4     24424"
            ]
          },
          "metadata": {
            "tags": []
          },
          "execution_count": 51
        }
      ]
    },
    {
      "cell_type": "code",
      "metadata": {
        "id": "pIRp9Ht1O9St",
        "colab_type": "code",
        "colab": {}
      },
      "source": [
        "target['positive']= np.log(target['positive'])"
      ],
      "execution_count": 0,
      "outputs": []
    },
    {
      "cell_type": "code",
      "metadata": {
        "id": "nkA7fdyrPRcI",
        "colab_type": "code",
        "outputId": "2129516a-b1d6-448b-9d34-1dc47b8a77e4",
        "colab": {
          "base_uri": "https://localhost:8080/",
          "height": 221
        }
      },
      "source": [
        "target.head()"
      ],
      "execution_count": 53,
      "outputs": [
        {
          "output_type": "execute_result",
          "data": {
            "text/html": [
              "<div>\n",
              "<style scoped>\n",
              "    .dataframe tbody tr th:only-of-type {\n",
              "        vertical-align: middle;\n",
              "    }\n",
              "\n",
              "    .dataframe tbody tr th {\n",
              "        vertical-align: top;\n",
              "    }\n",
              "\n",
              "    .dataframe thead th {\n",
              "        text-align: right;\n",
              "    }\n",
              "</style>\n",
              "<table border=\"1\" class=\"dataframe\">\n",
              "  <thead>\n",
              "    <tr style=\"text-align: right;\">\n",
              "      <th></th>\n",
              "      <th>positive</th>\n",
              "    </tr>\n",
              "  </thead>\n",
              "  <tbody>\n",
              "    <tr>\n",
              "      <th>0</th>\n",
              "      <td>8.352554</td>\n",
              "    </tr>\n",
              "    <tr>\n",
              "      <th>1</th>\n",
              "      <td>5.680173</td>\n",
              "    </tr>\n",
              "    <tr>\n",
              "      <th>2</th>\n",
              "      <td>8.284504</td>\n",
              "    </tr>\n",
              "    <tr>\n",
              "      <th>3</th>\n",
              "      <td>7.377134</td>\n",
              "    </tr>\n",
              "    <tr>\n",
              "      <th>4</th>\n",
              "      <td>10.103322</td>\n",
              "    </tr>\n",
              "  </tbody>\n",
              "</table>\n",
              "</div>"
            ],
            "text/plain": [
              "    positive\n",
              "0   8.352554\n",
              "1   5.680173\n",
              "2   8.284504\n",
              "3   7.377134\n",
              "4  10.103322"
            ]
          },
          "metadata": {
            "tags": []
          },
          "execution_count": 53
        }
      ]
    },
    {
      "cell_type": "code",
      "metadata": {
        "id": "tN4iM47T1tTm",
        "colab_type": "code",
        "outputId": "c7315e60-844d-408e-c96a-25e0ab35c735",
        "colab": {
          "base_uri": "https://localhost:8080/",
          "height": 221
        }
      },
      "source": [
        "X = pd.DataFrame(cases_per_state[['density']])\n",
        "X['Ones'] = 1\n",
        "# Why did we put ones again\n",
        "X.tail()"
      ],
      "execution_count": 54,
      "outputs": [
        {
          "output_type": "execute_result",
          "data": {
            "text/html": [
              "<div>\n",
              "<style scoped>\n",
              "    .dataframe tbody tr th:only-of-type {\n",
              "        vertical-align: middle;\n",
              "    }\n",
              "\n",
              "    .dataframe tbody tr th {\n",
              "        vertical-align: top;\n",
              "    }\n",
              "\n",
              "    .dataframe thead th {\n",
              "        text-align: right;\n",
              "    }\n",
              "</style>\n",
              "<table border=\"1\" class=\"dataframe\">\n",
              "  <thead>\n",
              "    <tr style=\"text-align: right;\">\n",
              "      <th></th>\n",
              "      <th>density</th>\n",
              "      <th>Ones</th>\n",
              "    </tr>\n",
              "  </thead>\n",
              "  <tbody>\n",
              "    <tr>\n",
              "      <th>45</th>\n",
              "      <td>218.4403</td>\n",
              "      <td>1</td>\n",
              "    </tr>\n",
              "    <tr>\n",
              "      <th>46</th>\n",
              "      <td>117.3272</td>\n",
              "      <td>1</td>\n",
              "    </tr>\n",
              "    <tr>\n",
              "      <th>47</th>\n",
              "      <td>73.9691</td>\n",
              "      <td>1</td>\n",
              "    </tr>\n",
              "    <tr>\n",
              "      <th>48</th>\n",
              "      <td>108.0497</td>\n",
              "      <td>1</td>\n",
              "    </tr>\n",
              "    <tr>\n",
              "      <th>49</th>\n",
              "      <td>5.8400</td>\n",
              "      <td>1</td>\n",
              "    </tr>\n",
              "  </tbody>\n",
              "</table>\n",
              "</div>"
            ],
            "text/plain": [
              "     density  Ones\n",
              "45  218.4403     1\n",
              "46  117.3272     1\n",
              "47   73.9691     1\n",
              "48  108.0497     1\n",
              "49    5.8400     1"
            ]
          },
          "metadata": {
            "tags": []
          },
          "execution_count": 54
        }
      ]
    },
    {
      "cell_type": "code",
      "metadata": {
        "id": "Qp4CHYrfPrr6",
        "colab_type": "code",
        "colab": {}
      },
      "source": [
        "X['Ones'] = np.log(X['density'])"
      ],
      "execution_count": 0,
      "outputs": []
    },
    {
      "cell_type": "code",
      "metadata": {
        "id": "tjn9TvmZPyqJ",
        "colab_type": "code",
        "outputId": "3303325c-9f77-42b1-8592-f680fe382ac7",
        "colab": {
          "base_uri": "https://localhost:8080/",
          "height": 221
        }
      },
      "source": [
        "X.head()"
      ],
      "execution_count": 56,
      "outputs": [
        {
          "output_type": "execute_result",
          "data": {
            "text/html": [
              "<div>\n",
              "<style scoped>\n",
              "    .dataframe tbody tr th:only-of-type {\n",
              "        vertical-align: middle;\n",
              "    }\n",
              "\n",
              "    .dataframe tbody tr th {\n",
              "        vertical-align: top;\n",
              "    }\n",
              "\n",
              "    .dataframe thead th {\n",
              "        text-align: right;\n",
              "    }\n",
              "</style>\n",
              "<table border=\"1\" class=\"dataframe\">\n",
              "  <thead>\n",
              "    <tr style=\"text-align: right;\">\n",
              "      <th></th>\n",
              "      <th>density</th>\n",
              "      <th>Ones</th>\n",
              "    </tr>\n",
              "  </thead>\n",
              "  <tbody>\n",
              "    <tr>\n",
              "      <th>0</th>\n",
              "      <td>96.9221</td>\n",
              "      <td>4.573908</td>\n",
              "    </tr>\n",
              "    <tr>\n",
              "      <th>1</th>\n",
              "      <td>1.2863</td>\n",
              "      <td>0.251770</td>\n",
              "    </tr>\n",
              "    <tr>\n",
              "      <th>2</th>\n",
              "      <td>64.9550</td>\n",
              "      <td>4.173695</td>\n",
              "    </tr>\n",
              "    <tr>\n",
              "      <th>3</th>\n",
              "      <td>58.4030</td>\n",
              "      <td>4.067367</td>\n",
              "    </tr>\n",
              "    <tr>\n",
              "      <th>4</th>\n",
              "      <td>256.3727</td>\n",
              "      <td>5.546632</td>\n",
              "    </tr>\n",
              "  </tbody>\n",
              "</table>\n",
              "</div>"
            ],
            "text/plain": [
              "    density      Ones\n",
              "0   96.9221  4.573908\n",
              "1    1.2863  0.251770\n",
              "2   64.9550  4.173695\n",
              "3   58.4030  4.067367\n",
              "4  256.3727  5.546632"
            ]
          },
          "metadata": {
            "tags": []
          },
          "execution_count": 56
        }
      ]
    },
    {
      "cell_type": "code",
      "metadata": {
        "id": "2xOaISHN2bAZ",
        "colab_type": "code",
        "outputId": "51812221-cb19-43ab-b5c0-25fb74e450e2",
        "colab": {
          "base_uri": "https://localhost:8080/",
          "height": 881
        }
      },
      "source": [
        "model = sm.OLS(target, X).fit()\n",
        "model.summary()"
      ],
      "execution_count": 57,
      "outputs": [
        {
          "output_type": "execute_result",
          "data": {
            "text/html": [
              "<table class=\"simpletable\">\n",
              "<caption>OLS Regression Results</caption>\n",
              "<tr>\n",
              "  <th>Dep. Variable:</th>        <td>positive</td>     <th>  R-squared (uncentered):</th>      <td>   0.966</td>\n",
              "</tr>\n",
              "<tr>\n",
              "  <th>Model:</th>                   <td>OLS</td>       <th>  Adj. R-squared (uncentered):</th> <td>   0.965</td>\n",
              "</tr>\n",
              "<tr>\n",
              "  <th>Method:</th>             <td>Least Squares</td>  <th>  F-statistic:       </th>          <td>   687.8</td>\n",
              "</tr>\n",
              "<tr>\n",
              "  <th>Date:</th>             <td>Tue, 28 Apr 2020</td> <th>  Prob (F-statistic):</th>          <td>4.66e-36</td>\n",
              "</tr>\n",
              "<tr>\n",
              "  <th>Time:</th>                 <td>14:35:21</td>     <th>  Log-Likelihood:    </th>          <td> -92.800</td>\n",
              "</tr>\n",
              "<tr>\n",
              "  <th>No. Observations:</th>      <td>    50</td>      <th>  AIC:               </th>          <td>   189.6</td>\n",
              "</tr>\n",
              "<tr>\n",
              "  <th>Df Residuals:</th>          <td>    48</td>      <th>  BIC:               </th>          <td>   193.4</td>\n",
              "</tr>\n",
              "<tr>\n",
              "  <th>Df Model:</th>              <td>     2</td>      <th>                     </th>              <td> </td>   \n",
              "</tr>\n",
              "<tr>\n",
              "  <th>Covariance Type:</th>      <td>nonrobust</td>    <th>                     </th>              <td> </td>   \n",
              "</tr>\n",
              "</table>\n",
              "<table class=\"simpletable\">\n",
              "<tr>\n",
              "     <td></td>        <th>coef</th>     <th>std err</th>      <th>t</th>      <th>P>|t|</th>  <th>[0.025</th>    <th>0.975]</th>  \n",
              "</tr>\n",
              "<tr>\n",
              "  <th>density</th> <td>   -0.0008</td> <td>    0.000</td> <td>   -5.799</td> <td> 0.000</td> <td>   -0.001</td> <td>   -0.001</td>\n",
              "</tr>\n",
              "<tr>\n",
              "  <th>Ones</th>    <td>    1.7956</td> <td>    0.050</td> <td>   35.801</td> <td> 0.000</td> <td>    1.695</td> <td>    1.896</td>\n",
              "</tr>\n",
              "</table>\n",
              "<table class=\"simpletable\">\n",
              "<tr>\n",
              "  <th>Omnibus:</th>       <td> 3.964</td> <th>  Durbin-Watson:     </th> <td>   1.845</td>\n",
              "</tr>\n",
              "<tr>\n",
              "  <th>Prob(Omnibus):</th> <td> 0.138</td> <th>  Jarque-Bera (JB):  </th> <td>   3.778</td>\n",
              "</tr>\n",
              "<tr>\n",
              "  <th>Skew:</th>          <td> 0.182</td> <th>  Prob(JB):          </th> <td>   0.151</td>\n",
              "</tr>\n",
              "<tr>\n",
              "  <th>Kurtosis:</th>      <td> 4.297</td> <th>  Cond. No.          </th> <td>    382.</td>\n",
              "</tr>\n",
              "</table><br/><br/>Warnings:<br/>[1] Standard Errors assume that the covariance matrix of the errors is correctly specified."
            ],
            "text/plain": [
              "<class 'statsmodels.iolib.summary.Summary'>\n",
              "\"\"\"\n",
              "                                 OLS Regression Results                                \n",
              "=======================================================================================\n",
              "Dep. Variable:               positive   R-squared (uncentered):                   0.966\n",
              "Model:                            OLS   Adj. R-squared (uncentered):              0.965\n",
              "Method:                 Least Squares   F-statistic:                              687.8\n",
              "Date:                Tue, 28 Apr 2020   Prob (F-statistic):                    4.66e-36\n",
              "Time:                        14:35:21   Log-Likelihood:                         -92.800\n",
              "No. Observations:                  50   AIC:                                      189.6\n",
              "Df Residuals:                      48   BIC:                                      193.4\n",
              "Df Model:                           2                                                  \n",
              "Covariance Type:            nonrobust                                                  \n",
              "==============================================================================\n",
              "                 coef    std err          t      P>|t|      [0.025      0.975]\n",
              "------------------------------------------------------------------------------\n",
              "density       -0.0008      0.000     -5.799      0.000      -0.001      -0.001\n",
              "Ones           1.7956      0.050     35.801      0.000       1.695       1.896\n",
              "==============================================================================\n",
              "Omnibus:                        3.964   Durbin-Watson:                   1.845\n",
              "Prob(Omnibus):                  0.138   Jarque-Bera (JB):                3.778\n",
              "Skew:                           0.182   Prob(JB):                        0.151\n",
              "Kurtosis:                       4.297   Cond. No.                         382.\n",
              "==============================================================================\n",
              "\n",
              "Warnings:\n",
              "[1] Standard Errors assume that the covariance matrix of the errors is correctly specified.\n",
              "\"\"\""
            ]
          },
          "metadata": {
            "tags": []
          },
          "execution_count": 57
        }
      ]
    },
    {
      "cell_type": "code",
      "metadata": {
        "id": "zIMvILVm3XFx",
        "colab_type": "code",
        "colab": {}
      },
      "source": [
        "predictions = model.predict(X)"
      ],
      "execution_count": 0,
      "outputs": []
    },
    {
      "cell_type": "code",
      "metadata": {
        "id": "tmYX1_ft5y-O",
        "colab_type": "code",
        "outputId": "7da747bc-5a58-409f-a8a1-ba0345896d8b",
        "colab": {
          "base_uri": "https://localhost:8080/",
          "height": 52
        }
      },
      "source": [
        "from sklearn import linear_model\n",
        "\n",
        "reg = linear_model.LinearRegression()\n",
        "reg.fit(X, target)\n",
        "target_predict = reg.predict(X)\n",
        "\n",
        "reg.score(X,target)"
      ],
      "execution_count": 59,
      "outputs": [
        {
          "output_type": "execute_result",
          "data": {
            "text/plain": [
              "0.5933153660154173"
            ]
          },
          "metadata": {
            "tags": []
          },
          "execution_count": 59
        }
      ]
    },
    {
      "cell_type": "code",
      "metadata": {
        "id": "KxCFjVjW6AEZ",
        "colab_type": "code",
        "outputId": "8c6360ce-cfcd-4f0a-b7ef-a5a5d72897fe",
        "colab": {
          "base_uri": "https://localhost:8080/",
          "height": 85
        }
      },
      "source": [
        "print(reg.coef_)\n",
        "print(reg.intercept_)\n",
        "\n",
        "plt.figure(figsize=(10,10));\n",
        "plt.scatter(target, target_predict);\n",
        "#plt.axhline(y=0.0, c='red');"
      ],
      "execution_count": 60,
      "outputs": [
        {
          "output_type": "stream",
          "text": [
            "[[-4.14002943e-04  8.62381384e-01]]\n",
            "[4.49058337]\n"
          ],
          "name": "stdout"
        },
        {
          "output_type": "display_data",
          "data": {
            "image/png": "[encoded data removed]",
            "text/plain": [
              "<Figure size 720x720 with 1 Axes>"
            ]
          },
          "metadata": {
            "tags": [],
            "needs_background": "light"
          }
        }
      ]
    },
    {
      "cell_type": "markdown",
      "metadata": {
        "id": "cTH5Qzdq5Tk-",
        "colab_type": "text"
      },
      "source": [
        "## Covid vs Government Intervention"
      ]
    },
    {
      "cell_type": "code",
      "metadata": {
        "id": "OEu8cyPN3ZKP",
        "colab_type": "code",
        "outputId": "77cba221-7d2b-432c-fea9-283155b4b2ea",
        "colab": {
          "base_uri": "https://localhost:8080/",
          "height": 52
        }
      },
      "source": [
        "plt.figure(figsize=[15,10])\n",
        "plt.scatter(cases_per_state['Effective Date'],cases_per_state['positive']/cases_per_state['tested'])\n",
        "#plt.xscale('log')\n",
        "plt.yscale('log')\n",
        "plt.title('Government invtervention vs Percentage of Covid Cases', fontsize=25)\n",
        "plt.xlabel('Stay at Home Effective Date',fontsize=15)\n",
        "plt.ylabel('Positive Covid Cases', fontsize=15)\n",
        "plt.show();"
      ],
      "execution_count": 61,
      "outputs": [
        {
          "output_type": "display_data",
          "data": {
            "image/png": "[encoded data removed]",
            "text/plain": [
              "<Figure size 1080x720 with 1 Axes>"
            ]
          },
          "metadata": {
            "tags": [],
            "needs_background": "light"
          }
        }
      ]
    },
    {
      "cell_type": "code",
      "metadata": {
        "id": "tYWcQEEs5YfR",
        "colab_type": "code",
        "outputId": "3623bded-ec2a-45e9-da01-7ccf2ec953ff",
        "colab": {
          "base_uri": "https://localhost:8080/",
          "height": 237
        }
      },
      "source": [
        "cases_per_state.sort_values('Effective Date', ascending=True).head()"
      ],
      "execution_count": 62,
      "outputs": [
        {
          "output_type": "execute_result",
          "data": {
            "text/html": [
              "<div>\n",
              "<style scoped>\n",
              "    .dataframe tbody tr th:only-of-type {\n",
              "        vertical-align: middle;\n",
              "    }\n",
              "\n",
              "    .dataframe tbody tr th {\n",
              "        vertical-align: top;\n",
              "    }\n",
              "\n",
              "    .dataframe thead th {\n",
              "        text-align: right;\n",
              "    }\n",
              "</style>\n",
              "<table border=\"1\" class=\"dataframe\">\n",
              "  <thead>\n",
              "    <tr style=\"text-align: right;\">\n",
              "      <th></th>\n",
              "      <th>State</th>\n",
              "      <th>Date Announced</th>\n",
              "      <th>Effective Date</th>\n",
              "      <th>rank</th>\n",
              "      <th>Pop</th>\n",
              "      <th>Pop2010</th>\n",
              "      <th>density</th>\n",
              "      <th>state_abbrev</th>\n",
              "      <th>tested</th>\n",
              "      <th>positive</th>\n",
              "      <th>deaths</th>\n",
              "      <th>case_per_capita</th>\n",
              "    </tr>\n",
              "  </thead>\n",
              "  <tbody>\n",
              "    <tr>\n",
              "      <th>4</th>\n",
              "      <td>California</td>\n",
              "      <td>2020-03-19</td>\n",
              "      <td>2020-03-19</td>\n",
              "      <td>1</td>\n",
              "      <td>39937489</td>\n",
              "      <td>37320903</td>\n",
              "      <td>256.3727</td>\n",
              "      <td>CA</td>\n",
              "      <td>227600</td>\n",
              "      <td>24424</td>\n",
              "      <td>821</td>\n",
              "      <td>0.061156</td>\n",
              "    </tr>\n",
              "    <tr>\n",
              "      <th>12</th>\n",
              "      <td>Illinois</td>\n",
              "      <td>2020-03-20</td>\n",
              "      <td>2020-03-21</td>\n",
              "      <td>6</td>\n",
              "      <td>12659682</td>\n",
              "      <td>12840762</td>\n",
              "      <td>228.0243</td>\n",
              "      <td>IL</td>\n",
              "      <td>116929</td>\n",
              "      <td>24593</td>\n",
              "      <td>948</td>\n",
              "      <td>0.194262</td>\n",
              "    </tr>\n",
              "    <tr>\n",
              "      <th>29</th>\n",
              "      <td>New Jersey</td>\n",
              "      <td>2020-03-20</td>\n",
              "      <td>2020-03-21</td>\n",
              "      <td>11</td>\n",
              "      <td>8936574</td>\n",
              "      <td>8799624</td>\n",
              "      <td>1215.1991</td>\n",
              "      <td>NJ</td>\n",
              "      <td>144021</td>\n",
              "      <td>71030</td>\n",
              "      <td>3156</td>\n",
              "      <td>0.794824</td>\n",
              "    </tr>\n",
              "    <tr>\n",
              "      <th>31</th>\n",
              "      <td>New York</td>\n",
              "      <td>2020-03-20</td>\n",
              "      <td>2020-03-22</td>\n",
              "      <td>4</td>\n",
              "      <td>19440469</td>\n",
              "      <td>19400080</td>\n",
              "      <td>412.5211</td>\n",
              "      <td>NY</td>\n",
              "      <td>526012</td>\n",
              "      <td>213779</td>\n",
              "      <td>11586</td>\n",
              "      <td>1.099660</td>\n",
              "    </tr>\n",
              "    <tr>\n",
              "      <th>46</th>\n",
              "      <td>Washington</td>\n",
              "      <td>2020-03-23</td>\n",
              "      <td>2020-03-23</td>\n",
              "      <td>13</td>\n",
              "      <td>7797095</td>\n",
              "      <td>6742902</td>\n",
              "      <td>117.3272</td>\n",
              "      <td>WA</td>\n",
              "      <td>124283</td>\n",
              "      <td>10783</td>\n",
              "      <td>567</td>\n",
              "      <td>0.138295</td>\n",
              "    </tr>\n",
              "  </tbody>\n",
              "</table>\n",
              "</div>"
            ],
            "text/plain": [
              "         State Date Announced Effective Date  ...  positive  deaths  case_per_capita\n",
              "4   California     2020-03-19     2020-03-19  ...     24424     821         0.061156\n",
              "12    Illinois     2020-03-20     2020-03-21  ...     24593     948         0.194262\n",
              "29  New Jersey     2020-03-20     2020-03-21  ...     71030    3156         0.794824\n",
              "31    New York     2020-03-20     2020-03-22  ...    213779   11586         1.099660\n",
              "46  Washington     2020-03-23     2020-03-23  ...     10783     567         0.138295\n",
              "\n",
              "[5 rows x 12 columns]"
            ]
          },
          "metadata": {
            "tags": []
          },
          "execution_count": 62
        }
      ]
    },
    {
      "cell_type": "markdown",
      "metadata": {
        "id": "F3NPxBdAT0io",
        "colab_type": "text"
      },
      "source": [
        "### Creating loop(maybe function later) to grab select states and view cases over time"
      ]
    },
    {
      "cell_type": "code",
      "metadata": {
        "id": "i0OhlcfnpfEu",
        "colab_type": "code",
        "outputId": "ab04a375-afe3-4ffa-f7d6-1f6352ce215c",
        "colab": {
          "base_uri": "https://localhost:8080/",
          "height": 303
        }
      },
      "source": [
        "c_df.head()"
      ],
      "execution_count": 63,
      "outputs": [
        {
          "output_type": "execute_result",
          "data": {
            "text/html": [
              "<div>\n",
              "<style scoped>\n",
              "    .dataframe tbody tr th:only-of-type {\n",
              "        vertical-align: middle;\n",
              "    }\n",
              "\n",
              "    .dataframe tbody tr th {\n",
              "        vertical-align: top;\n",
              "    }\n",
              "\n",
              "    .dataframe thead th {\n",
              "        text-align: right;\n",
              "    }\n",
              "</style>\n",
              "<table border=\"1\" class=\"dataframe\">\n",
              "  <thead>\n",
              "    <tr style=\"text-align: right;\">\n",
              "      <th></th>\n",
              "      <th>date</th>\n",
              "      <th>county</th>\n",
              "      <th>state</th>\n",
              "      <th>fips</th>\n",
              "      <th>cases</th>\n",
              "      <th>deaths</th>\n",
              "    </tr>\n",
              "  </thead>\n",
              "  <tbody>\n",
              "    <tr>\n",
              "      <th>0</th>\n",
              "      <td>2020-01-21</td>\n",
              "      <td>Snohomish</td>\n",
              "      <td>Washington</td>\n",
              "      <td>53061.0</td>\n",
              "      <td>1</td>\n",
              "      <td>0</td>\n",
              "    </tr>\n",
              "    <tr>\n",
              "      <th>1</th>\n",
              "      <td>2020-01-22</td>\n",
              "      <td>Snohomish</td>\n",
              "      <td>Washington</td>\n",
              "      <td>53061.0</td>\n",
              "      <td>1</td>\n",
              "      <td>0</td>\n",
              "    </tr>\n",
              "    <tr>\n",
              "      <th>2</th>\n",
              "      <td>2020-01-23</td>\n",
              "      <td>Snohomish</td>\n",
              "      <td>Washington</td>\n",
              "      <td>53061.0</td>\n",
              "      <td>1</td>\n",
              "      <td>0</td>\n",
              "    </tr>\n",
              "    <tr>\n",
              "      <th>3</th>\n",
              "      <td>2020-01-24</td>\n",
              "      <td>Cook</td>\n",
              "      <td>Illinois</td>\n",
              "      <td>17031.0</td>\n",
              "      <td>1</td>\n",
              "      <td>0</td>\n",
              "    </tr>\n",
              "    <tr>\n",
              "      <th>4</th>\n",
              "      <td>2020-01-24</td>\n",
              "      <td>Snohomish</td>\n",
              "      <td>Washington</td>\n",
              "      <td>53061.0</td>\n",
              "      <td>1</td>\n",
              "      <td>0</td>\n",
              "    </tr>\n",
              "  </tbody>\n",
              "</table>\n",
              "</div>"
            ],
            "text/plain": [
              "        date     county       state     fips  cases  deaths\n",
              "0 2020-01-21  Snohomish  Washington  53061.0      1       0\n",
              "1 2020-01-22  Snohomish  Washington  53061.0      1       0\n",
              "2 2020-01-23  Snohomish  Washington  53061.0      1       0\n",
              "3 2020-01-24       Cook    Illinois  17031.0      1       0\n",
              "4 2020-01-24  Snohomish  Washington  53061.0      1       0"
            ]
          },
          "metadata": {
            "tags": []
          },
          "execution_count": 63
        }
      ]
    },
    {
      "cell_type": "code",
      "metadata": {
        "id": "mY5Rhe9j7Tr0",
        "colab_type": "code",
        "outputId": "3fc3cf33-ce5f-4300-d031-ffbab3339b3c",
        "colab": {
          "base_uri": "https://localhost:8080/",
          "height": 320
        }
      },
      "source": [
        "print(c_df.shape)\n",
        "c_df.head()"
      ],
      "execution_count": 64,
      "outputs": [
        {
          "output_type": "stream",
          "text": [
            "(48509, 6)\n"
          ],
          "name": "stdout"
        },
        {
          "output_type": "execute_result",
          "data": {
            "text/html": [
              "<div>\n",
              "<style scoped>\n",
              "    .dataframe tbody tr th:only-of-type {\n",
              "        vertical-align: middle;\n",
              "    }\n",
              "\n",
              "    .dataframe tbody tr th {\n",
              "        vertical-align: top;\n",
              "    }\n",
              "\n",
              "    .dataframe thead th {\n",
              "        text-align: right;\n",
              "    }\n",
              "</style>\n",
              "<table border=\"1\" class=\"dataframe\">\n",
              "  <thead>\n",
              "    <tr style=\"text-align: right;\">\n",
              "      <th></th>\n",
              "      <th>date</th>\n",
              "      <th>county</th>\n",
              "      <th>state</th>\n",
              "      <th>fips</th>\n",
              "      <th>cases</th>\n",
              "      <th>deaths</th>\n",
              "    </tr>\n",
              "  </thead>\n",
              "  <tbody>\n",
              "    <tr>\n",
              "      <th>0</th>\n",
              "      <td>2020-01-21</td>\n",
              "      <td>Snohomish</td>\n",
              "      <td>Washington</td>\n",
              "      <td>53061.0</td>\n",
              "      <td>1</td>\n",
              "      <td>0</td>\n",
              "    </tr>\n",
              "    <tr>\n",
              "      <th>1</th>\n",
              "      <td>2020-01-22</td>\n",
              "      <td>Snohomish</td>\n",
              "      <td>Washington</td>\n",
              "      <td>53061.0</td>\n",
              "      <td>1</td>\n",
              "      <td>0</td>\n",
              "    </tr>\n",
              "    <tr>\n",
              "      <th>2</th>\n",
              "      <td>2020-01-23</td>\n",
              "      <td>Snohomish</td>\n",
              "      <td>Washington</td>\n",
              "      <td>53061.0</td>\n",
              "      <td>1</td>\n",
              "      <td>0</td>\n",
              "    </tr>\n",
              "    <tr>\n",
              "      <th>3</th>\n",
              "      <td>2020-01-24</td>\n",
              "      <td>Cook</td>\n",
              "      <td>Illinois</td>\n",
              "      <td>17031.0</td>\n",
              "      <td>1</td>\n",
              "      <td>0</td>\n",
              "    </tr>\n",
              "    <tr>\n",
              "      <th>4</th>\n",
              "      <td>2020-01-24</td>\n",
              "      <td>Snohomish</td>\n",
              "      <td>Washington</td>\n",
              "      <td>53061.0</td>\n",
              "      <td>1</td>\n",
              "      <td>0</td>\n",
              "    </tr>\n",
              "  </tbody>\n",
              "</table>\n",
              "</div>"
            ],
            "text/plain": [
              "        date     county       state     fips  cases  deaths\n",
              "0 2020-01-21  Snohomish  Washington  53061.0      1       0\n",
              "1 2020-01-22  Snohomish  Washington  53061.0      1       0\n",
              "2 2020-01-23  Snohomish  Washington  53061.0      1       0\n",
              "3 2020-01-24       Cook    Illinois  17031.0      1       0\n",
              "4 2020-01-24  Snohomish  Washington  53061.0      1       0"
            ]
          },
          "metadata": {
            "tags": []
          },
          "execution_count": 64
        }
      ]
    },
    {
      "cell_type": "code",
      "metadata": {
        "id": "MVG0A16-9PXZ",
        "colab_type": "code",
        "colab": {}
      },
      "source": [
        "top_states = ['California','Texas', 'Florida', 'New York', 'Pennsylvania']"
      ],
      "execution_count": 0,
      "outputs": []
    },
    {
      "cell_type": "code",
      "metadata": {
        "id": "t0B5Z3CbIW6g",
        "colab_type": "code",
        "colab": {}
      },
      "source": [
        "select_states = []\n",
        "#for x in top_states:\n",
        "for index, row in c_df.iterrows():\n",
        "  if row['state'] in top_states:\n",
        "    select_states.append(row)\n",
        "ss_df = pd.DataFrame(select_states, columns=c_df.columns)      "
      ],
      "execution_count": 0,
      "outputs": []
    },
    {
      "cell_type": "code",
      "metadata": {
        "id": "0uFQDlV2UhjA",
        "colab_type": "code",
        "colab": {}
      },
      "source": [
        "# def select_state_cases(df,state_col_name, list_of_states):\n",
        "#   choice_states=[]\n",
        "#   for x in list_of_states:\n",
        "#     for index,row in df.iterrows():\n",
        "#       if row[state_col_name] in list_of_states:\n",
        "#         choice_states.append(row[state_col_name])\n",
        "#   cs_df = pd.DataFrame(choice_states, columns=df.columns)"
      ],
      "execution_count": 0,
      "outputs": []
    },
    {
      "cell_type": "code",
      "metadata": {
        "id": "v_wmZ5OXS5he",
        "colab_type": "code",
        "outputId": "44929828-7ff0-49b9-c7d4-6cba4e9e0587",
        "colab": {
          "base_uri": "https://localhost:8080/",
          "height": 774
        }
      },
      "source": [
        "ss_df.head(15)"
      ],
      "execution_count": 68,
      "outputs": [
        {
          "output_type": "execute_result",
          "data": {
            "text/html": [
              "<div>\n",
              "<style scoped>\n",
              "    .dataframe tbody tr th:only-of-type {\n",
              "        vertical-align: middle;\n",
              "    }\n",
              "\n",
              "    .dataframe tbody tr th {\n",
              "        vertical-align: top;\n",
              "    }\n",
              "\n",
              "    .dataframe thead th {\n",
              "        text-align: right;\n",
              "    }\n",
              "</style>\n",
              "<table border=\"1\" class=\"dataframe\">\n",
              "  <thead>\n",
              "    <tr style=\"text-align: right;\">\n",
              "      <th></th>\n",
              "      <th>date</th>\n",
              "      <th>county</th>\n",
              "      <th>state</th>\n",
              "      <th>fips</th>\n",
              "      <th>cases</th>\n",
              "      <th>deaths</th>\n",
              "    </tr>\n",
              "  </thead>\n",
              "  <tbody>\n",
              "    <tr>\n",
              "      <th>5</th>\n",
              "      <td>2020-01-25</td>\n",
              "      <td>Orange</td>\n",
              "      <td>California</td>\n",
              "      <td>6059.0</td>\n",
              "      <td>1</td>\n",
              "      <td>0</td>\n",
              "    </tr>\n",
              "    <tr>\n",
              "      <th>9</th>\n",
              "      <td>2020-01-26</td>\n",
              "      <td>Los Angeles</td>\n",
              "      <td>California</td>\n",
              "      <td>6037.0</td>\n",
              "      <td>1</td>\n",
              "      <td>0</td>\n",
              "    </tr>\n",
              "    <tr>\n",
              "      <th>10</th>\n",
              "      <td>2020-01-26</td>\n",
              "      <td>Orange</td>\n",
              "      <td>California</td>\n",
              "      <td>6059.0</td>\n",
              "      <td>1</td>\n",
              "      <td>0</td>\n",
              "    </tr>\n",
              "    <tr>\n",
              "      <th>14</th>\n",
              "      <td>2020-01-27</td>\n",
              "      <td>Los Angeles</td>\n",
              "      <td>California</td>\n",
              "      <td>6037.0</td>\n",
              "      <td>1</td>\n",
              "      <td>0</td>\n",
              "    </tr>\n",
              "    <tr>\n",
              "      <th>15</th>\n",
              "      <td>2020-01-27</td>\n",
              "      <td>Orange</td>\n",
              "      <td>California</td>\n",
              "      <td>6059.0</td>\n",
              "      <td>1</td>\n",
              "      <td>0</td>\n",
              "    </tr>\n",
              "    <tr>\n",
              "      <th>19</th>\n",
              "      <td>2020-01-28</td>\n",
              "      <td>Los Angeles</td>\n",
              "      <td>California</td>\n",
              "      <td>6037.0</td>\n",
              "      <td>1</td>\n",
              "      <td>0</td>\n",
              "    </tr>\n",
              "    <tr>\n",
              "      <th>20</th>\n",
              "      <td>2020-01-28</td>\n",
              "      <td>Orange</td>\n",
              "      <td>California</td>\n",
              "      <td>6059.0</td>\n",
              "      <td>1</td>\n",
              "      <td>0</td>\n",
              "    </tr>\n",
              "    <tr>\n",
              "      <th>24</th>\n",
              "      <td>2020-01-29</td>\n",
              "      <td>Los Angeles</td>\n",
              "      <td>California</td>\n",
              "      <td>6037.0</td>\n",
              "      <td>1</td>\n",
              "      <td>0</td>\n",
              "    </tr>\n",
              "    <tr>\n",
              "      <th>25</th>\n",
              "      <td>2020-01-29</td>\n",
              "      <td>Orange</td>\n",
              "      <td>California</td>\n",
              "      <td>6059.0</td>\n",
              "      <td>1</td>\n",
              "      <td>0</td>\n",
              "    </tr>\n",
              "    <tr>\n",
              "      <th>29</th>\n",
              "      <td>2020-01-30</td>\n",
              "      <td>Los Angeles</td>\n",
              "      <td>California</td>\n",
              "      <td>6037.0</td>\n",
              "      <td>1</td>\n",
              "      <td>0</td>\n",
              "    </tr>\n",
              "    <tr>\n",
              "      <th>30</th>\n",
              "      <td>2020-01-30</td>\n",
              "      <td>Orange</td>\n",
              "      <td>California</td>\n",
              "      <td>6059.0</td>\n",
              "      <td>1</td>\n",
              "      <td>0</td>\n",
              "    </tr>\n",
              "    <tr>\n",
              "      <th>34</th>\n",
              "      <td>2020-01-31</td>\n",
              "      <td>Los Angeles</td>\n",
              "      <td>California</td>\n",
              "      <td>6037.0</td>\n",
              "      <td>1</td>\n",
              "      <td>0</td>\n",
              "    </tr>\n",
              "    <tr>\n",
              "      <th>35</th>\n",
              "      <td>2020-01-31</td>\n",
              "      <td>Orange</td>\n",
              "      <td>California</td>\n",
              "      <td>6059.0</td>\n",
              "      <td>1</td>\n",
              "      <td>0</td>\n",
              "    </tr>\n",
              "    <tr>\n",
              "      <th>36</th>\n",
              "      <td>2020-01-31</td>\n",
              "      <td>Santa Clara</td>\n",
              "      <td>California</td>\n",
              "      <td>6085.0</td>\n",
              "      <td>1</td>\n",
              "      <td>0</td>\n",
              "    </tr>\n",
              "    <tr>\n",
              "      <th>40</th>\n",
              "      <td>2020-02-01</td>\n",
              "      <td>Los Angeles</td>\n",
              "      <td>California</td>\n",
              "      <td>6037.0</td>\n",
              "      <td>1</td>\n",
              "      <td>0</td>\n",
              "    </tr>\n",
              "  </tbody>\n",
              "</table>\n",
              "</div>"
            ],
            "text/plain": [
              "         date       county       state    fips  cases  deaths\n",
              "5  2020-01-25       Orange  California  6059.0      1       0\n",
              "9  2020-01-26  Los Angeles  California  6037.0      1       0\n",
              "10 2020-01-26       Orange  California  6059.0      1       0\n",
              "14 2020-01-27  Los Angeles  California  6037.0      1       0\n",
              "15 2020-01-27       Orange  California  6059.0      1       0\n",
              "19 2020-01-28  Los Angeles  California  6037.0      1       0\n",
              "20 2020-01-28       Orange  California  6059.0      1       0\n",
              "24 2020-01-29  Los Angeles  California  6037.0      1       0\n",
              "25 2020-01-29       Orange  California  6059.0      1       0\n",
              "29 2020-01-30  Los Angeles  California  6037.0      1       0\n",
              "30 2020-01-30       Orange  California  6059.0      1       0\n",
              "34 2020-01-31  Los Angeles  California  6037.0      1       0\n",
              "35 2020-01-31       Orange  California  6059.0      1       0\n",
              "36 2020-01-31  Santa Clara  California  6085.0      1       0\n",
              "40 2020-02-01  Los Angeles  California  6037.0      1       0"
            ]
          },
          "metadata": {
            "tags": []
          },
          "execution_count": 68
        }
      ]
    },
    {
      "cell_type": "code",
      "metadata": {
        "id": "202CPBAloVVa",
        "colab_type": "code",
        "colab": {}
      },
      "source": [
        "ss_df = pd.DataFrame(ss_df.groupby(['date','state'])['cases'].sum())\n",
        "ss_df.reset_index(inplace=True)"
      ],
      "execution_count": 0,
      "outputs": []
    },
    {
      "cell_type": "code",
      "metadata": {
        "id": "g1dqgdUKOBaX",
        "colab_type": "code",
        "colab": {}
      },
      "source": [
        "# ss_df_clean.reset_index(inplace=True)"
      ],
      "execution_count": 0,
      "outputs": []
    },
    {
      "cell_type": "code",
      "metadata": {
        "id": "Ebkzi1Ze3tjB",
        "colab_type": "code",
        "outputId": "981ac2d4-4454-4aa4-9480-de0a43e04e22",
        "colab": {
          "base_uri": "https://localhost:8080/",
          "height": 303
        }
      },
      "source": [
        "ss_df.head()"
      ],
      "execution_count": 71,
      "outputs": [
        {
          "output_type": "execute_result",
          "data": {
            "text/html": [
              "<div>\n",
              "<style scoped>\n",
              "    .dataframe tbody tr th:only-of-type {\n",
              "        vertical-align: middle;\n",
              "    }\n",
              "\n",
              "    .dataframe tbody tr th {\n",
              "        vertical-align: top;\n",
              "    }\n",
              "\n",
              "    .dataframe thead th {\n",
              "        text-align: right;\n",
              "    }\n",
              "</style>\n",
              "<table border=\"1\" class=\"dataframe\">\n",
              "  <thead>\n",
              "    <tr style=\"text-align: right;\">\n",
              "      <th></th>\n",
              "      <th>date</th>\n",
              "      <th>state</th>\n",
              "      <th>cases</th>\n",
              "    </tr>\n",
              "  </thead>\n",
              "  <tbody>\n",
              "    <tr>\n",
              "      <th>0</th>\n",
              "      <td>2020-01-25</td>\n",
              "      <td>California</td>\n",
              "      <td>1</td>\n",
              "    </tr>\n",
              "    <tr>\n",
              "      <th>1</th>\n",
              "      <td>2020-01-26</td>\n",
              "      <td>California</td>\n",
              "      <td>2</td>\n",
              "    </tr>\n",
              "    <tr>\n",
              "      <th>2</th>\n",
              "      <td>2020-01-27</td>\n",
              "      <td>California</td>\n",
              "      <td>2</td>\n",
              "    </tr>\n",
              "    <tr>\n",
              "      <th>3</th>\n",
              "      <td>2020-01-28</td>\n",
              "      <td>California</td>\n",
              "      <td>2</td>\n",
              "    </tr>\n",
              "    <tr>\n",
              "      <th>4</th>\n",
              "      <td>2020-01-29</td>\n",
              "      <td>California</td>\n",
              "      <td>2</td>\n",
              "    </tr>\n",
              "  </tbody>\n",
              "</table>\n",
              "</div>"
            ],
            "text/plain": [
              "        date       state  cases\n",
              "0 2020-01-25  California      1\n",
              "1 2020-01-26  California      2\n",
              "2 2020-01-27  California      2\n",
              "3 2020-01-28  California      2\n",
              "4 2020-01-29  California      2"
            ]
          },
          "metadata": {
            "tags": []
          },
          "execution_count": 71
        }
      ]
    },
    {
      "cell_type": "code",
      "metadata": {
        "id": "Y_zEjXRr3GfN",
        "colab_type": "code",
        "outputId": "6baf749a-25c8-4092-d2a9-7f735177befb",
        "colab": {
          "base_uri": "https://localhost:8080/",
          "height": 69
        }
      },
      "source": [
        "ss_df.state.unique()"
      ],
      "execution_count": 72,
      "outputs": [
        {
          "output_type": "execute_result",
          "data": {
            "text/plain": [
              "array(['California', 'Texas', 'Florida', 'New York', 'Pennsylvania'],\n",
              "      dtype=object)"
            ]
          },
          "metadata": {
            "tags": []
          },
          "execution_count": 72
        }
      ]
    },
    {
      "cell_type": "code",
      "metadata": {
        "id": "6Xn8B7Z9UxyG",
        "colab_type": "code",
        "colab": {}
      },
      "source": [
        " cali_df = ss_df[ss_df['state'].str.contains('California')].copy(deep=True)\n",
        "tex_df = ss_df[ss_df['state'].str.contains('Texas')].copy(deep=True)\n",
        "flo_df = ss_df[ss_df['state'].str.contains('Florida')].copy(deep=True)\n",
        "ny_df = ss_df[ss_df['state'].str.contains('New York')].copy(deep=True)\n",
        "penn_df = ss_df[ss_df['state'].str.contains('Pennsylvania')].copy(deep=True)"
      ],
      "execution_count": 0,
      "outputs": []
    },
    {
      "cell_type": "code",
      "metadata": {
        "id": "RLkNhg8aeylu",
        "colab_type": "code",
        "outputId": "6911331b-f830-4049-c337-7fb0bb013236",
        "colab": {
          "base_uri": "https://localhost:8080/",
          "height": 52
        }
      },
      "source": [
        "plt.figure(figsize=[10,10])\n",
        "plt.plot(cali_df['date'],cali_df['cases'], label='California')\n",
        "plt.plot(tex_df['date'], tex_df['cases'], label='Texas')\n",
        "plt.plot(flo_df['date'], flo_df['cases'], label='Florida')\n",
        "plt.plot(ny_df['date'], ny_df['cases'], label='New York')\n",
        "plt.plot(penn_df['date'], penn_df['cases'], label='Pennsylvania')\n",
        "\n",
        "plt.yscale('log')\n",
        "plt.xlabel('Dates by Week', fontsize=15)\n",
        "plt.ylabel('Number of cases', fontsize=15)\n",
        "plt.title('Cases of top 5 states pop', fontsize=25)\n",
        "plt.axvline(pd.to_datetime('2020-3-19'), color='Black', linestyle= '--', label='Cali Stay At Home Orders Effective Date')\n",
        "plt.axvline(pd.to_datetime('2020-03-22'), color='Pink', linestyle= '--', label='NY Stay At Home Orders Effective Date')\n",
        "plt.legend(borderpad=2, labelspacing=2,fontsize=10);"
      ],
      "execution_count": 74,
      "outputs": [
        {
          "output_type": "display_data",
          "data": {
            "image/png": "[encoded data removed]",
            "text/plain": [
              "<Figure size 720x720 with 1 Axes>"
            ]
          },
          "metadata": {
            "tags": [],
            "needs_background": "light"
          }
        }
      ]
    },
    {
      "cell_type": "code",
      "metadata": {
        "id": "ba4wXlZoFjfS",
        "colab_type": "code",
        "colab": {
          "base_uri": "https://localhost:8080/",
          "height": 1000
        },
        "outputId": "71889aa2-5211-4831-b0b9-38fabb8c0280"
      },
      "source": [
        "sah_df.head(50)"
      ],
      "execution_count": 75,
      "outputs": [
        {
          "output_type": "execute_result",
          "data": {
            "text/html": [
              "<div>\n",
              "<style scoped>\n",
              "    .dataframe tbody tr th:only-of-type {\n",
              "        vertical-align: middle;\n",
              "    }\n",
              "\n",
              "    .dataframe tbody tr th {\n",
              "        vertical-align: top;\n",
              "    }\n",
              "\n",
              "    .dataframe thead th {\n",
              "        text-align: right;\n",
              "    }\n",
              "</style>\n",
              "<table border=\"1\" class=\"dataframe\">\n",
              "  <thead>\n",
              "    <tr style=\"text-align: right;\">\n",
              "      <th></th>\n",
              "      <th>State</th>\n",
              "      <th>Date Announced</th>\n",
              "      <th>Effective Date</th>\n",
              "    </tr>\n",
              "  </thead>\n",
              "  <tbody>\n",
              "    <tr>\n",
              "      <th>0</th>\n",
              "      <td>Alabama</td>\n",
              "      <td>2020-04-03</td>\n",
              "      <td>2020-04-04</td>\n",
              "    </tr>\n",
              "    <tr>\n",
              "      <th>1</th>\n",
              "      <td>Alaska</td>\n",
              "      <td>2020-03-27</td>\n",
              "      <td>2020-03-28</td>\n",
              "    </tr>\n",
              "    <tr>\n",
              "      <th>2</th>\n",
              "      <td>Arizona</td>\n",
              "      <td>2020-03-30</td>\n",
              "      <td>2020-03-31</td>\n",
              "    </tr>\n",
              "    <tr>\n",
              "      <th>3</th>\n",
              "      <td>Arkansas</td>\n",
              "      <td>NaT</td>\n",
              "      <td>NaT</td>\n",
              "    </tr>\n",
              "    <tr>\n",
              "      <th>4</th>\n",
              "      <td>California</td>\n",
              "      <td>2020-03-19</td>\n",
              "      <td>2020-03-19</td>\n",
              "    </tr>\n",
              "    <tr>\n",
              "      <th>5</th>\n",
              "      <td>Colorado</td>\n",
              "      <td>2020-03-26</td>\n",
              "      <td>2020-03-26</td>\n",
              "    </tr>\n",
              "    <tr>\n",
              "      <th>6</th>\n",
              "      <td>Connecticut</td>\n",
              "      <td>2020-03-20</td>\n",
              "      <td>2020-03-23</td>\n",
              "    </tr>\n",
              "    <tr>\n",
              "      <th>7</th>\n",
              "      <td>Delaware</td>\n",
              "      <td>2020-03-22</td>\n",
              "      <td>2020-03-24</td>\n",
              "    </tr>\n",
              "    <tr>\n",
              "      <th>8</th>\n",
              "      <td>District of Columbia</td>\n",
              "      <td>2020-03-30</td>\n",
              "      <td>2020-04-01</td>\n",
              "    </tr>\n",
              "    <tr>\n",
              "      <th>9</th>\n",
              "      <td>Florida</td>\n",
              "      <td>2020-04-01</td>\n",
              "      <td>2020-04-03</td>\n",
              "    </tr>\n",
              "    <tr>\n",
              "      <th>10</th>\n",
              "      <td>Georgia</td>\n",
              "      <td>2020-04-02</td>\n",
              "      <td>2020-04-03</td>\n",
              "    </tr>\n",
              "    <tr>\n",
              "      <th>11</th>\n",
              "      <td>Hawaii</td>\n",
              "      <td>2020-03-23</td>\n",
              "      <td>2020-03-25</td>\n",
              "    </tr>\n",
              "    <tr>\n",
              "      <th>12</th>\n",
              "      <td>Idaho</td>\n",
              "      <td>2020-03-25</td>\n",
              "      <td>2020-03-25</td>\n",
              "    </tr>\n",
              "    <tr>\n",
              "      <th>13</th>\n",
              "      <td>Illinois</td>\n",
              "      <td>2020-03-20</td>\n",
              "      <td>2020-03-21</td>\n",
              "    </tr>\n",
              "    <tr>\n",
              "      <th>14</th>\n",
              "      <td>Indiana</td>\n",
              "      <td>2020-03-23</td>\n",
              "      <td>2020-03-24</td>\n",
              "    </tr>\n",
              "    <tr>\n",
              "      <th>15</th>\n",
              "      <td>Iowa</td>\n",
              "      <td>NaT</td>\n",
              "      <td>NaT</td>\n",
              "    </tr>\n",
              "    <tr>\n",
              "      <th>16</th>\n",
              "      <td>Kansas</td>\n",
              "      <td>2020-03-28</td>\n",
              "      <td>2020-03-30</td>\n",
              "    </tr>\n",
              "    <tr>\n",
              "      <th>17</th>\n",
              "      <td>Kentucky</td>\n",
              "      <td>2020-03-22</td>\n",
              "      <td>2020-03-26</td>\n",
              "    </tr>\n",
              "    <tr>\n",
              "      <th>18</th>\n",
              "      <td>Louisiana</td>\n",
              "      <td>2020-03-22</td>\n",
              "      <td>2020-03-23</td>\n",
              "    </tr>\n",
              "    <tr>\n",
              "      <th>19</th>\n",
              "      <td>Maine</td>\n",
              "      <td>2020-03-31</td>\n",
              "      <td>2020-04-02</td>\n",
              "    </tr>\n",
              "    <tr>\n",
              "      <th>20</th>\n",
              "      <td>Maryland</td>\n",
              "      <td>2020-03-30</td>\n",
              "      <td>2020-03-30</td>\n",
              "    </tr>\n",
              "    <tr>\n",
              "      <th>21</th>\n",
              "      <td>Massachusetts</td>\n",
              "      <td>2020-03-23</td>\n",
              "      <td>2020-03-24</td>\n",
              "    </tr>\n",
              "    <tr>\n",
              "      <th>22</th>\n",
              "      <td>Michigan</td>\n",
              "      <td>2020-03-23</td>\n",
              "      <td>2020-03-24</td>\n",
              "    </tr>\n",
              "    <tr>\n",
              "      <th>23</th>\n",
              "      <td>Minnesota</td>\n",
              "      <td>2020-03-25</td>\n",
              "      <td>2020-03-27</td>\n",
              "    </tr>\n",
              "    <tr>\n",
              "      <th>24</th>\n",
              "      <td>Mississippi</td>\n",
              "      <td>2020-03-31</td>\n",
              "      <td>2020-04-03</td>\n",
              "    </tr>\n",
              "    <tr>\n",
              "      <th>25</th>\n",
              "      <td>Missouri</td>\n",
              "      <td>2020-04-03</td>\n",
              "      <td>2020-04-06</td>\n",
              "    </tr>\n",
              "    <tr>\n",
              "      <th>26</th>\n",
              "      <td>Montana</td>\n",
              "      <td>2020-03-26</td>\n",
              "      <td>2020-03-28</td>\n",
              "    </tr>\n",
              "    <tr>\n",
              "      <th>27</th>\n",
              "      <td>Nebraska</td>\n",
              "      <td>NaT</td>\n",
              "      <td>NaT</td>\n",
              "    </tr>\n",
              "    <tr>\n",
              "      <th>28</th>\n",
              "      <td>Nevada</td>\n",
              "      <td>2020-04-01</td>\n",
              "      <td>2020-04-01</td>\n",
              "    </tr>\n",
              "    <tr>\n",
              "      <th>29</th>\n",
              "      <td>New Hampshire</td>\n",
              "      <td>2020-03-26</td>\n",
              "      <td>2020-03-27</td>\n",
              "    </tr>\n",
              "    <tr>\n",
              "      <th>30</th>\n",
              "      <td>New Jersey</td>\n",
              "      <td>2020-03-20</td>\n",
              "      <td>2020-03-21</td>\n",
              "    </tr>\n",
              "    <tr>\n",
              "      <th>31</th>\n",
              "      <td>New Mexico</td>\n",
              "      <td>2020-03-23</td>\n",
              "      <td>2020-03-24</td>\n",
              "    </tr>\n",
              "    <tr>\n",
              "      <th>32</th>\n",
              "      <td>New York</td>\n",
              "      <td>2020-03-20</td>\n",
              "      <td>2020-03-22</td>\n",
              "    </tr>\n",
              "    <tr>\n",
              "      <th>33</th>\n",
              "      <td>North Carolina</td>\n",
              "      <td>2020-03-27</td>\n",
              "      <td>2020-03-30</td>\n",
              "    </tr>\n",
              "    <tr>\n",
              "      <th>34</th>\n",
              "      <td>North Dakota</td>\n",
              "      <td>NaT</td>\n",
              "      <td>NaT</td>\n",
              "    </tr>\n",
              "    <tr>\n",
              "      <th>35</th>\n",
              "      <td>Ohio</td>\n",
              "      <td>2020-03-22</td>\n",
              "      <td>2020-03-23</td>\n",
              "    </tr>\n",
              "    <tr>\n",
              "      <th>36</th>\n",
              "      <td>Oklahoma</td>\n",
              "      <td>NaT</td>\n",
              "      <td>NaT</td>\n",
              "    </tr>\n",
              "    <tr>\n",
              "      <th>37</th>\n",
              "      <td>Oregon</td>\n",
              "      <td>2020-03-23</td>\n",
              "      <td>2020-03-23</td>\n",
              "    </tr>\n",
              "    <tr>\n",
              "      <th>38</th>\n",
              "      <td>Pennsylvania</td>\n",
              "      <td>2020-03-23</td>\n",
              "      <td>2020-04-01</td>\n",
              "    </tr>\n",
              "    <tr>\n",
              "      <th>39</th>\n",
              "      <td>Rhode Island</td>\n",
              "      <td>2020-03-28</td>\n",
              "      <td>2020-03-28</td>\n",
              "    </tr>\n",
              "    <tr>\n",
              "      <th>40</th>\n",
              "      <td>South Carolina</td>\n",
              "      <td>NaT</td>\n",
              "      <td>NaT</td>\n",
              "    </tr>\n",
              "    <tr>\n",
              "      <th>41</th>\n",
              "      <td>South Dakota</td>\n",
              "      <td>NaT</td>\n",
              "      <td>NaT</td>\n",
              "    </tr>\n",
              "    <tr>\n",
              "      <th>42</th>\n",
              "      <td>Tennessee</td>\n",
              "      <td>2020-03-30</td>\n",
              "      <td>2020-03-31</td>\n",
              "    </tr>\n",
              "    <tr>\n",
              "      <th>43</th>\n",
              "      <td>Texas</td>\n",
              "      <td>2020-03-31</td>\n",
              "      <td>2020-04-02</td>\n",
              "    </tr>\n",
              "    <tr>\n",
              "      <th>44</th>\n",
              "      <td>Utah</td>\n",
              "      <td>NaT</td>\n",
              "      <td>NaT</td>\n",
              "    </tr>\n",
              "    <tr>\n",
              "      <th>45</th>\n",
              "      <td>Vermont</td>\n",
              "      <td>2020-03-24</td>\n",
              "      <td>2020-03-24</td>\n",
              "    </tr>\n",
              "    <tr>\n",
              "      <th>46</th>\n",
              "      <td>Virginia</td>\n",
              "      <td>2020-03-30</td>\n",
              "      <td>2020-03-30</td>\n",
              "    </tr>\n",
              "    <tr>\n",
              "      <th>47</th>\n",
              "      <td>Washington</td>\n",
              "      <td>2020-03-23</td>\n",
              "      <td>2020-03-23</td>\n",
              "    </tr>\n",
              "    <tr>\n",
              "      <th>48</th>\n",
              "      <td>West Virginia</td>\n",
              "      <td>2020-03-23</td>\n",
              "      <td>2020-03-24</td>\n",
              "    </tr>\n",
              "    <tr>\n",
              "      <th>49</th>\n",
              "      <td>Wisconsin</td>\n",
              "      <td>2020-03-24</td>\n",
              "      <td>2020-03-25</td>\n",
              "    </tr>\n",
              "  </tbody>\n",
              "</table>\n",
              "</div>"
            ],
            "text/plain": [
              "                   State Date Announced Effective Date\n",
              "0                Alabama     2020-04-03     2020-04-04\n",
              "1                 Alaska     2020-03-27     2020-03-28\n",
              "2                Arizona     2020-03-30     2020-03-31\n",
              "3               Arkansas            NaT            NaT\n",
              "4             California     2020-03-19     2020-03-19\n",
              "5               Colorado     2020-03-26     2020-03-26\n",
              "6            Connecticut     2020-03-20     2020-03-23\n",
              "7               Delaware     2020-03-22     2020-03-24\n",
              "8   District of Columbia     2020-03-30     2020-04-01\n",
              "9                Florida     2020-04-01     2020-04-03\n",
              "10               Georgia     2020-04-02     2020-04-03\n",
              "11               Hawaii      2020-03-23     2020-03-25\n",
              "12                 Idaho     2020-03-25     2020-03-25\n",
              "13              Illinois     2020-03-20     2020-03-21\n",
              "14               Indiana     2020-03-23     2020-03-24\n",
              "15                  Iowa            NaT            NaT\n",
              "16                Kansas     2020-03-28     2020-03-30\n",
              "17              Kentucky     2020-03-22     2020-03-26\n",
              "18             Louisiana     2020-03-22     2020-03-23\n",
              "19                 Maine     2020-03-31     2020-04-02\n",
              "20              Maryland     2020-03-30     2020-03-30\n",
              "21         Massachusetts     2020-03-23     2020-03-24\n",
              "22              Michigan     2020-03-23     2020-03-24\n",
              "23             Minnesota     2020-03-25     2020-03-27\n",
              "24           Mississippi     2020-03-31     2020-04-03\n",
              "25              Missouri     2020-04-03     2020-04-06\n",
              "26               Montana     2020-03-26     2020-03-28\n",
              "27              Nebraska            NaT            NaT\n",
              "28                Nevada     2020-04-01     2020-04-01\n",
              "29         New Hampshire     2020-03-26     2020-03-27\n",
              "30            New Jersey     2020-03-20     2020-03-21\n",
              "31            New Mexico     2020-03-23     2020-03-24\n",
              "32              New York     2020-03-20     2020-03-22\n",
              "33        North Carolina     2020-03-27     2020-03-30\n",
              "34          North Dakota            NaT            NaT\n",
              "35                  Ohio     2020-03-22     2020-03-23\n",
              "36              Oklahoma            NaT            NaT\n",
              "37                Oregon     2020-03-23     2020-03-23\n",
              "38          Pennsylvania     2020-03-23     2020-04-01\n",
              "39          Rhode Island     2020-03-28     2020-03-28\n",
              "40        South Carolina            NaT            NaT\n",
              "41          South Dakota            NaT            NaT\n",
              "42             Tennessee     2020-03-30     2020-03-31\n",
              "43                 Texas     2020-03-31     2020-04-02\n",
              "44                  Utah            NaT            NaT\n",
              "45               Vermont     2020-03-24     2020-03-24\n",
              "46              Virginia     2020-03-30     2020-03-30\n",
              "47            Washington     2020-03-23     2020-03-23\n",
              "48         West Virginia     2020-03-23     2020-03-24\n",
              "49             Wisconsin     2020-03-24     2020-03-25"
            ]
          },
          "metadata": {
            "tags": []
          },
          "execution_count": 75
        }
      ]
    },
    {
      "cell_type": "markdown",
      "metadata": {
        "id": "S2dKKRGnXUe1",
        "colab_type": "text"
      },
      "source": [
        "### Government Intervention LRM"
      ]
    },
    {
      "cell_type": "code",
      "metadata": {
        "id": "PG3dQYoFoa6G",
        "colab_type": "code",
        "colab": {
          "base_uri": "https://localhost:8080/",
          "height": 221
        },
        "outputId": "1cfb40c8-ace4-451f-8118-59b53b7931b3"
      },
      "source": [
        "int_target = pd.DataFrame(cases_per_state.positive, columns=['positive'])\n",
        "int_target.head()"
      ],
      "execution_count": 76,
      "outputs": [
        {
          "output_type": "execute_result",
          "data": {
            "text/html": [
              "<div>\n",
              "<style scoped>\n",
              "    .dataframe tbody tr th:only-of-type {\n",
              "        vertical-align: middle;\n",
              "    }\n",
              "\n",
              "    .dataframe tbody tr th {\n",
              "        vertical-align: top;\n",
              "    }\n",
              "\n",
              "    .dataframe thead th {\n",
              "        text-align: right;\n",
              "    }\n",
              "</style>\n",
              "<table border=\"1\" class=\"dataframe\">\n",
              "  <thead>\n",
              "    <tr style=\"text-align: right;\">\n",
              "      <th></th>\n",
              "      <th>positive</th>\n",
              "    </tr>\n",
              "  </thead>\n",
              "  <tbody>\n",
              "    <tr>\n",
              "      <th>0</th>\n",
              "      <td>4241</td>\n",
              "    </tr>\n",
              "    <tr>\n",
              "      <th>1</th>\n",
              "      <td>293</td>\n",
              "    </tr>\n",
              "    <tr>\n",
              "      <th>2</th>\n",
              "      <td>3962</td>\n",
              "    </tr>\n",
              "    <tr>\n",
              "      <th>3</th>\n",
              "      <td>1599</td>\n",
              "    </tr>\n",
              "    <tr>\n",
              "      <th>4</th>\n",
              "      <td>24424</td>\n",
              "    </tr>\n",
              "  </tbody>\n",
              "</table>\n",
              "</div>"
            ],
            "text/plain": [
              "   positive\n",
              "0      4241\n",
              "1       293\n",
              "2      3962\n",
              "3      1599\n",
              "4     24424"
            ]
          },
          "metadata": {
            "tags": []
          },
          "execution_count": 76
        }
      ]
    },
    {
      "cell_type": "code",
      "metadata": {
        "id": "PIui6rqZo04r",
        "colab_type": "code",
        "colab": {}
      },
      "source": [
        "int_target['positive']= np.log(int_target['positive'])"
      ],
      "execution_count": 0,
      "outputs": []
    },
    {
      "cell_type": "code",
      "metadata": {
        "id": "ymwuNCWbn86h",
        "colab_type": "code",
        "colab": {}
      },
      "source": [
        "generic_date = pd.to_datetime('2020-03-28')"
      ],
      "execution_count": 0,
      "outputs": []
    },
    {
      "cell_type": "code",
      "metadata": {
        "id": "VJkhS_uXXgJI",
        "colab_type": "code",
        "colab": {
          "base_uri": "https://localhost:8080/",
          "height": 237
        },
        "outputId": "02f83dd8-7944-4101-ec6a-4d4a384bb946"
      },
      "source": [
        "int_X = pd.DataFrame(cases_per_state['Effective Date'], columns=['Effective Date']).copy(deep=True)\n",
        "int_X1 = int_X.fillna(generic_date)\n",
        "int_X1['ones'] = 1\n",
        "int_X1.head()"
      ],
      "execution_count": 79,
      "outputs": [
        {
          "output_type": "execute_result",
          "data": {
            "text/html": [
              "<div>\n",
              "<style scoped>\n",
              "    .dataframe tbody tr th:only-of-type {\n",
              "        vertical-align: middle;\n",
              "    }\n",
              "\n",
              "    .dataframe tbody tr th {\n",
              "        vertical-align: top;\n",
              "    }\n",
              "\n",
              "    .dataframe thead th {\n",
              "        text-align: right;\n",
              "    }\n",
              "</style>\n",
              "<table border=\"1\" class=\"dataframe\">\n",
              "  <thead>\n",
              "    <tr style=\"text-align: right;\">\n",
              "      <th></th>\n",
              "      <th>Effective Date</th>\n",
              "      <th>ones</th>\n",
              "    </tr>\n",
              "  </thead>\n",
              "  <tbody>\n",
              "    <tr>\n",
              "      <th>0</th>\n",
              "      <td>2020-04-04</td>\n",
              "      <td>1</td>\n",
              "    </tr>\n",
              "    <tr>\n",
              "      <th>1</th>\n",
              "      <td>2020-03-28</td>\n",
              "      <td>1</td>\n",
              "    </tr>\n",
              "    <tr>\n",
              "      <th>2</th>\n",
              "      <td>2020-03-31</td>\n",
              "      <td>1</td>\n",
              "    </tr>\n",
              "    <tr>\n",
              "      <th>3</th>\n",
              "      <td>2020-03-28</td>\n",
              "      <td>1</td>\n",
              "    </tr>\n",
              "    <tr>\n",
              "      <th>4</th>\n",
              "      <td>2020-03-19</td>\n",
              "      <td>1</td>\n",
              "    </tr>\n",
              "  </tbody>\n",
              "</table>\n",
              "</div>"
            ],
            "text/plain": [
              "  Effective Date  ones\n",
              "0     2020-04-04     1\n",
              "1     2020-03-28     1\n",
              "2     2020-03-31     1\n",
              "3     2020-03-28     1\n",
              "4     2020-03-19     1"
            ]
          },
          "metadata": {
            "tags": []
          },
          "execution_count": 79
        }
      ]
    },
    {
      "cell_type": "code",
      "metadata": {
        "id": "3QRftQy0rrn_",
        "colab_type": "code",
        "colab": {}
      },
      "source": [
        "import datetime as dt\n",
        "int_X1['Effective Date']=int_X1['Effective Date'].map(dt.datetime.toordinal)"
      ],
      "execution_count": 0,
      "outputs": []
    },
    {
      "cell_type": "code",
      "metadata": {
        "id": "xCEr1tSfu84K",
        "colab_type": "code",
        "colab": {
          "base_uri": "https://localhost:8080/",
          "height": 85
        },
        "outputId": "77d41c9a-e756-4433-b13c-8d8ec49c3ea5"
      },
      "source": [
        "int_X1.min()"
      ],
      "execution_count": 81,
      "outputs": [
        {
          "output_type": "execute_result",
          "data": {
            "text/plain": [
              "Effective Date    737503\n",
              "ones                   1\n",
              "dtype: int64"
            ]
          },
          "metadata": {
            "tags": []
          },
          "execution_count": 81
        }
      ]
    },
    {
      "cell_type": "code",
      "metadata": {
        "id": "qzK4c8istBrq",
        "colab_type": "code",
        "colab": {}
      },
      "source": [
        "int_X1['Effective Date']= np.log(int_X1['Effective Date']-int_X1['Effective Date'].min()+1)"
      ],
      "execution_count": 0,
      "outputs": []
    },
    {
      "cell_type": "code",
      "metadata": {
        "id": "hyjEZUpYve76",
        "colab_type": "code",
        "colab": {
          "base_uri": "https://localhost:8080/",
          "height": 237
        },
        "outputId": "2382b65f-71bb-45e5-d822-a03a59ee5226"
      },
      "source": [
        "int_X1.head()"
      ],
      "execution_count": 83,
      "outputs": [
        {
          "output_type": "execute_result",
          "data": {
            "text/html": [
              "<div>\n",
              "<style scoped>\n",
              "    .dataframe tbody tr th:only-of-type {\n",
              "        vertical-align: middle;\n",
              "    }\n",
              "\n",
              "    .dataframe tbody tr th {\n",
              "        vertical-align: top;\n",
              "    }\n",
              "\n",
              "    .dataframe thead th {\n",
              "        text-align: right;\n",
              "    }\n",
              "</style>\n",
              "<table border=\"1\" class=\"dataframe\">\n",
              "  <thead>\n",
              "    <tr style=\"text-align: right;\">\n",
              "      <th></th>\n",
              "      <th>Effective Date</th>\n",
              "      <th>ones</th>\n",
              "    </tr>\n",
              "  </thead>\n",
              "  <tbody>\n",
              "    <tr>\n",
              "      <th>0</th>\n",
              "      <td>2.833213</td>\n",
              "      <td>1</td>\n",
              "    </tr>\n",
              "    <tr>\n",
              "      <th>1</th>\n",
              "      <td>2.302585</td>\n",
              "      <td>1</td>\n",
              "    </tr>\n",
              "    <tr>\n",
              "      <th>2</th>\n",
              "      <td>2.564949</td>\n",
              "      <td>1</td>\n",
              "    </tr>\n",
              "    <tr>\n",
              "      <th>3</th>\n",
              "      <td>2.302585</td>\n",
              "      <td>1</td>\n",
              "    </tr>\n",
              "    <tr>\n",
              "      <th>4</th>\n",
              "      <td>0.000000</td>\n",
              "      <td>1</td>\n",
              "    </tr>\n",
              "  </tbody>\n",
              "</table>\n",
              "</div>"
            ],
            "text/plain": [
              "   Effective Date  ones\n",
              "0        2.833213     1\n",
              "1        2.302585     1\n",
              "2        2.564949     1\n",
              "3        2.302585     1\n",
              "4        0.000000     1"
            ]
          },
          "metadata": {
            "tags": []
          },
          "execution_count": 83
        }
      ]
    },
    {
      "cell_type": "code",
      "metadata": {
        "id": "T2BdEsiCvNPr",
        "colab_type": "code",
        "colab": {}
      },
      "source": [
        "#print(np.log(int_X1['Effective Date']-int_X1['Effective Date'].min()+1))"
      ],
      "execution_count": 0,
      "outputs": []
    },
    {
      "cell_type": "code",
      "metadata": {
        "id": "-JRTimDroRcr",
        "colab_type": "code",
        "colab": {
          "base_uri": "https://localhost:8080/",
          "height": 864
        },
        "outputId": "69666e5d-df93-4023-98ee-8f51daf592c6"
      },
      "source": [
        "int_model = sm.OLS(int_target,int_X1).fit()\n",
        "int_model.summary()"
      ],
      "execution_count": 85,
      "outputs": [
        {
          "output_type": "execute_result",
          "data": {
            "text/html": [
              "<table class=\"simpletable\">\n",
              "<caption>OLS Regression Results</caption>\n",
              "<tr>\n",
              "  <th>Dep. Variable:</th>        <td>positive</td>     <th>  R-squared:         </th> <td>   0.118</td>\n",
              "</tr>\n",
              "<tr>\n",
              "  <th>Model:</th>                   <td>OLS</td>       <th>  Adj. R-squared:    </th> <td>   0.099</td>\n",
              "</tr>\n",
              "<tr>\n",
              "  <th>Method:</th>             <td>Least Squares</td>  <th>  F-statistic:       </th> <td>   6.411</td>\n",
              "</tr>\n",
              "<tr>\n",
              "  <th>Date:</th>             <td>Tue, 28 Apr 2020</td> <th>  Prob (F-statistic):</th>  <td>0.0147</td> \n",
              "</tr>\n",
              "<tr>\n",
              "  <th>Time:</th>                 <td>14:35:27</td>     <th>  Log-Likelihood:    </th> <td> -85.888</td>\n",
              "</tr>\n",
              "<tr>\n",
              "  <th>No. Observations:</th>      <td>    50</td>      <th>  AIC:               </th> <td>   175.8</td>\n",
              "</tr>\n",
              "<tr>\n",
              "  <th>Df Residuals:</th>          <td>    48</td>      <th>  BIC:               </th> <td>   179.6</td>\n",
              "</tr>\n",
              "<tr>\n",
              "  <th>Df Model:</th>              <td>     1</td>      <th>                     </th>     <td> </td>   \n",
              "</tr>\n",
              "<tr>\n",
              "  <th>Covariance Type:</th>      <td>nonrobust</td>    <th>                     </th>     <td> </td>   \n",
              "</tr>\n",
              "</table>\n",
              "<table class=\"simpletable\">\n",
              "<tr>\n",
              "         <td></td>           <th>coef</th>     <th>std err</th>      <th>t</th>      <th>P>|t|</th>  <th>[0.025</th>    <th>0.975]</th>  \n",
              "</tr>\n",
              "<tr>\n",
              "  <th>Effective Date</th> <td>   -0.9138</td> <td>    0.361</td> <td>   -2.532</td> <td> 0.015</td> <td>   -1.640</td> <td>   -0.188</td>\n",
              "</tr>\n",
              "<tr>\n",
              "  <th>ones</th>           <td>   10.2589</td> <td>    0.795</td> <td>   12.908</td> <td> 0.000</td> <td>    8.661</td> <td>   11.857</td>\n",
              "</tr>\n",
              "</table>\n",
              "<table class=\"simpletable\">\n",
              "<tr>\n",
              "  <th>Omnibus:</th>       <td> 0.530</td> <th>  Durbin-Watson:     </th> <td>   2.210</td>\n",
              "</tr>\n",
              "<tr>\n",
              "  <th>Prob(Omnibus):</th> <td> 0.767</td> <th>  Jarque-Bera (JB):  </th> <td>   0.656</td>\n",
              "</tr>\n",
              "<tr>\n",
              "  <th>Skew:</th>          <td> 0.109</td> <th>  Prob(JB):          </th> <td>   0.720</td>\n",
              "</tr>\n",
              "<tr>\n",
              "  <th>Kurtosis:</th>      <td> 2.483</td> <th>  Cond. No.          </th> <td>    10.8</td>\n",
              "</tr>\n",
              "</table><br/><br/>Warnings:<br/>[1] Standard Errors assume that the covariance matrix of the errors is correctly specified."
            ],
            "text/plain": [
              "<class 'statsmodels.iolib.summary.Summary'>\n",
              "\"\"\"\n",
              "                            OLS Regression Results                            \n",
              "==============================================================================\n",
              "Dep. Variable:               positive   R-squared:                       0.118\n",
              "Model:                            OLS   Adj. R-squared:                  0.099\n",
              "Method:                 Least Squares   F-statistic:                     6.411\n",
              "Date:                Tue, 28 Apr 2020   Prob (F-statistic):             0.0147\n",
              "Time:                        14:35:27   Log-Likelihood:                -85.888\n",
              "No. Observations:                  50   AIC:                             175.8\n",
              "Df Residuals:                      48   BIC:                             179.6\n",
              "Df Model:                           1                                         \n",
              "Covariance Type:            nonrobust                                         \n",
              "==================================================================================\n",
              "                     coef    std err          t      P>|t|      [0.025      0.975]\n",
              "----------------------------------------------------------------------------------\n",
              "Effective Date    -0.9138      0.361     -2.532      0.015      -1.640      -0.188\n",
              "ones              10.2589      0.795     12.908      0.000       8.661      11.857\n",
              "==============================================================================\n",
              "Omnibus:                        0.530   Durbin-Watson:                   2.210\n",
              "Prob(Omnibus):                  0.767   Jarque-Bera (JB):                0.656\n",
              "Skew:                           0.109   Prob(JB):                        0.720\n",
              "Kurtosis:                       2.483   Cond. No.                         10.8\n",
              "==============================================================================\n",
              "\n",
              "Warnings:\n",
              "[1] Standard Errors assume that the covariance matrix of the errors is correctly specified.\n",
              "\"\"\""
            ]
          },
          "metadata": {
            "tags": []
          },
          "execution_count": 85
        }
      ]
    },
    {
      "cell_type": "code",
      "metadata": {
        "id": "cciDmp8TsRSM",
        "colab_type": "code",
        "colab": {}
      },
      "source": [
        "int_predictions = int_model.predict(int_X1)"
      ],
      "execution_count": 0,
      "outputs": []
    },
    {
      "cell_type": "code",
      "metadata": {
        "id": "hqIf2FCQsVcj",
        "colab_type": "code",
        "colab": {
          "base_uri": "https://localhost:8080/",
          "height": 52
        },
        "outputId": "ef285754-cb86-4709-a364-aec27716d972"
      },
      "source": [
        "int_reg = linear_model.LinearRegression()\n",
        "int_reg.fit(int_X1, int_target)\n",
        "int_target_predict = int_reg.predict(int_X1)\n",
        "\n",
        "reg.score(int_X1,int_target)"
      ],
      "execution_count": 87,
      "outputs": [
        {
          "output_type": "execute_result",
          "data": {
            "text/plain": [
              "-4.239832155700068"
            ]
          },
          "metadata": {
            "tags": []
          },
          "execution_count": 87
        }
      ]
    },
    {
      "cell_type": "code",
      "metadata": {
        "id": "_pTgfIpitfDG",
        "colab_type": "code",
        "colab": {
          "base_uri": "https://localhost:8080/",
          "height": 85
        },
        "outputId": "682d6c8b-309d-48c7-aecb-882d83ebbfab"
      },
      "source": [
        "print(int_reg.coef_)\n",
        "print(int_reg.intercept_)\n",
        "\n",
        "plt.figure(figsize=(10,10));\n",
        "plt.scatter(int_target, int_target_predict);"
      ],
      "execution_count": 88,
      "outputs": [
        {
          "output_type": "stream",
          "text": [
            "[[-0.91383995  0.        ]]\n",
            "[10.25890901]\n"
          ],
          "name": "stdout"
        },
        {
          "output_type": "display_data",
          "data": {
            "image/png": "[encoded data removed]",
            "text/plain": [
              "<Figure size 720x720 with 1 Axes>"
            ]
          },
          "metadata": {
            "tags": [],
            "needs_background": "light"
          }
        }
      ]
    },
    {
      "cell_type": "markdown",
      "metadata": {
        "id": "LlzRQxezd2FT",
        "colab_type": "text"
      },
      "source": [
        "## Hospitals vs total cases - https://www.kff.org/other/state-indicator/total-hospitals"
      ]
    },
    {
      "cell_type": "code",
      "metadata": {
        "id": "Pcn8jVADd7PU",
        "colab_type": "code",
        "colab": {}
      },
      "source": [
        "hos_df = pd.read_csv('/content/drive/My Drive/COVID19 Capstone/hospital_raw_data.csv', skiprows=[0,1])\n",
        "hos_df = hos_df.drop(hos_df.index[0])"
      ],
      "execution_count": 0,
      "outputs": []
    },
    {
      "cell_type": "code",
      "metadata": {
        "id": "KidePPkLX6vr",
        "colab_type": "code",
        "colab": {}
      },
      "source": [
        "hos_df = hos_df.rename(columns= {'Location':'State'})"
      ],
      "execution_count": 0,
      "outputs": []
    },
    {
      "cell_type": "code",
      "metadata": {
        "id": "V15U8opMeIu2",
        "colab_type": "code",
        "outputId": "1b7eacd3-354b-4244-cfa8-396a8ee946a5",
        "colab": {
          "base_uri": "https://localhost:8080/",
          "height": 237
        }
      },
      "source": [
        "hos_df.head()"
      ],
      "execution_count": 91,
      "outputs": [
        {
          "output_type": "execute_result",
          "data": {
            "text/html": [
              "<div>\n",
              "<style scoped>\n",
              "    .dataframe tbody tr th:only-of-type {\n",
              "        vertical-align: middle;\n",
              "    }\n",
              "\n",
              "    .dataframe tbody tr th {\n",
              "        vertical-align: top;\n",
              "    }\n",
              "\n",
              "    .dataframe thead th {\n",
              "        text-align: right;\n",
              "    }\n",
              "</style>\n",
              "<table border=\"1\" class=\"dataframe\">\n",
              "  <thead>\n",
              "    <tr style=\"text-align: right;\">\n",
              "      <th></th>\n",
              "      <th>State</th>\n",
              "      <th>Total Hospitals</th>\n",
              "    </tr>\n",
              "  </thead>\n",
              "  <tbody>\n",
              "    <tr>\n",
              "      <th>1</th>\n",
              "      <td>Alabama</td>\n",
              "      <td>101.0</td>\n",
              "    </tr>\n",
              "    <tr>\n",
              "      <th>2</th>\n",
              "      <td>Alaska</td>\n",
              "      <td>21.0</td>\n",
              "    </tr>\n",
              "    <tr>\n",
              "      <th>3</th>\n",
              "      <td>Arizona</td>\n",
              "      <td>83.0</td>\n",
              "    </tr>\n",
              "    <tr>\n",
              "      <th>4</th>\n",
              "      <td>Arkansas</td>\n",
              "      <td>88.0</td>\n",
              "    </tr>\n",
              "    <tr>\n",
              "      <th>5</th>\n",
              "      <td>California</td>\n",
              "      <td>359.0</td>\n",
              "    </tr>\n",
              "  </tbody>\n",
              "</table>\n",
              "</div>"
            ],
            "text/plain": [
              "        State  Total Hospitals\n",
              "1     Alabama            101.0\n",
              "2      Alaska             21.0\n",
              "3     Arizona             83.0\n",
              "4    Arkansas             88.0\n",
              "5  California            359.0"
            ]
          },
          "metadata": {
            "tags": []
          },
          "execution_count": 91
        }
      ]
    },
    {
      "cell_type": "code",
      "metadata": {
        "id": "Eh6P573OYk7t",
        "colab_type": "code",
        "outputId": "606cdf38-a486-4f59-b8b1-95a0c73d6e00",
        "colab": {
          "base_uri": "https://localhost:8080/",
          "height": 237
        }
      },
      "source": [
        "hos_cases_df = pd.merge(hos_df,cases_per_state, on='State')\n",
        "hos_cases_df.head()"
      ],
      "execution_count": 92,
      "outputs": [
        {
          "output_type": "execute_result",
          "data": {
            "text/html": [
              "<div>\n",
              "<style scoped>\n",
              "    .dataframe tbody tr th:only-of-type {\n",
              "        vertical-align: middle;\n",
              "    }\n",
              "\n",
              "    .dataframe tbody tr th {\n",
              "        vertical-align: top;\n",
              "    }\n",
              "\n",
              "    .dataframe thead th {\n",
              "        text-align: right;\n",
              "    }\n",
              "</style>\n",
              "<table border=\"1\" class=\"dataframe\">\n",
              "  <thead>\n",
              "    <tr style=\"text-align: right;\">\n",
              "      <th></th>\n",
              "      <th>State</th>\n",
              "      <th>Total Hospitals</th>\n",
              "      <th>Date Announced</th>\n",
              "      <th>Effective Date</th>\n",
              "      <th>rank</th>\n",
              "      <th>Pop</th>\n",
              "      <th>Pop2010</th>\n",
              "      <th>density</th>\n",
              "      <th>state_abbrev</th>\n",
              "      <th>tested</th>\n",
              "      <th>positive</th>\n",
              "      <th>deaths</th>\n",
              "      <th>case_per_capita</th>\n",
              "    </tr>\n",
              "  </thead>\n",
              "  <tbody>\n",
              "    <tr>\n",
              "      <th>0</th>\n",
              "      <td>Alabama</td>\n",
              "      <td>101.0</td>\n",
              "      <td>2020-04-03</td>\n",
              "      <td>2020-04-04</td>\n",
              "      <td>24</td>\n",
              "      <td>4908621</td>\n",
              "      <td>4785448</td>\n",
              "      <td>96.9221</td>\n",
              "      <td>AL</td>\n",
              "      <td>34077</td>\n",
              "      <td>4241</td>\n",
              "      <td>123</td>\n",
              "      <td>0.086399</td>\n",
              "    </tr>\n",
              "    <tr>\n",
              "      <th>1</th>\n",
              "      <td>Alaska</td>\n",
              "      <td>21.0</td>\n",
              "      <td>2020-03-27</td>\n",
              "      <td>2020-03-28</td>\n",
              "      <td>49</td>\n",
              "      <td>734002</td>\n",
              "      <td>713906</td>\n",
              "      <td>1.2863</td>\n",
              "      <td>AK</td>\n",
              "      <td>8664</td>\n",
              "      <td>293</td>\n",
              "      <td>9</td>\n",
              "      <td>0.039918</td>\n",
              "    </tr>\n",
              "    <tr>\n",
              "      <th>2</th>\n",
              "      <td>Arizona</td>\n",
              "      <td>83.0</td>\n",
              "      <td>2020-03-30</td>\n",
              "      <td>2020-03-31</td>\n",
              "      <td>14</td>\n",
              "      <td>7378494</td>\n",
              "      <td>6407774</td>\n",
              "      <td>64.9550</td>\n",
              "      <td>AZ</td>\n",
              "      <td>45310</td>\n",
              "      <td>3962</td>\n",
              "      <td>142</td>\n",
              "      <td>0.053697</td>\n",
              "    </tr>\n",
              "    <tr>\n",
              "      <th>3</th>\n",
              "      <td>Arkansas</td>\n",
              "      <td>88.0</td>\n",
              "      <td>NaT</td>\n",
              "      <td>NaT</td>\n",
              "      <td>33</td>\n",
              "      <td>3038999</td>\n",
              "      <td>2921978</td>\n",
              "      <td>58.4030</td>\n",
              "      <td>AR</td>\n",
              "      <td>22289</td>\n",
              "      <td>1599</td>\n",
              "      <td>34</td>\n",
              "      <td>0.052616</td>\n",
              "    </tr>\n",
              "    <tr>\n",
              "      <th>4</th>\n",
              "      <td>California</td>\n",
              "      <td>359.0</td>\n",
              "      <td>2020-03-19</td>\n",
              "      <td>2020-03-19</td>\n",
              "      <td>1</td>\n",
              "      <td>39937489</td>\n",
              "      <td>37320903</td>\n",
              "      <td>256.3727</td>\n",
              "      <td>CA</td>\n",
              "      <td>227600</td>\n",
              "      <td>24424</td>\n",
              "      <td>821</td>\n",
              "      <td>0.061156</td>\n",
              "    </tr>\n",
              "  </tbody>\n",
              "</table>\n",
              "</div>"
            ],
            "text/plain": [
              "        State  Total Hospitals  ... deaths case_per_capita\n",
              "0     Alabama            101.0  ...    123        0.086399\n",
              "1      Alaska             21.0  ...      9        0.039918\n",
              "2     Arizona             83.0  ...    142        0.053697\n",
              "3    Arkansas             88.0  ...     34        0.052616\n",
              "4  California            359.0  ...    821        0.061156\n",
              "\n",
              "[5 rows x 13 columns]"
            ]
          },
          "metadata": {
            "tags": []
          },
          "execution_count": 92
        }
      ]
    },
    {
      "cell_type": "code",
      "metadata": {
        "id": "vY0LpffzZff5",
        "colab_type": "code",
        "outputId": "20164f87-f3b4-43de-d4c8-e625f27612b7",
        "colab": {
          "base_uri": "https://localhost:8080/",
          "height": 52
        }
      },
      "source": [
        "plt.figure(figsize=[10,10])\n",
        "plt.bar('State','Total Hospitals', data=hos_cases_df, label='Hospitals')\n",
        "plt.plot(hos_cases_df['State'],hos_cases_df['deaths'], label='Deaths', c='Red')\n",
        "plt.yscale('log')\n",
        "plt.xticks(rotation=90)\n",
        "plt.title('Deaths vs Number of Hospitals',fontsize=25) \n",
        "plt.xlabel('States', fontsize=15)\n",
        "plt.ylabel('Number of hospitals', fontsize=15)\n",
        "plt.legend(borderpad=2, labelspacing=2,fontsize=10);"
      ],
      "execution_count": 93,
      "outputs": [
        {
          "output_type": "display_data",
          "data": {
            "image/png": "[encoded data removed]",
            "text/plain": [
              "<Figure size 720x720 with 1 Axes>"
            ]
          },
          "metadata": {
            "tags": [],
            "needs_background": "light"
          }
        }
      ]
    },
    {
      "cell_type": "code",
      "metadata": {
        "id": "KLnAXSzU95Fs",
        "colab_type": "code",
        "outputId": "e8f10738-028d-400d-f9e6-f45d3797497f",
        "colab": {
          "base_uri": "https://localhost:8080/",
          "height": 52
        }
      },
      "source": [
        "plt.figure(figsize=[10,10])\n",
        "plt.scatter(hos_cases_df['Total Hospitals']/hos_cases_df['Pop'], hos_cases_df['deaths']/hos_cases_df['positive'])\n",
        "plt.xscale('log')\n",
        "plt.yscale('log')"
      ],
      "execution_count": 94,
      "outputs": [
        {
          "output_type": "display_data",
          "data": {
            "image/png": "[encoded data removed]",
            "text/plain": [
              "<Figure size 720x720 with 1 Axes>"
            ]
          },
          "metadata": {
            "tags": [],
            "needs_background": "light"
          }
        }
      ]
    },
    {
      "cell_type": "markdown",
      "metadata": {
        "id": "wUKRB5B4CStj",
        "colab_type": "text"
      },
      "source": [
        "### cases vs hospitals/density LRM"
      ]
    },
    {
      "cell_type": "code",
      "metadata": {
        "id": "f93XLPe0CYWI",
        "colab_type": "code",
        "outputId": "1ae211a4-971a-482e-bb82-7bcabac314fb",
        "colab": {
          "base_uri": "https://localhost:8080/",
          "height": 237
        }
      },
      "source": [
        "hos_cases_df.head()"
      ],
      "execution_count": 95,
      "outputs": [
        {
          "output_type": "execute_result",
          "data": {
            "text/html": [
              "<div>\n",
              "<style scoped>\n",
              "    .dataframe tbody tr th:only-of-type {\n",
              "        vertical-align: middle;\n",
              "    }\n",
              "\n",
              "    .dataframe tbody tr th {\n",
              "        vertical-align: top;\n",
              "    }\n",
              "\n",
              "    .dataframe thead th {\n",
              "        text-align: right;\n",
              "    }\n",
              "</style>\n",
              "<table border=\"1\" class=\"dataframe\">\n",
              "  <thead>\n",
              "    <tr style=\"text-align: right;\">\n",
              "      <th></th>\n",
              "      <th>State</th>\n",
              "      <th>Total Hospitals</th>\n",
              "      <th>Date Announced</th>\n",
              "      <th>Effective Date</th>\n",
              "      <th>rank</th>\n",
              "      <th>Pop</th>\n",
              "      <th>Pop2010</th>\n",
              "      <th>density</th>\n",
              "      <th>state_abbrev</th>\n",
              "      <th>tested</th>\n",
              "      <th>positive</th>\n",
              "      <th>deaths</th>\n",
              "      <th>case_per_capita</th>\n",
              "    </tr>\n",
              "  </thead>\n",
              "  <tbody>\n",
              "    <tr>\n",
              "      <th>0</th>\n",
              "      <td>Alabama</td>\n",
              "      <td>101.0</td>\n",
              "      <td>2020-04-03</td>\n",
              "      <td>2020-04-04</td>\n",
              "      <td>24</td>\n",
              "      <td>4908621</td>\n",
              "      <td>4785448</td>\n",
              "      <td>96.9221</td>\n",
              "      <td>AL</td>\n",
              "      <td>34077</td>\n",
              "      <td>4241</td>\n",
              "      <td>123</td>\n",
              "      <td>0.086399</td>\n",
              "    </tr>\n",
              "    <tr>\n",
              "      <th>1</th>\n",
              "      <td>Alaska</td>\n",
              "      <td>21.0</td>\n",
              "      <td>2020-03-27</td>\n",
              "      <td>2020-03-28</td>\n",
              "      <td>49</td>\n",
              "      <td>734002</td>\n",
              "      <td>713906</td>\n",
              "      <td>1.2863</td>\n",
              "      <td>AK</td>\n",
              "      <td>8664</td>\n",
              "      <td>293</td>\n",
              "      <td>9</td>\n",
              "      <td>0.039918</td>\n",
              "    </tr>\n",
              "    <tr>\n",
              "      <th>2</th>\n",
              "      <td>Arizona</td>\n",
              "      <td>83.0</td>\n",
              "      <td>2020-03-30</td>\n",
              "      <td>2020-03-31</td>\n",
              "      <td>14</td>\n",
              "      <td>7378494</td>\n",
              "      <td>6407774</td>\n",
              "      <td>64.9550</td>\n",
              "      <td>AZ</td>\n",
              "      <td>45310</td>\n",
              "      <td>3962</td>\n",
              "      <td>142</td>\n",
              "      <td>0.053697</td>\n",
              "    </tr>\n",
              "    <tr>\n",
              "      <th>3</th>\n",
              "      <td>Arkansas</td>\n",
              "      <td>88.0</td>\n",
              "      <td>NaT</td>\n",
              "      <td>NaT</td>\n",
              "      <td>33</td>\n",
              "      <td>3038999</td>\n",
              "      <td>2921978</td>\n",
              "      <td>58.4030</td>\n",
              "      <td>AR</td>\n",
              "      <td>22289</td>\n",
              "      <td>1599</td>\n",
              "      <td>34</td>\n",
              "      <td>0.052616</td>\n",
              "    </tr>\n",
              "    <tr>\n",
              "      <th>4</th>\n",
              "      <td>California</td>\n",
              "      <td>359.0</td>\n",
              "      <td>2020-03-19</td>\n",
              "      <td>2020-03-19</td>\n",
              "      <td>1</td>\n",
              "      <td>39937489</td>\n",
              "      <td>37320903</td>\n",
              "      <td>256.3727</td>\n",
              "      <td>CA</td>\n",
              "      <td>227600</td>\n",
              "      <td>24424</td>\n",
              "      <td>821</td>\n",
              "      <td>0.061156</td>\n",
              "    </tr>\n",
              "  </tbody>\n",
              "</table>\n",
              "</div>"
            ],
            "text/plain": [
              "        State  Total Hospitals  ... deaths case_per_capita\n",
              "0     Alabama            101.0  ...    123        0.086399\n",
              "1      Alaska             21.0  ...      9        0.039918\n",
              "2     Arizona             83.0  ...    142        0.053697\n",
              "3    Arkansas             88.0  ...     34        0.052616\n",
              "4  California            359.0  ...    821        0.061156\n",
              "\n",
              "[5 rows x 13 columns]"
            ]
          },
          "metadata": {
            "tags": []
          },
          "execution_count": 95
        }
      ]
    },
    {
      "cell_type": "code",
      "metadata": {
        "id": "snpdXCNkbtlO",
        "colab_type": "code",
        "outputId": "3459af47-49d7-47c6-b86f-5b3b96ad674e",
        "colab": {
          "base_uri": "https://localhost:8080/",
          "height": 221
        }
      },
      "source": [
        "cases_target = pd.DataFrame(hos_cases_df.positive, columns=['positive'])\n",
        "cases_target.head()"
      ],
      "execution_count": 96,
      "outputs": [
        {
          "output_type": "execute_result",
          "data": {
            "text/html": [
              "<div>\n",
              "<style scoped>\n",
              "    .dataframe tbody tr th:only-of-type {\n",
              "        vertical-align: middle;\n",
              "    }\n",
              "\n",
              "    .dataframe tbody tr th {\n",
              "        vertical-align: top;\n",
              "    }\n",
              "\n",
              "    .dataframe thead th {\n",
              "        text-align: right;\n",
              "    }\n",
              "</style>\n",
              "<table border=\"1\" class=\"dataframe\">\n",
              "  <thead>\n",
              "    <tr style=\"text-align: right;\">\n",
              "      <th></th>\n",
              "      <th>positive</th>\n",
              "    </tr>\n",
              "  </thead>\n",
              "  <tbody>\n",
              "    <tr>\n",
              "      <th>0</th>\n",
              "      <td>4241</td>\n",
              "    </tr>\n",
              "    <tr>\n",
              "      <th>1</th>\n",
              "      <td>293</td>\n",
              "    </tr>\n",
              "    <tr>\n",
              "      <th>2</th>\n",
              "      <td>3962</td>\n",
              "    </tr>\n",
              "    <tr>\n",
              "      <th>3</th>\n",
              "      <td>1599</td>\n",
              "    </tr>\n",
              "    <tr>\n",
              "      <th>4</th>\n",
              "      <td>24424</td>\n",
              "    </tr>\n",
              "  </tbody>\n",
              "</table>\n",
              "</div>"
            ],
            "text/plain": [
              "   positive\n",
              "0      4241\n",
              "1       293\n",
              "2      3962\n",
              "3      1599\n",
              "4     24424"
            ]
          },
          "metadata": {
            "tags": []
          },
          "execution_count": 96
        }
      ]
    },
    {
      "cell_type": "code",
      "metadata": {
        "id": "BkYosiZAb4WR",
        "colab_type": "code",
        "outputId": "bed8a884-6871-4e37-da98-fa6e09eeda9b",
        "colab": {
          "base_uri": "https://localhost:8080/",
          "height": 237
        }
      },
      "source": [
        "hos_X = pd.DataFrame(hos_cases_df[['Total Hospitals','density']])\n",
        "hos_X.head()"
      ],
      "execution_count": 97,
      "outputs": [
        {
          "output_type": "execute_result",
          "data": {
            "text/html": [
              "<div>\n",
              "<style scoped>\n",
              "    .dataframe tbody tr th:only-of-type {\n",
              "        vertical-align: middle;\n",
              "    }\n",
              "\n",
              "    .dataframe tbody tr th {\n",
              "        vertical-align: top;\n",
              "    }\n",
              "\n",
              "    .dataframe thead th {\n",
              "        text-align: right;\n",
              "    }\n",
              "</style>\n",
              "<table border=\"1\" class=\"dataframe\">\n",
              "  <thead>\n",
              "    <tr style=\"text-align: right;\">\n",
              "      <th></th>\n",
              "      <th>Total Hospitals</th>\n",
              "      <th>density</th>\n",
              "    </tr>\n",
              "  </thead>\n",
              "  <tbody>\n",
              "    <tr>\n",
              "      <th>0</th>\n",
              "      <td>101.0</td>\n",
              "      <td>96.9221</td>\n",
              "    </tr>\n",
              "    <tr>\n",
              "      <th>1</th>\n",
              "      <td>21.0</td>\n",
              "      <td>1.2863</td>\n",
              "    </tr>\n",
              "    <tr>\n",
              "      <th>2</th>\n",
              "      <td>83.0</td>\n",
              "      <td>64.9550</td>\n",
              "    </tr>\n",
              "    <tr>\n",
              "      <th>3</th>\n",
              "      <td>88.0</td>\n",
              "      <td>58.4030</td>\n",
              "    </tr>\n",
              "    <tr>\n",
              "      <th>4</th>\n",
              "      <td>359.0</td>\n",
              "      <td>256.3727</td>\n",
              "    </tr>\n",
              "  </tbody>\n",
              "</table>\n",
              "</div>"
            ],
            "text/plain": [
              "   Total Hospitals   density\n",
              "0            101.0   96.9221\n",
              "1             21.0    1.2863\n",
              "2             83.0   64.9550\n",
              "3             88.0   58.4030\n",
              "4            359.0  256.3727"
            ]
          },
          "metadata": {
            "tags": []
          },
          "execution_count": 97
        }
      ]
    },
    {
      "cell_type": "code",
      "metadata": {
        "id": "UeVUjZUGcMdZ",
        "colab_type": "code",
        "outputId": "00f02d68-55e6-4fd8-e026-bd74aa81b7d0",
        "colab": {
          "base_uri": "https://localhost:8080/",
          "height": 237
        }
      },
      "source": [
        "hos_X['density'] = np.log(hos_X['density'])\n",
        "hos_X['Total Hospitals'] = np.log(hos_X['Total Hospitals'])\n",
        "hos_X.head()"
      ],
      "execution_count": 98,
      "outputs": [
        {
          "output_type": "execute_result",
          "data": {
            "text/html": [
              "<div>\n",
              "<style scoped>\n",
              "    .dataframe tbody tr th:only-of-type {\n",
              "        vertical-align: middle;\n",
              "    }\n",
              "\n",
              "    .dataframe tbody tr th {\n",
              "        vertical-align: top;\n",
              "    }\n",
              "\n",
              "    .dataframe thead th {\n",
              "        text-align: right;\n",
              "    }\n",
              "</style>\n",
              "<table border=\"1\" class=\"dataframe\">\n",
              "  <thead>\n",
              "    <tr style=\"text-align: right;\">\n",
              "      <th></th>\n",
              "      <th>Total Hospitals</th>\n",
              "      <th>density</th>\n",
              "    </tr>\n",
              "  </thead>\n",
              "  <tbody>\n",
              "    <tr>\n",
              "      <th>0</th>\n",
              "      <td>4.615121</td>\n",
              "      <td>4.573908</td>\n",
              "    </tr>\n",
              "    <tr>\n",
              "      <th>1</th>\n",
              "      <td>3.044522</td>\n",
              "      <td>0.251770</td>\n",
              "    </tr>\n",
              "    <tr>\n",
              "      <th>2</th>\n",
              "      <td>4.418841</td>\n",
              "      <td>4.173695</td>\n",
              "    </tr>\n",
              "    <tr>\n",
              "      <th>3</th>\n",
              "      <td>4.477337</td>\n",
              "      <td>4.067367</td>\n",
              "    </tr>\n",
              "    <tr>\n",
              "      <th>4</th>\n",
              "      <td>5.883322</td>\n",
              "      <td>5.546632</td>\n",
              "    </tr>\n",
              "  </tbody>\n",
              "</table>\n",
              "</div>"
            ],
            "text/plain": [
              "   Total Hospitals   density\n",
              "0         4.615121  4.573908\n",
              "1         3.044522  0.251770\n",
              "2         4.418841  4.173695\n",
              "3         4.477337  4.067367\n",
              "4         5.883322  5.546632"
            ]
          },
          "metadata": {
            "tags": []
          },
          "execution_count": 98
        }
      ]
    },
    {
      "cell_type": "code",
      "metadata": {
        "id": "YoPCZJvxcYsj",
        "colab_type": "code",
        "outputId": "fb2319eb-f440-4239-fe9f-60a268122590",
        "colab": {
          "base_uri": "https://localhost:8080/",
          "height": 881
        }
      },
      "source": [
        "hos_model = sm.OLS(cases_target,hos_X).fit()\n",
        "hos_model.summary()"
      ],
      "execution_count": 99,
      "outputs": [
        {
          "output_type": "execute_result",
          "data": {
            "text/html": [
              "<table class=\"simpletable\">\n",
              "<caption>OLS Regression Results</caption>\n",
              "<tr>\n",
              "  <th>Dep. Variable:</th>        <td>positive</td>     <th>  R-squared (uncentered):</th>      <td>   0.198</td>\n",
              "</tr>\n",
              "<tr>\n",
              "  <th>Model:</th>                   <td>OLS</td>       <th>  Adj. R-squared (uncentered):</th> <td>   0.164</td>\n",
              "</tr>\n",
              "<tr>\n",
              "  <th>Method:</th>             <td>Least Squares</td>  <th>  F-statistic:       </th>          <td>   5.919</td>\n",
              "</tr>\n",
              "<tr>\n",
              "  <th>Date:</th>             <td>Tue, 28 Apr 2020</td> <th>  Prob (F-statistic):</th>           <td>0.00504</td>\n",
              "</tr>\n",
              "<tr>\n",
              "  <th>Time:</th>                 <td>14:35:29</td>     <th>  Log-Likelihood:    </th>          <td> -586.67</td>\n",
              "</tr>\n",
              "<tr>\n",
              "  <th>No. Observations:</th>      <td>    50</td>      <th>  AIC:               </th>          <td>   1177.</td>\n",
              "</tr>\n",
              "<tr>\n",
              "  <th>Df Residuals:</th>          <td>    48</td>      <th>  BIC:               </th>          <td>   1181.</td>\n",
              "</tr>\n",
              "<tr>\n",
              "  <th>Df Model:</th>              <td>     2</td>      <th>                     </th>              <td> </td>   \n",
              "</tr>\n",
              "<tr>\n",
              "  <th>Covariance Type:</th>      <td>nonrobust</td>    <th>                     </th>              <td> </td>   \n",
              "</tr>\n",
              "</table>\n",
              "<table class=\"simpletable\">\n",
              "<tr>\n",
              "         <td></td>            <th>coef</th>     <th>std err</th>      <th>t</th>      <th>P>|t|</th>  <th>[0.025</th>    <th>0.975]</th>  \n",
              "</tr>\n",
              "<tr>\n",
              "  <th>Total Hospitals</th> <td>   82.5228</td> <td> 2739.275</td> <td>    0.030</td> <td> 0.976</td> <td>-5425.159</td> <td> 5590.205</td>\n",
              "</tr>\n",
              "<tr>\n",
              "  <th>density</th>         <td> 2999.1814</td> <td> 2470.139</td> <td>    1.214</td> <td> 0.231</td> <td>-1967.365</td> <td> 7965.728</td>\n",
              "</tr>\n",
              "</table>\n",
              "<table class=\"simpletable\">\n",
              "<tr>\n",
              "  <th>Omnibus:</th>       <td>98.611</td> <th>  Durbin-Watson:     </th> <td>   2.124</td>\n",
              "</tr>\n",
              "<tr>\n",
              "  <th>Prob(Omnibus):</th> <td> 0.000</td> <th>  Jarque-Bera (JB):  </th> <td>2631.546</td>\n",
              "</tr>\n",
              "<tr>\n",
              "  <th>Skew:</th>          <td> 5.657</td> <th>  Prob(JB):          </th> <td>    0.00</td>\n",
              "</tr>\n",
              "<tr>\n",
              "  <th>Kurtosis:</th>      <td>36.692</td> <th>  Cond. No.          </th> <td>    5.38</td>\n",
              "</tr>\n",
              "</table><br/><br/>Warnings:<br/>[1] Standard Errors assume that the covariance matrix of the errors is correctly specified."
            ],
            "text/plain": [
              "<class 'statsmodels.iolib.summary.Summary'>\n",
              "\"\"\"\n",
              "                                 OLS Regression Results                                \n",
              "=======================================================================================\n",
              "Dep. Variable:               positive   R-squared (uncentered):                   0.198\n",
              "Model:                            OLS   Adj. R-squared (uncentered):              0.164\n",
              "Method:                 Least Squares   F-statistic:                              5.919\n",
              "Date:                Tue, 28 Apr 2020   Prob (F-statistic):                     0.00504\n",
              "Time:                        14:35:29   Log-Likelihood:                         -586.67\n",
              "No. Observations:                  50   AIC:                                      1177.\n",
              "Df Residuals:                      48   BIC:                                      1181.\n",
              "Df Model:                           2                                                  \n",
              "Covariance Type:            nonrobust                                                  \n",
              "===================================================================================\n",
              "                      coef    std err          t      P>|t|      [0.025      0.975]\n",
              "-----------------------------------------------------------------------------------\n",
              "Total Hospitals    82.5228   2739.275      0.030      0.976   -5425.159    5590.205\n",
              "density          2999.1814   2470.139      1.214      0.231   -1967.365    7965.728\n",
              "==============================================================================\n",
              "Omnibus:                       98.611   Durbin-Watson:                   2.124\n",
              "Prob(Omnibus):                  0.000   Jarque-Bera (JB):             2631.546\n",
              "Skew:                           5.657   Prob(JB):                         0.00\n",
              "Kurtosis:                      36.692   Cond. No.                         5.38\n",
              "==============================================================================\n",
              "\n",
              "Warnings:\n",
              "[1] Standard Errors assume that the covariance matrix of the errors is correctly specified.\n",
              "\"\"\""
            ]
          },
          "metadata": {
            "tags": []
          },
          "execution_count": 99
        }
      ]
    },
    {
      "cell_type": "code",
      "metadata": {
        "id": "mhjranZ8dRBF",
        "colab_type": "code",
        "colab": {}
      },
      "source": [
        "predictions2 = hos_model.predict(hos_X)"
      ],
      "execution_count": 0,
      "outputs": []
    },
    {
      "cell_type": "code",
      "metadata": {
        "id": "5b9-DJxafA1Q",
        "colab_type": "code",
        "outputId": "a95f7c47-4426-485a-ac59-fe7dfac1b79a",
        "colab": {
          "base_uri": "https://localhost:8080/",
          "height": 52
        }
      },
      "source": [
        "reg2 = linear_model.LinearRegression()\n",
        "reg2.fit(hos_X, cases_target)\n",
        "target_predict2 = reg2.predict(hos_X)\n",
        "\n",
        "reg2.score(hos_X,cases_target)"
      ],
      "execution_count": 101,
      "outputs": [
        {
          "output_type": "execute_result",
          "data": {
            "text/plain": [
              "0.155920136687711"
            ]
          },
          "metadata": {
            "tags": []
          },
          "execution_count": 101
        }
      ]
    },
    {
      "cell_type": "code",
      "metadata": {
        "id": "naHKcflTfYPV",
        "colab_type": "code",
        "outputId": "eecfe918-aca1-4ce8-bbab-994f051bd8cc",
        "colab": {
          "base_uri": "https://localhost:8080/",
          "height": 85
        }
      },
      "source": [
        "print(reg2.coef_)\n",
        "print(reg2.intercept_)\n",
        "\n",
        "plt.figure(figsize=(10,10));\n",
        "plt.scatter(cases_target, target_predict2)\n",
        "plt.xscale('log')\n",
        "plt.yscale('log')\n",
        "plt.xlabel('Target', fontsize=15)\n",
        "plt.ylabel('Target Predictions', fontsize=15)\n",
        "plt.title('Predicting Cases use Hospital and Population Density', fontsize=25);"
      ],
      "execution_count": 102,
      "outputs": [
        {
          "output_type": "stream",
          "text": [
            "[[9083.71378268 6030.60376748]]\n",
            "[-54504.16638092]\n"
          ],
          "name": "stdout"
        },
        {
          "output_type": "display_data",
          "data": {
            "image/png": "[encoded data removed]",
            "text/plain": [
              "<Figure size 720x720 with 1 Axes>"
            ]
          },
          "metadata": {
            "tags": [],
            "needs_background": "light"
          }
        }
      ]
    },
    {
      "cell_type": "code",
      "metadata": {
        "id": "5qYOYkWRDxXX",
        "colab_type": "code",
        "outputId": "638aadc3-8c87-4519-d1b5-43a75be6d8c9",
        "colab": {
          "base_uri": "https://localhost:8080/",
          "height": 69
        }
      },
      "source": [
        "plt.figure(figsize=(10,10))\n",
        "plt.scatter(np.log(cases_target),(target_predict2))\n"
      ],
      "execution_count": 103,
      "outputs": [
        {
          "output_type": "execute_result",
          "data": {
            "text/plain": [
              "<matplotlib.collections.PathCollection at 0x7f524f913f98>"
            ]
          },
          "metadata": {
            "tags": []
          },
          "execution_count": 103
        },
        {
          "output_type": "display_data",
          "data": {
            "image/png": "[encoded data removed]",
            "text/plain": [
              "<Figure size 720x720 with 1 Axes>"
            ]
          },
          "metadata": {
            "tags": [],
            "needs_background": "light"
          }
        }
      ]
    },
    {
      "cell_type": "code",
      "metadata": {
        "id": "VdH_a7qdEW-u",
        "colab_type": "code",
        "outputId": "8b1d76ab-e53a-4e51-81b3-144e95656445",
        "colab": {
          "base_uri": "https://localhost:8080/",
          "height": 69
        }
      },
      "source": [
        "residuals = pd.DataFrame(np.log(target_predict2)-np.log(cases_target))"
      ],
      "execution_count": 104,
      "outputs": [
        {
          "output_type": "stream",
          "text": [
            "/usr/local/lib/python3.6/dist-packages/ipykernel_launcher.py:1: RuntimeWarning: invalid value encountered in log\n",
            "  \"\"\"Entry point for launching an IPython kernel.\n"
          ],
          "name": "stderr"
        }
      ]
    },
    {
      "cell_type": "code",
      "metadata": {
        "id": "Usqy_uCzBsAh",
        "colab_type": "code",
        "colab": {}
      },
      "source": [
        "# print(hos_XA.head())\n",
        "# cases_targetA.head()"
      ],
      "execution_count": 0,
      "outputs": []
    },
    {
      "cell_type": "code",
      "metadata": {
        "id": "TaUwF883GYXW",
        "colab_type": "code",
        "colab": {}
      },
      "source": [
        "from scipy.optimize import nnls"
      ],
      "execution_count": 0,
      "outputs": []
    },
    {
      "cell_type": "code",
      "metadata": {
        "id": "FGtslTsDIPxW",
        "colab_type": "code",
        "colab": {}
      },
      "source": [
        "hos_XA = np.array(hos_X)\n",
        "cases_targetA = np.array(cases_target)"
      ],
      "execution_count": 0,
      "outputs": []
    },
    {
      "cell_type": "code",
      "metadata": {
        "id": "V-2QH_jgkPVk",
        "colab_type": "code",
        "colab": {}
      },
      "source": [
        "hos_XB = np.delete(hos_XA, [31], axis=0)"
      ],
      "execution_count": 0,
      "outputs": []
    },
    {
      "cell_type": "code",
      "metadata": {
        "id": "eOmzWnyfk0Om",
        "colab_type": "code",
        "outputId": "6cef5b5a-2dfb-4305-ee47-7fdbcae38a3c",
        "colab": {
          "base_uri": "https://localhost:8080/",
          "height": 69
        }
      },
      "source": [
        "print(hos_XA.shape)\n",
        "print(hos_XB.shape)"
      ],
      "execution_count": 109,
      "outputs": [
        {
          "output_type": "stream",
          "text": [
            "(50, 2)\n",
            "(49, 2)\n"
          ],
          "name": "stdout"
        }
      ]
    },
    {
      "cell_type": "code",
      "metadata": {
        "id": "WCHPx7YHeufV",
        "colab_type": "code",
        "colab": {}
      },
      "source": [
        "cases_targetB = np.reshape(cases_targetA, (1,-1))"
      ],
      "execution_count": 0,
      "outputs": []
    },
    {
      "cell_type": "code",
      "metadata": {
        "id": "wYkuYTkFlB6O",
        "colab_type": "code",
        "colab": {}
      },
      "source": [
        "cases_targetC = np.delete(cases_targetB,[31])"
      ],
      "execution_count": 0,
      "outputs": []
    },
    {
      "cell_type": "code",
      "metadata": {
        "id": "FykpyLPOlMbI",
        "colab_type": "code",
        "outputId": "0ec17565-f0d9-4ddc-8dd9-47193c1822d0",
        "colab": {
          "base_uri": "https://localhost:8080/",
          "height": 69
        }
      },
      "source": [
        "print(cases_targetB.shape)\n",
        "print(cases_targetC.shape)"
      ],
      "execution_count": 112,
      "outputs": [
        {
          "output_type": "stream",
          "text": [
            "(1, 50)\n",
            "(49,)\n"
          ],
          "name": "stdout"
        }
      ]
    },
    {
      "cell_type": "code",
      "metadata": {
        "id": "CjFCtAmHGrhK",
        "colab_type": "code",
        "colab": {}
      },
      "source": [
        "results = nnls(hos_XB,cases_targetC)"
      ],
      "execution_count": 0,
      "outputs": []
    },
    {
      "cell_type": "code",
      "metadata": {
        "id": "i7LNVhglfgS6",
        "colab_type": "code",
        "colab": {}
      },
      "source": [
        "results1 = np.dot(hos_XB,results[0])"
      ],
      "execution_count": 0,
      "outputs": []
    },
    {
      "cell_type": "code",
      "metadata": {
        "id": "L2O0gkHigeqW",
        "colab_type": "code",
        "outputId": "c2af0765-89cd-4d66-fef6-9f85419f25d5",
        "colab": {
          "base_uri": "https://localhost:8080/",
          "height": 69
        }
      },
      "source": [
        "plt.figure(figsize=[10,10])\n",
        "plt.scatter(results1, cases_targetC-results1)\n",
        "# plt.yscale('log')\n",
        "# plt.xscale('log')"
      ],
      "execution_count": 115,
      "outputs": [
        {
          "output_type": "execute_result",
          "data": {
            "text/plain": [
              "<matplotlib.collections.PathCollection at 0x7f524fa7eb38>"
            ]
          },
          "metadata": {
            "tags": []
          },
          "execution_count": 115
        },
        {
          "output_type": "display_data",
          "data": {
            "image/png": "[encoded data removed]",
            "text/plain": [
              "<Figure size 720x720 with 1 Axes>"
            ]
          },
          "metadata": {
            "tags": [],
            "needs_background": "light"
          }
        }
      ]
    },
    {
      "cell_type": "code",
      "metadata": {
        "id": "Hp8BHTGLjuC7",
        "colab_type": "code",
        "colab": {}
      },
      "source": [
        "# residuals1 = cases_targetB[0]-results1\n",
        "# residuals1.argmax()"
      ],
      "execution_count": 0,
      "outputs": []
    },
    {
      "cell_type": "markdown",
      "metadata": {
        "id": "6Cp4cxFuTcTk",
        "colab_type": "text"
      },
      "source": [
        "## CDC DATA "
      ]
    },
    {
      "cell_type": "code",
      "metadata": {
        "id": "-0-_zEbtT6El",
        "colab_type": "code",
        "colab": {}
      },
      "source": [
        "cdc_df = pd.read_csv('/content/drive/My Drive/COVID19 Capstone/CDC_Provisional_Death_Counts_for_Coronavirus_Disease__COVID-19_.csv')"
      ],
      "execution_count": 0,
      "outputs": []
    },
    {
      "cell_type": "code",
      "metadata": {
        "id": "a-2ZQFupX39K",
        "colab_type": "code",
        "outputId": "fc85bb96-654a-446f-937e-1904922e81e1",
        "colab": {
          "base_uri": "https://localhost:8080/",
          "height": 316
        }
      },
      "source": [
        "cdc_df.head()"
      ],
      "execution_count": 118,
      "outputs": [
        {
          "output_type": "execute_result",
          "data": {
            "text/html": [
              "<div>\n",
              "<style scoped>\n",
              "    .dataframe tbody tr th:only-of-type {\n",
              "        vertical-align: middle;\n",
              "    }\n",
              "\n",
              "    .dataframe tbody tr th {\n",
              "        vertical-align: top;\n",
              "    }\n",
              "\n",
              "    .dataframe thead th {\n",
              "        text-align: right;\n",
              "    }\n",
              "</style>\n",
              "<table border=\"1\" class=\"dataframe\">\n",
              "  <thead>\n",
              "    <tr style=\"text-align: right;\">\n",
              "      <th></th>\n",
              "      <th>Data as of</th>\n",
              "      <th>Group</th>\n",
              "      <th>State</th>\n",
              "      <th>Indicator</th>\n",
              "      <th>Start week</th>\n",
              "      <th>End week</th>\n",
              "      <th>All COVID-19 Deaths (U07.1)</th>\n",
              "      <th>Deaths from All Causes</th>\n",
              "      <th>Percent of Expected Deaths</th>\n",
              "      <th>All Pneumonia Deaths (J12.0-J18.9)</th>\n",
              "      <th>Deaths with Pneumonia and COVID-19 (J12.0-J18.9 and U07.1)</th>\n",
              "      <th>All Influenza Deaths (J09-J11)</th>\n",
              "    </tr>\n",
              "  </thead>\n",
              "  <tbody>\n",
              "    <tr>\n",
              "      <th>0</th>\n",
              "      <td>4/17/2020</td>\n",
              "      <td>By week</td>\n",
              "      <td>United States</td>\n",
              "      <td>Total Deaths</td>\n",
              "      <td>2/1/2020</td>\n",
              "      <td>4/18/2020</td>\n",
              "      <td>17,229</td>\n",
              "      <td>615,428</td>\n",
              "      <td>0.90</td>\n",
              "      <td>49,013</td>\n",
              "      <td>7,676</td>\n",
              "      <td>5,411</td>\n",
              "    </tr>\n",
              "    <tr>\n",
              "      <th>1</th>\n",
              "      <td>4/17/2020</td>\n",
              "      <td>By week</td>\n",
              "      <td>United States</td>\n",
              "      <td>Week-ending</td>\n",
              "      <td>2/1/2020</td>\n",
              "      <td>2/1/2020</td>\n",
              "      <td>0</td>\n",
              "      <td>56,645</td>\n",
              "      <td>0.96</td>\n",
              "      <td>3,648</td>\n",
              "      <td>0</td>\n",
              "      <td>454</td>\n",
              "    </tr>\n",
              "    <tr>\n",
              "      <th>2</th>\n",
              "      <td>4/17/2020</td>\n",
              "      <td>By week</td>\n",
              "      <td>United States</td>\n",
              "      <td>Week-ending</td>\n",
              "      <td>2/8/2020</td>\n",
              "      <td>2/8/2020</td>\n",
              "      <td>0</td>\n",
              "      <td>57,225</td>\n",
              "      <td>0.96</td>\n",
              "      <td>3,640</td>\n",
              "      <td>0</td>\n",
              "      <td>488</td>\n",
              "    </tr>\n",
              "    <tr>\n",
              "      <th>3</th>\n",
              "      <td>4/17/2020</td>\n",
              "      <td>By week</td>\n",
              "      <td>United States</td>\n",
              "      <td>Week-ending</td>\n",
              "      <td>2/15/2020</td>\n",
              "      <td>2/15/2020</td>\n",
              "      <td>0</td>\n",
              "      <td>56,416</td>\n",
              "      <td>0.96</td>\n",
              "      <td>3,659</td>\n",
              "      <td>0</td>\n",
              "      <td>509</td>\n",
              "    </tr>\n",
              "    <tr>\n",
              "      <th>4</th>\n",
              "      <td>4/17/2020</td>\n",
              "      <td>By week</td>\n",
              "      <td>United States</td>\n",
              "      <td>Week-ending</td>\n",
              "      <td>2/22/2020</td>\n",
              "      <td>2/22/2020</td>\n",
              "      <td>0</td>\n",
              "      <td>56,120</td>\n",
              "      <td>0.97</td>\n",
              "      <td>3,518</td>\n",
              "      <td>0</td>\n",
              "      <td>525</td>\n",
              "    </tr>\n",
              "  </tbody>\n",
              "</table>\n",
              "</div>"
            ],
            "text/plain": [
              "  Data as of  ... All Influenza Deaths (J09-J11)\n",
              "0  4/17/2020  ...                          5,411\n",
              "1  4/17/2020  ...                            454\n",
              "2  4/17/2020  ...                            488\n",
              "3  4/17/2020  ...                            509\n",
              "4  4/17/2020  ...                            525\n",
              "\n",
              "[5 rows x 12 columns]"
            ]
          },
          "metadata": {
            "tags": []
          },
          "execution_count": 118
        }
      ]
    },
    {
      "cell_type": "code",
      "metadata": {
        "id": "LnZbt4v9SI_U",
        "colab_type": "code",
        "outputId": "d97a1ea6-3031-4037-87e7-577fe65ee336",
        "colab": {
          "base_uri": "https://localhost:8080/",
          "height": 362
        }
      },
      "source": [
        "cdc_df.Indicator.unique()"
      ],
      "execution_count": 119,
      "outputs": [
        {
          "output_type": "execute_result",
          "data": {
            "text/plain": [
              "array(['Total Deaths', 'Week-ending', 'All ages', 'Under 1 year',\n",
              "       '1–4 years', '5–14 years', '15–24 years', '25–34 years',\n",
              "       '35–44 years', '45–54 years', '55–64 years', '65–74 years',\n",
              "       '75–84 years', '85 years and over', 'Total US', 'Alabama',\n",
              "       'Alaska', 'Arizona', 'Arkansas', 'California', 'Colorado',\n",
              "       'Connecticut', 'Delaware', 'District of Columbia', 'Florida',\n",
              "       'Georgia', 'Hawaii', 'Idaho', 'Illinois', 'Indiana', 'Iowa',\n",
              "       'Kansas', 'Kentucky', 'Louisiana', 'Maine', 'Maryland',\n",
              "       'Massachusetts', 'Michigan', 'Minnesota', 'Mississippi',\n",
              "       'Missouri', 'Montana', 'Nebraska', 'Nevada', 'New Hampshire',\n",
              "       'New Jersey', 'New Mexico', 'New York', 'New York City',\n",
              "       'North Carolina', 'North Dakota', 'Ohio', 'Oklahoma', 'Oregon',\n",
              "       'Pennsylvania', 'Rhode Island', 'South Carolina', 'South Dakota',\n",
              "       'Tennessee', 'Texas', 'Utah', 'Vermont', 'Virginia', 'Washington',\n",
              "       'West Virginia', 'Wisconsin', 'Wyoming', 'Puerto Rico',\n",
              "       'Total deaths', 'Male', 'Female', 'Unknown', 'Total',\n",
              "       'Healthcare setting, inpatient',\n",
              "       'Healthcare setting, outpatient or emergency room',\n",
              "       'Healthcare setting, dead on arrival', \"Decedent's home\",\n",
              "       'Hospice facility', 'Nursing home/long term care facility',\n",
              "       'Other', 'Place of death unknown'], dtype=object)"
            ]
          },
          "metadata": {
            "tags": []
          },
          "execution_count": 119
        }
      ]
    },
    {
      "cell_type": "code",
      "metadata": {
        "id": "0XDwGa97R398",
        "colab_type": "code",
        "colab": {}
      },
      "source": [
        "age_covid = cdc_df[cdc_df['Indicator'].str.contains('year')].copy(deep=True)\n",
        "age_covid.reset_index(inplace=True, drop=True)"
      ],
      "execution_count": 0,
      "outputs": []
    },
    {
      "cell_type": "code",
      "metadata": {
        "id": "TgTVOYuYwI3-",
        "colab_type": "code",
        "outputId": "d299f4c2-f2cf-4d29-dad1-7de59738a73a",
        "colab": {
          "base_uri": "https://localhost:8080/",
          "height": 598
        }
      },
      "source": [
        "age_covid.head(20)"
      ],
      "execution_count": 121,
      "outputs": [
        {
          "output_type": "execute_result",
          "data": {
            "text/html": [
              "<div>\n",
              "<style scoped>\n",
              "    .dataframe tbody tr th:only-of-type {\n",
              "        vertical-align: middle;\n",
              "    }\n",
              "\n",
              "    .dataframe tbody tr th {\n",
              "        vertical-align: top;\n",
              "    }\n",
              "\n",
              "    .dataframe thead th {\n",
              "        text-align: right;\n",
              "    }\n",
              "</style>\n",
              "<table border=\"1\" class=\"dataframe\">\n",
              "  <thead>\n",
              "    <tr style=\"text-align: right;\">\n",
              "      <th></th>\n",
              "      <th>Data as of</th>\n",
              "      <th>Group</th>\n",
              "      <th>State</th>\n",
              "      <th>Indicator</th>\n",
              "      <th>Start week</th>\n",
              "      <th>End week</th>\n",
              "      <th>All COVID-19 Deaths (U07.1)</th>\n",
              "      <th>Deaths from All Causes</th>\n",
              "      <th>Percent of Expected Deaths</th>\n",
              "      <th>All Pneumonia Deaths (J12.0-J18.9)</th>\n",
              "      <th>Deaths with Pneumonia and COVID-19 (J12.0-J18.9 and U07.1)</th>\n",
              "      <th>All Influenza Deaths (J09-J11)</th>\n",
              "    </tr>\n",
              "  </thead>\n",
              "  <tbody>\n",
              "    <tr>\n",
              "      <th>0</th>\n",
              "      <td>4/17/2020</td>\n",
              "      <td>By age</td>\n",
              "      <td>United States</td>\n",
              "      <td>Under 1 year</td>\n",
              "      <td>2/1/2020</td>\n",
              "      <td>4/18/2020</td>\n",
              "      <td>0</td>\n",
              "      <td>3,224</td>\n",
              "      <td>0.9</td>\n",
              "      <td>28</td>\n",
              "      <td>0</td>\n",
              "      <td>11</td>\n",
              "    </tr>\n",
              "    <tr>\n",
              "      <th>1</th>\n",
              "      <td>4/17/2020</td>\n",
              "      <td>By age</td>\n",
              "      <td>United States</td>\n",
              "      <td>1–4 years</td>\n",
              "      <td>2/1/2020</td>\n",
              "      <td>4/18/2020</td>\n",
              "      <td>2</td>\n",
              "      <td>636</td>\n",
              "      <td>0.9</td>\n",
              "      <td>31</td>\n",
              "      <td>2</td>\n",
              "      <td>28</td>\n",
              "    </tr>\n",
              "    <tr>\n",
              "      <th>2</th>\n",
              "      <td>4/17/2020</td>\n",
              "      <td>By age</td>\n",
              "      <td>United States</td>\n",
              "      <td>5–14 years</td>\n",
              "      <td>2/1/2020</td>\n",
              "      <td>4/18/2020</td>\n",
              "      <td>1</td>\n",
              "      <td>939</td>\n",
              "      <td>0.9</td>\n",
              "      <td>33</td>\n",
              "      <td>0</td>\n",
              "      <td>38</td>\n",
              "    </tr>\n",
              "    <tr>\n",
              "      <th>3</th>\n",
              "      <td>4/17/2020</td>\n",
              "      <td>By age</td>\n",
              "      <td>United States</td>\n",
              "      <td>15–24 years</td>\n",
              "      <td>2/1/2020</td>\n",
              "      <td>4/18/2020</td>\n",
              "      <td>17</td>\n",
              "      <td>5,474</td>\n",
              "      <td>0.9</td>\n",
              "      <td>110</td>\n",
              "      <td>6</td>\n",
              "      <td>38</td>\n",
              "    </tr>\n",
              "    <tr>\n",
              "      <th>4</th>\n",
              "      <td>4/17/2020</td>\n",
              "      <td>By age</td>\n",
              "      <td>United States</td>\n",
              "      <td>25–34 years</td>\n",
              "      <td>2/1/2020</td>\n",
              "      <td>4/18/2020</td>\n",
              "      <td>139</td>\n",
              "      <td>11,595</td>\n",
              "      <td>0.9</td>\n",
              "      <td>346</td>\n",
              "      <td>57</td>\n",
              "      <td>121</td>\n",
              "    </tr>\n",
              "    <tr>\n",
              "      <th>5</th>\n",
              "      <td>4/17/2020</td>\n",
              "      <td>By age</td>\n",
              "      <td>United States</td>\n",
              "      <td>35–44 years</td>\n",
              "      <td>2/1/2020</td>\n",
              "      <td>4/18/2020</td>\n",
              "      <td>351</td>\n",
              "      <td>16,718</td>\n",
              "      <td>0.9</td>\n",
              "      <td>752</td>\n",
              "      <td>124</td>\n",
              "      <td>192</td>\n",
              "    </tr>\n",
              "    <tr>\n",
              "      <th>6</th>\n",
              "      <td>4/17/2020</td>\n",
              "      <td>By age</td>\n",
              "      <td>United States</td>\n",
              "      <td>45–54 years</td>\n",
              "      <td>2/1/2020</td>\n",
              "      <td>4/18/2020</td>\n",
              "      <td>943</td>\n",
              "      <td>32,207</td>\n",
              "      <td>0.9</td>\n",
              "      <td>1,974</td>\n",
              "      <td>375</td>\n",
              "      <td>467</td>\n",
              "    </tr>\n",
              "    <tr>\n",
              "      <th>7</th>\n",
              "      <td>4/17/2020</td>\n",
              "      <td>By age</td>\n",
              "      <td>United States</td>\n",
              "      <td>55–64 years</td>\n",
              "      <td>2/1/2020</td>\n",
              "      <td>4/18/2020</td>\n",
              "      <td>2,258</td>\n",
              "      <td>77,835</td>\n",
              "      <td>0.9</td>\n",
              "      <td>5,877</td>\n",
              "      <td>945</td>\n",
              "      <td>1,001</td>\n",
              "    </tr>\n",
              "    <tr>\n",
              "      <th>8</th>\n",
              "      <td>4/17/2020</td>\n",
              "      <td>By age</td>\n",
              "      <td>United States</td>\n",
              "      <td>65–74 years</td>\n",
              "      <td>2/1/2020</td>\n",
              "      <td>4/18/2020</td>\n",
              "      <td>3,829</td>\n",
              "      <td>121,198</td>\n",
              "      <td>0.9</td>\n",
              "      <td>10,137</td>\n",
              "      <td>1,613</td>\n",
              "      <td>1,191</td>\n",
              "    </tr>\n",
              "    <tr>\n",
              "      <th>9</th>\n",
              "      <td>4/17/2020</td>\n",
              "      <td>By age</td>\n",
              "      <td>United States</td>\n",
              "      <td>75–84 years</td>\n",
              "      <td>2/1/2020</td>\n",
              "      <td>4/18/2020</td>\n",
              "      <td>4,780</td>\n",
              "      <td>152,251</td>\n",
              "      <td>0.9</td>\n",
              "      <td>13,612</td>\n",
              "      <td>2,232</td>\n",
              "      <td>1,199</td>\n",
              "    </tr>\n",
              "    <tr>\n",
              "      <th>10</th>\n",
              "      <td>4/17/2020</td>\n",
              "      <td>By age</td>\n",
              "      <td>United States</td>\n",
              "      <td>85 years and over</td>\n",
              "      <td>2/1/2020</td>\n",
              "      <td>4/18/2020</td>\n",
              "      <td>4,909</td>\n",
              "      <td>193,351</td>\n",
              "      <td>0.9</td>\n",
              "      <td>16,113</td>\n",
              "      <td>2,322</td>\n",
              "      <td>1,125</td>\n",
              "    </tr>\n",
              "  </tbody>\n",
              "</table>\n",
              "</div>"
            ],
            "text/plain": [
              "   Data as of  ... All Influenza Deaths (J09-J11)\n",
              "0   4/17/2020  ...                             11\n",
              "1   4/17/2020  ...                             28\n",
              "2   4/17/2020  ...                             38\n",
              "3   4/17/2020  ...                             38\n",
              "4   4/17/2020  ...                            121\n",
              "5   4/17/2020  ...                            192\n",
              "6   4/17/2020  ...                            467\n",
              "7   4/17/2020  ...                          1,001\n",
              "8   4/17/2020  ...                          1,191\n",
              "9   4/17/2020  ...                          1,199\n",
              "10  4/17/2020  ...                          1,125\n",
              "\n",
              "[11 rows x 12 columns]"
            ]
          },
          "metadata": {
            "tags": []
          },
          "execution_count": 121
        }
      ]
    },
    {
      "cell_type": "code",
      "metadata": {
        "id": "tcrisCZ9NwKM",
        "colab_type": "code",
        "colab": {
          "base_uri": "https://localhost:8080/",
          "height": 65
        },
        "outputId": "5c03c95a-1a1e-4fb7-b577-485cabcb18c5"
      },
      "source": [
        "age_covid['Indicator'].unique()"
      ],
      "execution_count": 122,
      "outputs": [
        {
          "output_type": "execute_result",
          "data": {
            "text/plain": [
              "array(['Under 1 year', '1–4 years', '5–14 years', '15–24 years',\n",
              "       '25–34 years', '35–44 years', '45–54 years', '55–64 years',\n",
              "       '65–74 years', '75–84 years', '85 years and over'], dtype=object)"
            ]
          },
          "metadata": {
            "tags": []
          },
          "execution_count": 122
        }
      ]
    },
    {
      "cell_type": "code",
      "metadata": {
        "id": "eX1Vhfw7wOW6",
        "colab_type": "code",
        "outputId": "0a0564e6-ab25-4964-feb2-3e649ec5aac1",
        "colab": {
          "base_uri": "https://localhost:8080/",
          "height": 230
        }
      },
      "source": [
        "age_covid.dtypes"
      ],
      "execution_count": 123,
      "outputs": [
        {
          "output_type": "execute_result",
          "data": {
            "text/plain": [
              "Data as of                                                     object\n",
              "Group                                                          object\n",
              "State                                                          object\n",
              "Indicator                                                      object\n",
              "Start week                                                     object\n",
              "End week                                                       object\n",
              "All COVID-19 Deaths (U07.1)                                    object\n",
              "Deaths from All Causes                                         object\n",
              "Percent of Expected Deaths                                    float64\n",
              "All Pneumonia Deaths (J12.0-J18.9)                             object\n",
              "Deaths with Pneumonia and COVID-19 (J12.0-J18.9 and U07.1)     object\n",
              "All Influenza Deaths (J09-J11)                                 object\n",
              "dtype: object"
            ]
          },
          "metadata": {
            "tags": []
          },
          "execution_count": 123
        }
      ]
    },
    {
      "cell_type": "code",
      "metadata": {
        "id": "2jNEPFr9w2lz",
        "colab_type": "code",
        "colab": {}
      },
      "source": [
        "age_covid['All COVID-19 Deaths (U07.1)'] = age_covid['All COVID-19 Deaths (U07.1)'].str.replace(',', '')\n",
        "age_covid['All COVID-19 Deaths (U07.1)'] = age_covid['All COVID-19 Deaths (U07.1)'].astype(int)"
      ],
      "execution_count": 0,
      "outputs": []
    },
    {
      "cell_type": "code",
      "metadata": {
        "id": "3Bv1AXKLy-Xl",
        "colab_type": "code",
        "colab": {}
      },
      "source": [
        "age_covid['Deaths with Pneumonia and COVID-19 (J12.0-J18.9 and U07.1)'] = age_covid['Deaths with Pneumonia and COVID-19 (J12.0-J18.9 and U07.1)'].str.replace(',', '')\n",
        "age_covid['Deaths with Pneumonia and COVID-19 (J12.0-J18.9 and U07.1)'] = age_covid['Deaths with Pneumonia and COVID-19 (J12.0-J18.9 and U07.1)'].astype(int)"
      ],
      "execution_count": 0,
      "outputs": []
    },
    {
      "cell_type": "code",
      "metadata": {
        "id": "4u-VkhibSYcP",
        "colab_type": "code",
        "outputId": "c86e85c1-bdfb-40b3-e2f4-7b8b181c8b1e",
        "colab": {
          "base_uri": "https://localhost:8080/",
          "height": 715
        }
      },
      "source": [
        "plt.figure(figsize=[10,10])\n",
        "plt.scatter('Indicator','All COVID-19 Deaths (U07.1)', data=age_covid, label='All COVID-19 Deaths')\n",
        "plt.scatter('Indicator','Deaths with Pneumonia and COVID-19 (J12.0-J18.9 and U07.1)', data=age_covid,label='Deaths with Pneumonia and COVID-19')\n",
        "#plt.yscale('log')\n",
        "plt.xticks(rotation=90)\n",
        "plt.ylabel('All Covid-19 Deaths', fontsize=15)\n",
        "plt.xlabel('Age Groups', fontsize=15)\n",
        "plt.title('COVID-19 DEATHS VS AGE GROUPS from date 2/1/2020-4/18/2020', fontsize=25)\n",
        "plt.legend(borderpad=2, labelspacing=2,fontsize=10);"
      ],
      "execution_count": 126,
      "outputs": [
        {
          "output_type": "display_data",
          "data": {
            "image/png": "[encoded data removed]",
            "text/plain": [
              "<Figure size 720x720 with 1 Axes>"
            ]
          },
          "metadata": {
            "tags": [],
            "needs_background": "light"
          }
        }
      ]
    },
    {
      "cell_type": "markdown",
      "metadata": {
        "id": "-d_NX44rNJU6",
        "colab_type": "text"
      },
      "source": [
        "Now I want to find the percentage of us population so i can divide the death by covid cases with the percentage of people in that age group in the us"
      ]
    },
    {
      "cell_type": "code",
      "metadata": {
        "id": "zRyYpMaNff_i",
        "colab_type": "code",
        "colab": {}
      },
      "source": [
        "age_group_percent = pd.read_csv('/content/drive/My Drive/COVID19 Capstone/US Population Dist by Age and Sex(2018).csv', skiprows=[0])"
      ],
      "execution_count": 0,
      "outputs": []
    },
    {
      "cell_type": "code",
      "metadata": {
        "id": "OQqpSVSshm8a",
        "colab_type": "code",
        "colab": {}
      },
      "source": [
        "age_group_percent = age_group_percent.drop(labels=['Age','Unnamed: 1','Male % of Population','Female % of Population','Total Percent of population'], axis=1)"
      ],
      "execution_count": 0,
      "outputs": []
    },
    {
      "cell_type": "code",
      "metadata": {
        "id": "7X5vvoC-DvWc",
        "colab_type": "code",
        "colab": {}
      },
      "source": [
        "age_group_percent = age_group_percent.dropna()"
      ],
      "execution_count": 0,
      "outputs": []
    },
    {
      "cell_type": "code",
      "metadata": {
        "id": "8UrC5yR-HXq3",
        "colab_type": "code",
        "colab": {}
      },
      "source": [
        "age_group_percent['Total Percentage'] = age_group_percent['Total Percentage'].str.replace('%', '')\n",
        "age_group_percent['Total Percentage'] = age_group_percent['Total Percentage'].astype(float)"
      ],
      "execution_count": 0,
      "outputs": []
    },
    {
      "cell_type": "code",
      "metadata": {
        "id": "2AVY1EVuioOC",
        "colab_type": "code",
        "colab": {
          "base_uri": "https://localhost:8080/",
          "height": 384
        },
        "outputId": "281513e7-4254-4651-9481-4fe7792c022d"
      },
      "source": [
        "age_group_percent.head(50)"
      ],
      "execution_count": 131,
      "outputs": [
        {
          "output_type": "execute_result",
          "data": {
            "text/html": [
              "<div>\n",
              "<style scoped>\n",
              "    .dataframe tbody tr th:only-of-type {\n",
              "        vertical-align: middle;\n",
              "    }\n",
              "\n",
              "    .dataframe tbody tr th {\n",
              "        vertical-align: top;\n",
              "    }\n",
              "\n",
              "    .dataframe thead th {\n",
              "        text-align: right;\n",
              "    }\n",
              "</style>\n",
              "<table border=\"1\" class=\"dataframe\">\n",
              "  <thead>\n",
              "    <tr style=\"text-align: right;\">\n",
              "      <th></th>\n",
              "      <th>Indicator</th>\n",
              "      <th>Total Percentage</th>\n",
              "    </tr>\n",
              "  </thead>\n",
              "  <tbody>\n",
              "    <tr>\n",
              "      <th>0</th>\n",
              "      <td>Under 1 year</td>\n",
              "      <td>1.17</td>\n",
              "    </tr>\n",
              "    <tr>\n",
              "      <th>1</th>\n",
              "      <td>1–4 years</td>\n",
              "      <td>7.33</td>\n",
              "    </tr>\n",
              "    <tr>\n",
              "      <th>2</th>\n",
              "      <td>5–14 years</td>\n",
              "      <td>12.56</td>\n",
              "    </tr>\n",
              "    <tr>\n",
              "      <th>3</th>\n",
              "      <td>15–24 years</td>\n",
              "      <td>13.14</td>\n",
              "    </tr>\n",
              "    <tr>\n",
              "      <th>4</th>\n",
              "      <td>25–34 years</td>\n",
              "      <td>12.66</td>\n",
              "    </tr>\n",
              "    <tr>\n",
              "      <th>5</th>\n",
              "      <td>35–44 years</td>\n",
              "      <td>12.62</td>\n",
              "    </tr>\n",
              "    <tr>\n",
              "      <th>6</th>\n",
              "      <td>45–54 year</td>\n",
              "      <td>12.73</td>\n",
              "    </tr>\n",
              "    <tr>\n",
              "      <th>7</th>\n",
              "      <td>55–64 years</td>\n",
              "      <td>11.77</td>\n",
              "    </tr>\n",
              "    <tr>\n",
              "      <th>8</th>\n",
              "      <td>65–74 years</td>\n",
              "      <td>8.64</td>\n",
              "    </tr>\n",
              "    <tr>\n",
              "      <th>9</th>\n",
              "      <td>75–84 years</td>\n",
              "      <td>4.68</td>\n",
              "    </tr>\n",
              "    <tr>\n",
              "      <th>10</th>\n",
              "      <td>85 years and over</td>\n",
              "      <td>1.99</td>\n",
              "    </tr>\n",
              "  </tbody>\n",
              "</table>\n",
              "</div>"
            ],
            "text/plain": [
              "            Indicator  Total Percentage\n",
              "0        Under 1 year              1.17\n",
              "1           1–4 years              7.33\n",
              "2          5–14 years             12.56\n",
              "3         15–24 years             13.14\n",
              "4         25–34 years             12.66\n",
              "5         35–44 years             12.62\n",
              "6          45–54 year             12.73\n",
              "7         55–64 years             11.77\n",
              "8         65–74 years              8.64\n",
              "9         75–84 years              4.68\n",
              "10  85 years and over              1.99"
            ]
          },
          "metadata": {
            "tags": []
          },
          "execution_count": 131
        }
      ]
    },
    {
      "cell_type": "code",
      "metadata": {
        "id": "RIlb-qMCLW0D",
        "colab_type": "code",
        "colab": {
          "base_uri": "https://localhost:8080/",
          "height": 65
        },
        "outputId": "18eb21af-d03a-4f92-dea1-b40ded59c910"
      },
      "source": [
        "age_group_percent.Indicator.unique()"
      ],
      "execution_count": 132,
      "outputs": [
        {
          "output_type": "execute_result",
          "data": {
            "text/plain": [
              "array(['Under 1 year', ' 1–4 years', '5–14 years', '15–24 years',\n",
              "       '25–34 years', '35–44 years', '45–54 year', '55–64 years',\n",
              "       '65–74 years', '75–84 years', '85 years and over'], dtype=object)"
            ]
          },
          "metadata": {
            "tags": []
          },
          "execution_count": 132
        }
      ]
    },
    {
      "cell_type": "code",
      "metadata": {
        "id": "COjDznzGMo7g",
        "colab_type": "code",
        "colab": {}
      },
      "source": [
        "age_group_percent['Indicator'] = age_group_percent['Indicator'].str.strip()"
      ],
      "execution_count": 0,
      "outputs": []
    },
    {
      "cell_type": "code",
      "metadata": {
        "id": "TYUnBgoENgST",
        "colab_type": "code",
        "colab": {
          "base_uri": "https://localhost:8080/",
          "height": 65
        },
        "outputId": "a02b689e-e346-4f76-871b-4a943ecc2cbb"
      },
      "source": [
        "age_group_percent.Indicator.unique()"
      ],
      "execution_count": 134,
      "outputs": [
        {
          "output_type": "execute_result",
          "data": {
            "text/plain": [
              "array(['Under 1 year', '1–4 years', '5–14 years', '15–24 years',\n",
              "       '25–34 years', '35–44 years', '45–54 year', '55–64 years',\n",
              "       '65–74 years', '75–84 years', '85 years and over'], dtype=object)"
            ]
          },
          "metadata": {
            "tags": []
          },
          "execution_count": 134
        }
      ]
    },
    {
      "cell_type": "code",
      "metadata": {
        "id": "qbxFKvcXog-o",
        "colab_type": "code",
        "colab": {}
      },
      "source": [
        "age_covid1 = pd.merge(age_group_percent,age_covid, on='Indicator')"
      ],
      "execution_count": 0,
      "outputs": []
    },
    {
      "cell_type": "code",
      "metadata": {
        "id": "-Bac2TcJE0Xb",
        "colab_type": "code",
        "colab": {
          "base_uri": "https://localhost:8080/",
          "height": 551
        },
        "outputId": "9e83e9a3-255f-4a90-a168-8f7eccbd921e"
      },
      "source": [
        "age_covid1.head(20)"
      ],
      "execution_count": 136,
      "outputs": [
        {
          "output_type": "execute_result",
          "data": {
            "text/html": [
              "<div>\n",
              "<style scoped>\n",
              "    .dataframe tbody tr th:only-of-type {\n",
              "        vertical-align: middle;\n",
              "    }\n",
              "\n",
              "    .dataframe tbody tr th {\n",
              "        vertical-align: top;\n",
              "    }\n",
              "\n",
              "    .dataframe thead th {\n",
              "        text-align: right;\n",
              "    }\n",
              "</style>\n",
              "<table border=\"1\" class=\"dataframe\">\n",
              "  <thead>\n",
              "    <tr style=\"text-align: right;\">\n",
              "      <th></th>\n",
              "      <th>Indicator</th>\n",
              "      <th>Total Percentage</th>\n",
              "      <th>Data as of</th>\n",
              "      <th>Group</th>\n",
              "      <th>State</th>\n",
              "      <th>Start week</th>\n",
              "      <th>End week</th>\n",
              "      <th>All COVID-19 Deaths (U07.1)</th>\n",
              "      <th>Deaths from All Causes</th>\n",
              "      <th>Percent of Expected Deaths</th>\n",
              "      <th>All Pneumonia Deaths (J12.0-J18.9)</th>\n",
              "      <th>Deaths with Pneumonia and COVID-19 (J12.0-J18.9 and U07.1)</th>\n",
              "      <th>All Influenza Deaths (J09-J11)</th>\n",
              "    </tr>\n",
              "  </thead>\n",
              "  <tbody>\n",
              "    <tr>\n",
              "      <th>0</th>\n",
              "      <td>Under 1 year</td>\n",
              "      <td>1.17</td>\n",
              "      <td>4/17/2020</td>\n",
              "      <td>By age</td>\n",
              "      <td>United States</td>\n",
              "      <td>2/1/2020</td>\n",
              "      <td>4/18/2020</td>\n",
              "      <td>0</td>\n",
              "      <td>3,224</td>\n",
              "      <td>0.9</td>\n",
              "      <td>28</td>\n",
              "      <td>0</td>\n",
              "      <td>11</td>\n",
              "    </tr>\n",
              "    <tr>\n",
              "      <th>1</th>\n",
              "      <td>1–4 years</td>\n",
              "      <td>7.33</td>\n",
              "      <td>4/17/2020</td>\n",
              "      <td>By age</td>\n",
              "      <td>United States</td>\n",
              "      <td>2/1/2020</td>\n",
              "      <td>4/18/2020</td>\n",
              "      <td>2</td>\n",
              "      <td>636</td>\n",
              "      <td>0.9</td>\n",
              "      <td>31</td>\n",
              "      <td>2</td>\n",
              "      <td>28</td>\n",
              "    </tr>\n",
              "    <tr>\n",
              "      <th>2</th>\n",
              "      <td>5–14 years</td>\n",
              "      <td>12.56</td>\n",
              "      <td>4/17/2020</td>\n",
              "      <td>By age</td>\n",
              "      <td>United States</td>\n",
              "      <td>2/1/2020</td>\n",
              "      <td>4/18/2020</td>\n",
              "      <td>1</td>\n",
              "      <td>939</td>\n",
              "      <td>0.9</td>\n",
              "      <td>33</td>\n",
              "      <td>0</td>\n",
              "      <td>38</td>\n",
              "    </tr>\n",
              "    <tr>\n",
              "      <th>3</th>\n",
              "      <td>15–24 years</td>\n",
              "      <td>13.14</td>\n",
              "      <td>4/17/2020</td>\n",
              "      <td>By age</td>\n",
              "      <td>United States</td>\n",
              "      <td>2/1/2020</td>\n",
              "      <td>4/18/2020</td>\n",
              "      <td>17</td>\n",
              "      <td>5,474</td>\n",
              "      <td>0.9</td>\n",
              "      <td>110</td>\n",
              "      <td>6</td>\n",
              "      <td>38</td>\n",
              "    </tr>\n",
              "    <tr>\n",
              "      <th>4</th>\n",
              "      <td>25–34 years</td>\n",
              "      <td>12.66</td>\n",
              "      <td>4/17/2020</td>\n",
              "      <td>By age</td>\n",
              "      <td>United States</td>\n",
              "      <td>2/1/2020</td>\n",
              "      <td>4/18/2020</td>\n",
              "      <td>139</td>\n",
              "      <td>11,595</td>\n",
              "      <td>0.9</td>\n",
              "      <td>346</td>\n",
              "      <td>57</td>\n",
              "      <td>121</td>\n",
              "    </tr>\n",
              "    <tr>\n",
              "      <th>5</th>\n",
              "      <td>35–44 years</td>\n",
              "      <td>12.62</td>\n",
              "      <td>4/17/2020</td>\n",
              "      <td>By age</td>\n",
              "      <td>United States</td>\n",
              "      <td>2/1/2020</td>\n",
              "      <td>4/18/2020</td>\n",
              "      <td>351</td>\n",
              "      <td>16,718</td>\n",
              "      <td>0.9</td>\n",
              "      <td>752</td>\n",
              "      <td>124</td>\n",
              "      <td>192</td>\n",
              "    </tr>\n",
              "    <tr>\n",
              "      <th>6</th>\n",
              "      <td>55–64 years</td>\n",
              "      <td>11.77</td>\n",
              "      <td>4/17/2020</td>\n",
              "      <td>By age</td>\n",
              "      <td>United States</td>\n",
              "      <td>2/1/2020</td>\n",
              "      <td>4/18/2020</td>\n",
              "      <td>2258</td>\n",
              "      <td>77,835</td>\n",
              "      <td>0.9</td>\n",
              "      <td>5,877</td>\n",
              "      <td>945</td>\n",
              "      <td>1,001</td>\n",
              "    </tr>\n",
              "    <tr>\n",
              "      <th>7</th>\n",
              "      <td>65–74 years</td>\n",
              "      <td>8.64</td>\n",
              "      <td>4/17/2020</td>\n",
              "      <td>By age</td>\n",
              "      <td>United States</td>\n",
              "      <td>2/1/2020</td>\n",
              "      <td>4/18/2020</td>\n",
              "      <td>3829</td>\n",
              "      <td>121,198</td>\n",
              "      <td>0.9</td>\n",
              "      <td>10,137</td>\n",
              "      <td>1613</td>\n",
              "      <td>1,191</td>\n",
              "    </tr>\n",
              "    <tr>\n",
              "      <th>8</th>\n",
              "      <td>75–84 years</td>\n",
              "      <td>4.68</td>\n",
              "      <td>4/17/2020</td>\n",
              "      <td>By age</td>\n",
              "      <td>United States</td>\n",
              "      <td>2/1/2020</td>\n",
              "      <td>4/18/2020</td>\n",
              "      <td>4780</td>\n",
              "      <td>152,251</td>\n",
              "      <td>0.9</td>\n",
              "      <td>13,612</td>\n",
              "      <td>2232</td>\n",
              "      <td>1,199</td>\n",
              "    </tr>\n",
              "    <tr>\n",
              "      <th>9</th>\n",
              "      <td>85 years and over</td>\n",
              "      <td>1.99</td>\n",
              "      <td>4/17/2020</td>\n",
              "      <td>By age</td>\n",
              "      <td>United States</td>\n",
              "      <td>2/1/2020</td>\n",
              "      <td>4/18/2020</td>\n",
              "      <td>4909</td>\n",
              "      <td>193,351</td>\n",
              "      <td>0.9</td>\n",
              "      <td>16,113</td>\n",
              "      <td>2322</td>\n",
              "      <td>1,125</td>\n",
              "    </tr>\n",
              "  </tbody>\n",
              "</table>\n",
              "</div>"
            ],
            "text/plain": [
              "           Indicator  ...  All Influenza Deaths (J09-J11)\n",
              "0       Under 1 year  ...                              11\n",
              "1          1–4 years  ...                              28\n",
              "2         5–14 years  ...                              38\n",
              "3        15–24 years  ...                              38\n",
              "4        25–34 years  ...                             121\n",
              "5        35–44 years  ...                             192\n",
              "6        55–64 years  ...                           1,001\n",
              "7        65–74 years  ...                           1,191\n",
              "8        75–84 years  ...                           1,199\n",
              "9  85 years and over  ...                           1,125\n",
              "\n",
              "[10 rows x 13 columns]"
            ]
          },
          "metadata": {
            "tags": []
          },
          "execution_count": 136
        }
      ]
    },
    {
      "cell_type": "code",
      "metadata": {
        "id": "oeGZwYgZFIW8",
        "colab_type": "code",
        "colab": {
          "base_uri": "https://localhost:8080/",
          "height": 715
        },
        "outputId": "0f446bfe-99c3-417f-ab6d-b8efd0089e9c"
      },
      "source": [
        "plt.figure(figsize=[10,10])\n",
        "plt.scatter(age_covid1['Indicator'],100*age_covid1['All COVID-19 Deaths (U07.1)']/(age_covid1['Total Percentage']*328e4), label='All COVID-19 Deaths')\n",
        "#plt.yscale('log')\n",
        "plt.xticks(rotation=90)\n",
        "plt.ylabel('Percentages of Covid-19 Deaths', fontsize=15)\n",
        "plt.xlabel('Age Groups', fontsize=15)\n",
        "plt.title('COVID-19 DEATHS VS AGE GROUPS from date 2/1/2020-4/18/2020', fontsize=25)\n",
        "plt.legend(borderpad=2, labelspacing=2,fontsize=10);"
      ],
      "execution_count": 149,
      "outputs": [
        {
          "output_type": "display_data",
          "data": {
            "image/png": "[encoded data removed]",
            "text/plain": [
              "<Figure size 720x720 with 1 Axes>"
            ]
          },
          "metadata": {
            "tags": [],
            "needs_background": "light"
          }
        }
      ]
    },
    {
      "cell_type": "code",
      "metadata": {
        "id": "7WdwRh5TPNG6",
        "colab_type": "code",
        "colab": {}
      },
      "source": [
        "# print(100*age_covid1['All COVID-19 Deaths (U07.1)']/(age_covid1['Total Percentage']*328e4))\n",
        "# print(np.log(100*age_covid1['All COVID-19 Deaths (U07.1)']/(age_covid1['Total Percentage']*328e4)))\n",
        "# print(age_covid1['All COVID-19 Deaths (U07.1)']/age_covid1['Total Percentage']/328e8)\n",
        "# print(age_covid1['All COVID-19 Deaths (U07.1)'])"
      ],
      "execution_count": 0,
      "outputs": []
    },
    {
      "cell_type": "markdown",
      "metadata": {
        "id": "FpABuTsalnvA",
        "colab_type": "text"
      },
      "source": [
        "## Public Transportation "
      ]
    },
    {
      "cell_type": "code",
      "metadata": {
        "id": "k2VFh_wSp9OD",
        "colab_type": "code",
        "colab": {}
      },
      "source": [
        "pub_trans = pd.read_csv('/content/drive/My Drive/COVID19 Capstone/Means of Transportation to Work, age 16 years by State.csv', skiprows=[0])\n",
        "pub_trans = pub_trans.drop(index=list([11,51,52])).reset_index(drop=True,inplace=False)\n",
        "pub_trans = pd.DataFrame(pub_trans, columns=['State','Public transportation (excluding taxicab)'])"
      ],
      "execution_count": 0,
      "outputs": []
    },
    {
      "cell_type": "code",
      "metadata": {
        "id": "mhchHZenuxNg",
        "colab_type": "code",
        "colab": {}
      },
      "source": [
        "pub_trans.head()"
      ],
      "execution_count": 0,
      "outputs": []
    },
    {
      "cell_type": "code",
      "metadata": {
        "id": "n0_N-xevuz_E",
        "colab_type": "code",
        "colab": {}
      },
      "source": [
        "pub_trans.shape"
      ],
      "execution_count": 0,
      "outputs": []
    },
    {
      "cell_type": "code",
      "metadata": {
        "id": "cKJDtZ8LIxTP",
        "colab_type": "code",
        "colab": {}
      },
      "source": [
        "pub_trans.dtypes"
      ],
      "execution_count": 0,
      "outputs": []
    },
    {
      "cell_type": "code",
      "metadata": {
        "id": "R4m29sPTIzr4",
        "colab_type": "code",
        "colab": {}
      },
      "source": [
        "pub_trans['Public transportation (excluding taxicab)'] = pub_trans['Public transportation (excluding taxicab)'].str.replace(',', '')\n",
        "pub_trans['Public transportation (excluding taxicab)'] = pub_trans['Public transportation (excluding taxicab)'].astype(int)"
      ],
      "execution_count": 0,
      "outputs": []
    },
    {
      "cell_type": "code",
      "metadata": {
        "id": "hRhpTAjElrRh",
        "colab_type": "code",
        "colab": {}
      },
      "source": [
        "cases_per_state.head()"
      ],
      "execution_count": 0,
      "outputs": []
    },
    {
      "cell_type": "code",
      "metadata": {
        "id": "5OU9JK-zq5Jk",
        "colab_type": "code",
        "colab": {}
      },
      "source": [
        "pub_trans = pd.merge(pub_trans,cases_per_state, on='State')"
      ],
      "execution_count": 0,
      "outputs": []
    },
    {
      "cell_type": "code",
      "metadata": {
        "id": "l-oFUjMWyJzI",
        "colab_type": "code",
        "colab": {}
      },
      "source": [
        "pub_trans.head()"
      ],
      "execution_count": 0,
      "outputs": []
    },
    {
      "cell_type": "code",
      "metadata": {
        "id": "EiZfCkX1ImY7",
        "colab_type": "code",
        "colab": {}
      },
      "source": [
        "pub_trans.dtypes"
      ],
      "execution_count": 0,
      "outputs": []
    },
    {
      "cell_type": "code",
      "metadata": {
        "id": "Ihn048JYyLG1",
        "colab_type": "code",
        "colab": {}
      },
      "source": [
        "pub_trans['Population using PubTrans (%)'] = pub_trans['Public transportation (excluding taxicab)']/pub_trans['Pop']*100"
      ],
      "execution_count": 0,
      "outputs": []
    },
    {
      "cell_type": "code",
      "metadata": {
        "id": "S0igZr5wEgck",
        "colab_type": "code",
        "colab": {}
      },
      "source": [
        "pub_trans.head()"
      ],
      "execution_count": 0,
      "outputs": []
    },
    {
      "cell_type": "code",
      "metadata": {
        "id": "0TPpoF9JKXlF",
        "colab_type": "code",
        "colab": {}
      },
      "source": [
        "pub_trans.case_per_capita.head().sort_values(ascending=False)"
      ],
      "execution_count": 0,
      "outputs": []
    },
    {
      "cell_type": "code",
      "metadata": {
        "id": "WgaEkEnCJG_O",
        "colab_type": "code",
        "colab": {}
      },
      "source": [
        "plt.figure(figsize=[10,10])\n",
        "\n",
        "plt.bar(pub_trans['State'], pub_trans['Population using PubTrans (%)'],\n",
        "        color='b', label='Percent of Population using Public Transportation')\n",
        "plt.bar(pub_trans['State'], pub_trans['case_per_capita'],\n",
        "        color='r', label='Cases per Capita')\n",
        "\n",
        "plt.yscale('log')\n",
        "plt.title('Percent of Population using Public Transportation vs Cases per capita', fontsize=25)\n",
        "plt.ylabel('Percent of Population using Public Transportation', fontsize=15)\n",
        "plt.xticks(rotation=90)\n",
        "plt.legend(borderpad=2, labelspacing=2,fontsize=10);"
      ],
      "execution_count": 0,
      "outputs": []
    }
  ]
}